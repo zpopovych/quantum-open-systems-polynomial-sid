{
 "cells": [
  {
   "cell_type": "code",
   "execution_count": 1,
   "id": "2b97bc7f",
   "metadata": {},
   "outputs": [],
   "source": [
    "#from boson_data_lib import *\n",
    "import numpy as np\n",
    "import scipy.linalg as sl\n",
    "import os\n",
    "import pandas as pd\n",
    "import glob"
   ]
  },
  {
   "cell_type": "code",
   "execution_count": 2,
   "id": "e0bcd726",
   "metadata": {},
   "outputs": [],
   "source": [
    "import h5py"
   ]
  },
  {
   "cell_type": "code",
   "execution_count": 3,
   "id": "51aaf20f",
   "metadata": {},
   "outputs": [],
   "source": [
    "data_dir = \"DATA/\"\n",
    "tests_dir = \"\"\n",
    "new_data_dir = \"\""
   ]
  },
  {
   "cell_type": "code",
   "execution_count": 4,
   "id": "7518da3c",
   "metadata": {},
   "outputs": [],
   "source": [
    "def read_as_dataframe(filename, tests_dir):\n",
    "\n",
    "    df = pd.DataFrame()\n",
    "    \n",
    "    print(\"Processing...\")\n",
    "    \n",
    "    with h5py.File(tests_dir+filename, \"r\") as f:\n",
    "        \n",
    "        gammas = ['0.079477', '0.25133', '0.79477', '2.5133', '7.9477', '25.133', '79.477', '251.33']    \n",
    "        #gammas = f.keys()\n",
    "\n",
    "        for gamma in gammas:\n",
    "            \n",
    "            print(gamma)\n",
    "            \n",
    "            #init_states = f[gamma].keys()\n",
    "            init_states = [\"D\"+str(i) for i in range(1, 11)] \n",
    "            \n",
    "            for state in init_states:\n",
    "                \n",
    "                Fidelity = f[gamma][state][\"Fidelity\"][()]\n",
    "                #tr_dist = f[gamma][state][\"tr_dist_grnd\"][()]\n",
    "                time = f[gamma][state][\"time\"][()]\n",
    "\n",
    "                ser_len = len(Fidelity)\n",
    "\n",
    "                gamma_column = [gamma] * ser_len\n",
    "                state_column = [state] * ser_len\n",
    "\n",
    "                #tr_dist_column = [tr_dist] * ser_len      \n",
    "                \n",
    "                gamma_time_column = np.array(time)*float(gamma) \n",
    "\n",
    "                d_ser = {'Gamma': gamma_column,\n",
    "                         'State': state_column,\n",
    "                         'Time': time, \n",
    "                         'gt': gamma_time_column,\n",
    "                         'Fidelity': Fidelity,\n",
    "                         'Infidelity': 1-Fidelity#,\n",
    "                         #'Distance': tr_dist_column\n",
    "                         }\n",
    "\n",
    "                df_ser = pd.DataFrame(data = d_ser)   \n",
    "                df = pd.concat([df, df_ser])\n",
    "    \n",
    "    print(\" done!\")\n",
    "    \n",
    "    return df"
   ]
  },
  {
   "cell_type": "code",
   "execution_count": 6,
   "id": "0147ad92",
   "metadata": {},
   "outputs": [],
   "source": [
    "\n",
    "test_file =\"KOSSAK_CONSTR_TSSOS_treshold_1e-15_FROB_QO_2024-Sep-06_at_11-57.h5\"\n"
   ]
  },
  {
   "cell_type": "code",
   "execution_count": 7,
   "id": "7b0ef3f5",
   "metadata": {},
   "outputs": [
    {
     "name": "stdout",
     "output_type": "stream",
     "text": [
      "Processing...\n",
      "0.079477\n",
      "0.25133\n",
      "0.79477\n",
      "2.5133\n",
      "7.9477\n",
      "25.133\n",
      "79.477\n",
      "251.33\n",
      " done!\n"
     ]
    }
   ],
   "source": [
    "df = read_as_dataframe(test_file, tests_dir)"
   ]
  },
  {
   "cell_type": "code",
   "execution_count": 8,
   "id": "c3570b6e",
   "metadata": {},
   "outputs": [
    {
     "data": {
      "text/html": [
       "<div>\n",
       "<style scoped>\n",
       "    .dataframe tbody tr th:only-of-type {\n",
       "        vertical-align: middle;\n",
       "    }\n",
       "\n",
       "    .dataframe tbody tr th {\n",
       "        vertical-align: top;\n",
       "    }\n",
       "\n",
       "    .dataframe thead th {\n",
       "        text-align: right;\n",
       "    }\n",
       "</style>\n",
       "<table border=\"1\" class=\"dataframe\">\n",
       "  <thead>\n",
       "    <tr style=\"text-align: right;\">\n",
       "      <th></th>\n",
       "      <th>Gamma</th>\n",
       "      <th>State</th>\n",
       "      <th>Time</th>\n",
       "      <th>gt</th>\n",
       "      <th>Fidelity</th>\n",
       "      <th>Infidelity</th>\n",
       "    </tr>\n",
       "  </thead>\n",
       "  <tbody>\n",
       "    <tr>\n",
       "      <th>0</th>\n",
       "      <td>0.079477</td>\n",
       "      <td>D1</td>\n",
       "      <td>0.06000</td>\n",
       "      <td>0.004769</td>\n",
       "      <td>1.000000</td>\n",
       "      <td>-6.039613e-14</td>\n",
       "    </tr>\n",
       "    <tr>\n",
       "      <th>1</th>\n",
       "      <td>0.079477</td>\n",
       "      <td>D1</td>\n",
       "      <td>0.08000</td>\n",
       "      <td>0.006358</td>\n",
       "      <td>1.000000</td>\n",
       "      <td>2.625776e-07</td>\n",
       "    </tr>\n",
       "    <tr>\n",
       "      <th>2</th>\n",
       "      <td>0.079477</td>\n",
       "      <td>D1</td>\n",
       "      <td>0.10000</td>\n",
       "      <td>0.007948</td>\n",
       "      <td>1.000000</td>\n",
       "      <td>4.036104e-07</td>\n",
       "    </tr>\n",
       "    <tr>\n",
       "      <th>3</th>\n",
       "      <td>0.079477</td>\n",
       "      <td>D1</td>\n",
       "      <td>0.12000</td>\n",
       "      <td>0.009537</td>\n",
       "      <td>0.999998</td>\n",
       "      <td>1.781002e-06</td>\n",
       "    </tr>\n",
       "    <tr>\n",
       "      <th>4</th>\n",
       "      <td>0.079477</td>\n",
       "      <td>D1</td>\n",
       "      <td>0.14000</td>\n",
       "      <td>0.011127</td>\n",
       "      <td>0.999990</td>\n",
       "      <td>1.047645e-05</td>\n",
       "    </tr>\n",
       "    <tr>\n",
       "      <th>...</th>\n",
       "      <td>...</td>\n",
       "      <td>...</td>\n",
       "      <td>...</td>\n",
       "      <td>...</td>\n",
       "      <td>...</td>\n",
       "      <td>...</td>\n",
       "    </tr>\n",
       "    <tr>\n",
       "      <th>496</th>\n",
       "      <td>251.33</td>\n",
       "      <td>D10</td>\n",
       "      <td>0.02480</td>\n",
       "      <td>6.232984</td>\n",
       "      <td>0.999956</td>\n",
       "      <td>4.444445e-05</td>\n",
       "    </tr>\n",
       "    <tr>\n",
       "      <th>497</th>\n",
       "      <td>251.33</td>\n",
       "      <td>D10</td>\n",
       "      <td>0.02485</td>\n",
       "      <td>6.245551</td>\n",
       "      <td>0.999956</td>\n",
       "      <td>4.438674e-05</td>\n",
       "    </tr>\n",
       "    <tr>\n",
       "      <th>498</th>\n",
       "      <td>251.33</td>\n",
       "      <td>D10</td>\n",
       "      <td>0.02490</td>\n",
       "      <td>6.258117</td>\n",
       "      <td>0.999956</td>\n",
       "      <td>4.432871e-05</td>\n",
       "    </tr>\n",
       "    <tr>\n",
       "      <th>499</th>\n",
       "      <td>251.33</td>\n",
       "      <td>D10</td>\n",
       "      <td>0.02495</td>\n",
       "      <td>6.270684</td>\n",
       "      <td>0.999956</td>\n",
       "      <td>4.427047e-05</td>\n",
       "    </tr>\n",
       "    <tr>\n",
       "      <th>500</th>\n",
       "      <td>251.33</td>\n",
       "      <td>D10</td>\n",
       "      <td>0.02500</td>\n",
       "      <td>6.283250</td>\n",
       "      <td>0.999956</td>\n",
       "      <td>4.421214e-05</td>\n",
       "    </tr>\n",
       "  </tbody>\n",
       "</table>\n",
       "<p>165924 rows × 6 columns</p>\n",
       "</div>"
      ],
      "text/plain": [
       "        Gamma State     Time        gt  Fidelity    Infidelity\n",
       "0    0.079477    D1  0.06000  0.004769  1.000000 -6.039613e-14\n",
       "1    0.079477    D1  0.08000  0.006358  1.000000  2.625776e-07\n",
       "2    0.079477    D1  0.10000  0.007948  1.000000  4.036104e-07\n",
       "3    0.079477    D1  0.12000  0.009537  0.999998  1.781002e-06\n",
       "4    0.079477    D1  0.14000  0.011127  0.999990  1.047645e-05\n",
       "..        ...   ...      ...       ...       ...           ...\n",
       "496    251.33   D10  0.02480  6.232984  0.999956  4.444445e-05\n",
       "497    251.33   D10  0.02485  6.245551  0.999956  4.438674e-05\n",
       "498    251.33   D10  0.02490  6.258117  0.999956  4.432871e-05\n",
       "499    251.33   D10  0.02495  6.270684  0.999956  4.427047e-05\n",
       "500    251.33   D10  0.02500  6.283250  0.999956  4.421214e-05\n",
       "\n",
       "[165924 rows x 6 columns]"
      ]
     },
     "execution_count": 8,
     "metadata": {},
     "output_type": "execute_result"
    }
   ],
   "source": [
    "df"
   ]
  },
  {
   "cell_type": "code",
   "execution_count": 9,
   "id": "6a3987ad",
   "metadata": {},
   "outputs": [],
   "source": [
    "pkl_name = \"dataframe_\"+test_file[:-3]+\".pkl\"\n",
    "\n",
    "df.to_pickle(tests_dir+pkl_name)"
   ]
  },
  {
   "cell_type": "code",
   "execution_count": 10,
   "id": "db7dd068",
   "metadata": {},
   "outputs": [
    {
     "data": {
      "text/plain": [
       "'dataframe_KOSSAK_CONSTR_TSSOS_treshold_1e-15_FROB_QO_2024-Sep-06_at_11-57.pkl'"
      ]
     },
     "execution_count": 10,
     "metadata": {},
     "output_type": "execute_result"
    }
   ],
   "source": [
    "pkl_name"
   ]
  },
  {
   "cell_type": "code",
   "execution_count": 11,
   "id": "4fa1c87f",
   "metadata": {},
   "outputs": [
    {
     "data": {
      "text/plain": [
       "'dataframe_KOSSAK_CONSTR_TSSOS_treshold_1e-15_FROB_QO_2024-Sep-06_at_11-57.pkl'"
      ]
     },
     "execution_count": 11,
     "metadata": {},
     "output_type": "execute_result"
    }
   ],
   "source": [
    "tests_dir+pkl_name"
   ]
  },
  {
   "cell_type": "markdown",
   "id": "0fad5275",
   "metadata": {},
   "source": []
  }
 ],
 "metadata": {
  "@webio": {
   "lastCommId": null,
   "lastKernelId": null
  },
  "kernelspec": {
   "display_name": "base",
   "language": "python",
   "name": "python3"
  },
  "language_info": {
   "codemirror_mode": {
    "name": "ipython",
    "version": 3
   },
   "file_extension": ".py",
   "mimetype": "text/x-python",
   "name": "python",
   "nbconvert_exporter": "python",
   "pygments_lexer": "ipython3",
   "version": "3.11.4"
  }
 },
 "nbformat": 4,
 "nbformat_minor": 5
}
