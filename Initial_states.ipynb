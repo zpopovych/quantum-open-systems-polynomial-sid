{
 "cells": [
  {
   "cell_type": "code",
   "execution_count": 1,
   "metadata": {},
   "outputs": [],
   "source": [
    "include(\"LiPoSID.jl\")\n",
    "\n",
    "using QuantumOptics\n",
    "basis = NLevelBasis(2)\n",
    "using LinearAlgebra\n",
    "\n",
    "using HDF5\n",
    "\n",
    "using Statistics"
   ]
  },
  {
   "cell_type": "code",
   "execution_count": 7,
   "metadata": {},
   "outputs": [
    {
     "data": {
      "text/plain": [
       "\"DATA/ALL_GAMMAS_B4_D10.h5\""
      ]
     },
     "metadata": {},
     "output_type": "display_data"
    }
   ],
   "source": [
    "dodeca_10_states = [\"D\"*string(n) for n=1:10];\n",
    "basis_states = [\"B\"*string(n) for n=1:4];\n",
    "\n",
    "train_states = basis_states \n",
    "test_states = dodeca_10_states;\n",
    "\n",
    "evol_data_file_name = \"DATA/ALL_GAMMAS_B4_D10.h5\""
   ]
  },
  {
   "cell_type": "code",
   "execution_count": 11,
   "metadata": {},
   "outputs": [
    {
     "name": "stdout",
     "output_type": "stream",
     "text": [
      " Initial state of Spin boson data\n",
      "\n",
      "γ =  0.079477\n",
      "D1 D2 D3 D4 D5 D6 D7 D8 D9 D10 \n",
      "γ =  0.25133\n",
      "D1 D2 D3 D4 D5 D6 D7 D8 D9 D10 \n",
      "γ =  0.79477\n",
      "D1 D2 D3 D4 D5 D6 D7 D8 D9 D10 \n",
      "γ =  2.5133\n",
      "D1 D2 D3 D4 D5 D6 D7 D8 D9 D10 \n",
      "γ =  7.9477\n",
      "D1 D2 D3 D4 D5 D6 D7 D8 D9 D10 \n",
      "γ =  25.133\n",
      "D1 D2 D3 D4 D5 D6 D7 D8 D9 D10 \n",
      "γ =  79.477\n",
      "D1 D2 D3 D4 D5 D6 D7 D8 D9 D10 \n",
      "γ =  251.33\n",
      "D1 D2 D3 D4 D5 D6 D7 D8 D9 D10 "
     ]
    }
   ],
   "source": [
    "println(\" Initial state of Spin boson data\")\n",
    "\n",
    "γ = [ \"0.079477\",  \"0.25133\", \"0.79477\", \"2.5133\", \"7.9477\", \"25.133\", \"79.477\", \"251.33\"]\n",
    "\n",
    "init_states_data_file = \"SB_simulation_init_states.h5\"\n",
    "\n",
    "init_states_by_gamma = []\n",
    "init_times_by_gamma = []\n",
    "\n",
    "for γᵢ in γ\n",
    "\n",
    "    println()\n",
    "    println(\"γ =  \"*γᵢ)\n",
    "\n",
    "    h5open(init_states_data_file,\"cw\") do fid\n",
    "        γ_group = create_group(fid, γᵢ) # open gamma coupling group\n",
    "    end\n",
    "\n",
    "    init_states = []\n",
    "    init_times = []\n",
    "\n",
    "    for state in test_states # loop over initial states\n",
    "        \n",
    "        print(state*\" \")\n",
    "\n",
    "        tₛ, ρₛ = LiPoSID.read_timeevolution(evol_data_file_name, state, γᵢ)\n",
    "\n",
    "        ρₒ = ρₛ[1]\n",
    "        tₒ = tₛ[1]\n",
    "\n",
    "        h5open(init_states_data_file,\"cw\") do fid\n",
    "            γ_group = open_group(fid, γᵢ) # open gamma coupling group\n",
    "            init_state_group = create_group(γ_group, state) # create initial state group\n",
    "            init_state_group[\"rho_init\"] = convert.(ComplexF64, ρₒ)\n",
    "            init_state_group[\"time_init\"] = convert.(ComplexF64, tₒ)\n",
    "        end\n",
    "    \n",
    "        push!(init_states, ρₒ)\n",
    "        push!(init_times, tₒ)\n",
    "    \n",
    "    end\n",
    "\n",
    "    push!(init_states_by_gamma, init_states)\n",
    "    push!(init_times_by_gamma, init_times)\n",
    "\n",
    "end"
   ]
  },
  {
   "cell_type": "code",
   "execution_count": null,
   "metadata": {},
   "outputs": [],
   "source": [
    "        ρₛ = convert(Vector{Matrix{ComplexF64}}, ρₛ)\n",
    "        #bᵗˢᵗ = LiPoSID.bloch(ρₛ)\n",
    "        ρᵗˢᵗ = [DenseOperator(basis,Hermitian(ρₜ)) for ρₜ in ρₛ]\n",
    "        tᵗˢᵗ = convert(Vector{Float64}, tₛ)"
   ]
  }
 ],
 "metadata": {
  "kernelspec": {
   "display_name": "Julia 1.10.2",
   "language": "julia",
   "name": "julia-1.10"
  },
  "language_info": {
   "file_extension": ".jl",
   "mimetype": "application/julia",
   "name": "julia",
   "version": "1.10.2"
  }
 },
 "nbformat": 4,
 "nbformat_minor": 2
}
