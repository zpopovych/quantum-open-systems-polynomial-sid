{
 "cells": [
  {
   "cell_type": "markdown",
   "metadata": {},
   "source": [
    "### GKSL equation in Kossakowski form for the augmented Bloch vector "
   ]
  },
  {
   "cell_type": "markdown",
   "metadata": {},
   "source": [
    "According to the theorem proven by Kossakowski (Kossakowski, 1973) Markovian master equation could be rewritten for a two-level system $\\rho \\in M(2)$ as follows:\n",
    "\n",
    "$\n",
    "   \\mathcal{K} = -i[H,\\rho] + \\frac{1}{2} \\sum_{i,j}^3 C_{ij} \\{[f_i, \\rho f_j] + [f_i\\rho, f_j]\\}, \n",
    "$\n",
    "where"
   ]
  },
  {
   "cell_type": "markdown",
   "metadata": {},
   "source": [
    "$\n",
    "\\text{(i)} \\quad \\quad \n",
    "           f_i f_j = \\frac{1}{4}\\delta_{ij}I  +\\frac{i}{2} \\sum_{k=1}^3 \\epsilon_{ijk} f_k \\\\ \\text{which means:} \\notag \\\\ \\quad\n",
    "    \\operatorname{Tr}(f_i f_j)=\\frac{1}{2}\\delta_{ij}, \\quad \\operatorname{Tr}(f_i) = 0 \\notag \n",
    "$\n",
    "\n",
    "\n",
    "and we can choose basis operators $f_i$ as halfs of Pauli matrices \n",
    "$\\{ \\sigma_x, \\sigma_y, \\sigma_z \\}$:\n",
    "\n",
    "$\n",
    "    f_1 = \\sigma_x/2  = \n",
    "    \\begin{pmatrix}\n",
    "        0 & 1 \\\\ 1 & 0\n",
    "    \\end{pmatrix} / 2 \\\\\n",
    "    f_2 = \\sigma_y/2  = \\begin{pmatrix}\n",
    "        0 & i \\\\ -i & 0\n",
    "    \\end{pmatrix} / 2\\\\\n",
    "    f_3 = \\sigma_z/2 = \\begin{pmatrix}\n",
    "        1 & 0 \\\\ 0 & -1\n",
    "    \\end{pmatrix} / 2\n",
    "$"
   ]
  },
  {
   "cell_type": "markdown",
   "metadata": {},
   "source": [
    "$\n",
    "     \\text{(ii)} \\quad \\quad \\quad \n",
    "     H = \\sum_1^3 h_i f_i, \\quad h_i \\in \\mathbb{R}\n",
    "$\n",
    "\n",
    "which means we can use Hamiltonian of the form:\n",
    "\n",
    "$\n",
    "H = \\begin{pmatrix} \n",
    "h_3   & h_1 + i h_2          \\\\\n",
    "h_1 - i h_2 & -h_3\n",
    "\\end{pmatrix} / 2 \\\\\n",
    " = \\begin{pmatrix} \n",
    "h_z   & h_x + i h_y          \\\\\n",
    "h_x - i h_y & -h_z\n",
    "\\end{pmatrix} / 2 \n",
    "$"
   ]
  },
  {
   "cell_type": "markdown",
   "metadata": {},
   "source": [
    "$\n",
    "     \\text{(iii)} \\quad \\{C_{ij}\\} = \\begin{pmatrix} \n",
    "\\gamma - 2\\gamma_1    & - i a_3            &  i a_2 \\\\\n",
    "i a_3                 & \\gamma - 2\\gamma_2 & -i a_1 \\\\\n",
    "-i a_2                & i a_1              & \\gamma - 2\\gamma_3 \n",
    "\\end{pmatrix} \n",
    "=  \\begin{pmatrix} \n",
    "\\kappa_1   & - i a_3    &  i a_2 \\\\\n",
    "i a_3       & \\kappa_2   & -i a_1 \\\\\n",
    "-i a_2      & i a_1      & \\kappa_3 \n",
    "\\end{pmatrix}\n",
    "$\n",
    "\n",
    "$C =  \\begin{pmatrix}\n",
    "c_{11} & c_{12} & c_{13} \\\\\n",
    "c_{21} & c_{22} & c_{23} \\\\\n",
    "c_{31} & c_{32} & c_{33}\n",
    "\\end{pmatrix}$"
   ]
  },
  {
   "cell_type": "markdown",
   "metadata": {},
   "source": [
    "$\n",
    "    \\text{(iv)} \\quad \\quad \\quad \\quad \\gamma_1, \\gamma_2, \\gamma_3 \\geq 0\n",
    "$\n",
    "\n",
    "If $\\gamma = 0$ the evolution is just unitary, and in case $\\gamma >0 $ <br>\n",
    "in order for the evolution to be completely positive it is nessesary and sufficient that <br>\n",
    "(denoting $\\kappa_i = \\gamma - 2 \\gamma_i$):\n",
    "\n",
    "$\n",
    "    \\kappa_1 + \\kappa_2 + \\kappa_3 \\geq 0 \\\\\n",
    "\\kappa_1 \\kappa_2  + \\kappa_3 \\kappa_1  + \\kappa_1 \\kappa_2  \\geq a_1^2 + a_2^2 + a_3^2 \\\\\n",
    "   \\kappa_1 \\kappa_2 \\kappa_3 \\geq  \\kappa_1 a_1^2 + \\kappa_2 a_2^2 + \\kappa_3 a_3^2 \n",
    "$"
   ]
  },
  {
   "cell_type": "markdown",
   "metadata": {},
   "source": [
    "Standard GKSL in Bloch vector form:\n",
    "\n",
    "$\n",
    "\\frac{d\\mathbf{r}}{dt} = \\mathbf{\\omega} \\times \\mathbf{r} - \\Lambda \\mathbf{r} + \\mathbf{b}\n",
    "$\n",
    "\n",
    "where $\\omega$ = $\\{ h_1, h_2, h_3 \\}$\n",
    "\n",
    "$\\mathbf{\\omega} \\times \\mathbf{r} = \\Omega \\cdot \\mathbf{r}  \n",
    "= \\begin{pmatrix}\n",
    "0 & -h_z & h_y \\\\\n",
    "h_z & 0 & -h_x \\\\\n",
    "-h_y & h_x & 0\n",
    "\\end{pmatrix} \\cdot \\mathbf{r} $ \n",
    "\n",
    "Drift vector: $\\mathbf{b} = 2 \\sum_{i,j=1}^3 \\operatorname{Im} C_{ij} \\epsilon_{kij}$ with $\\epsilon_{kij}$ - Levi-Civita symbol\n",
    "\n",
    "$\\mathbf{b} = 2 \\operatorname{Im}  \\begin{pmatrix} c_{23}-c_{32} \\\\ c_{31} - c_{13} \\\\ c_{12} - c_{21} \\end{pmatrix} \n",
    "= 2 \\operatorname{Im} \\begin{pmatrix} -2i a_1 \\\\ -2i a_2 \\\\ -2i a_3 \\end{pmatrix} = 2 \\begin{pmatrix} -2 a_1 \\\\ -2 a_2 \\\\ -2 a_3 \\end{pmatrix}$\n",
    "\n",
    "Damping matrix:\n",
    "\n",
    "$\\Lambda_{kl} = 2 \\sum_{i,j=1}^3 C_{ij} (\\delta_{jk}\\delta_{jl} - \\frac{1}{2}\\delta_{ij}\\delta_{kl})$\n",
    "\n",
    "$\n",
    "\\Lambda = 2 \\begin{pmatrix}\n",
    "c_{11} - \\operatorname{Tr}(C) & c_{12} & c_{13} \\\\\n",
    "c_{12} & c_{22} - \\operatorname{Tr}(C) & c_{23} \\\\\n",
    "c_{13} & c_{23} & c_{33} - \\operatorname{Tr}(C)\n",
    "\\end{pmatrix}\n",
    "$\n",
    "\n",
    "$\n",
    "\\Lambda = 2 \\left( C - \\operatorname{Tr}(C) \\, I \\right)\n",
    "$"
   ]
  },
  {
   "cell_type": "markdown",
   "metadata": {},
   "source": []
  },
  {
   "cell_type": "markdown",
   "metadata": {},
   "source": [
    "#### GKSL for augmented Bloch vector\n",
    "\n",
    "$\\frac{d\\mathbf{\\tilde{r}}}{dt} = \\tilde{A_c} \\mathbf{\\tilde{r}}$\n",
    "\n",
    "\n",
    "$\\tilde{A_c} = \n",
    "\\begin{pmatrix}\n",
    "-\\Lambda + \\Omega & \\mathbf{b} \\\\\n",
    "\\mathbf{0}^T &  0\n",
    "\\end{pmatrix}\n",
    "$"
   ]
  },
  {
   "cell_type": "markdown",
   "metadata": {},
   "source": []
  },
  {
   "cell_type": "code",
   "execution_count": 1,
   "metadata": {},
   "outputs": [],
   "source": [
    "using DynamicPolynomials\n",
    "using LinearAlgebra"
   ]
  },
  {
   "cell_type": "code",
   "execution_count": 2,
   "metadata": {},
   "outputs": [
    {
     "data": {
      "text/plain": [
       "3×1 Matrix{Term{true, Int64}}:\n",
       " -4a₁\n",
       " -4a₂\n",
       " -4a₃"
      ]
     },
     "metadata": {},
     "output_type": "display_data"
    }
   ],
   "source": [
    "@polyvar κ[1:3]; κ₁,κ₂,κ₃ = κ[1],κ[2],κ[3]\n",
    "@polyvar a[1:3]; a₁,a₂,a₃ = a[1],a[2],a[3]\n",
    "\n",
    "Cˢʸᵐᵇ = [  κ₁     -im*a₃     im*a₂\n",
    "           im*a₃   κ₂       -im*a₁\n",
    "          -im*a₂   im*a₁     κ₃     ] ;\n",
    "\n",
    "Λ = 2*(Cˢʸᵐᵇ - tr(Cˢʸᵐᵇ)*I)\n",
    "\n",
    "@polyvar h[1:3]; h₁,h₂,h₃ = h[1],h[2],h[3]\n",
    "\n",
    "Hˢʸᵐᵇ = [ h₃          h₁+im*h₂\n",
    "          h₁-im*h₂   -h₃           ] / 2\n",
    "\n",
    "Ω = [  0   -h₃     h₂\n",
    "       h₃   0     -h₁\n",
    "      -h₂   h₁     0    ]  \n",
    "\n",
    "b = -4 * [a₁ a₂ a₃]'"
   ]
  },
  {
   "cell_type": "code",
   "execution_count": 52,
   "metadata": {},
   "outputs": [
    {
     "data": {
      "text/plain": [
       "4×4 Matrix{Polynomial{true, ComplexF64}}:\n",
       " (2.0+0.0im)κ₂ + (2.0+0.0im)κ₃                                        …  (-4.0+0.0im)a₁\n",
       " (2.0+0.0im)κ₁ + (2.0+0.0im)κ₂ + (2.0+0.0im)κ₃ + (0.0-2.0im)a₃ + h₃      (-4.0+0.0im)a₂\n",
       " (2.0+0.0im)κ₁ + (2.0+0.0im)κ₂ + (2.0+0.0im)κ₃ + (0.0+2.0im)a₂ + -h₂     (-4.0+0.0im)a₃\n",
       " 0.0+0.0im                                                               0.0+0.0im"
      ]
     },
     "metadata": {},
     "output_type": "display_data"
    }
   ],
   "source": [
    "Acˢʸᵐᵇ = [-Λ+Ω       b\n",
    "          zeros(3)'  0]"
   ]
  },
  {
   "cell_type": "code",
   "execution_count": 50,
   "metadata": {},
   "outputs": [
    {
     "data": {
      "text/plain": [
       "4×4 Matrix{Float64}:\n",
       " -1.09155e-8   -25.1327        0.000161443   2.89442e-5\n",
       " 25.1963        -0.795828     -0.000818289  -7.03521e-5\n",
       " -0.0366884     -0.00621641   -0.798674      0.79106\n",
       " -2.95082e-13   -4.98227e-13  -3.37554e-13  -2.0922e-14"
      ]
     },
     "metadata": {},
     "output_type": "display_data"
    }
   ],
   "source": [
    "using HDF5\n",
    "\n",
    "filename = \"../MODELS/DMD_b4_LTI_trn4_2024-Sep-15_at_00-06.h5\"\n",
    "\n",
    "γ = [ \"0.079477\",  \"0.25133\", \"0.79477\", \"2.5133\", \"7.9477\", \"25.133\",  \"79.477\", \"251.33\"]\n",
    "\n",
    "γᵢ = γ[3]\n",
    "\n",
    "function read_LSID_Ac(γᵢ)\n",
    "\n",
    "    h5open(filename, \"r\") do file\n",
    "        # Navigate to the dataset within the group\n",
    "        Ac = read(file[\"gamma_\"*γᵢ*\"/Ac\"])\n",
    "        \n",
    "        # Now you can use the dataset as needed\n",
    "        return(Ac)\n",
    "    end\n",
    "end \n",
    "\n",
    "Acˢⁱᵈ  = read_LSID_Ac(γᵢ)"
   ]
  },
  {
   "cell_type": "markdown",
   "metadata": {},
   "source": [
    "Consider transfer function $G(s)$ should be the same for the all possible realisations ($A_c, C, \\mathbf{x}(0)$) of the system.\n",
    "\n",
    "Then transfer function for the some analytically assumed structure of matrices $\\tilde{A_c}$ and $\\tilde{C}$ could be equated to the transfer function calculated for the matrices  $\\hat{A_c}^{(SID)}$ and $\\hat{C}^{(SID)}$ estimated by ERA or DMD *system identification algorithm* algorithm:\n",
    "$\\begin{align}\n",
    "   \\tilde{C}(sI - \\tilde{A_c})^{-1} \\mathbf{x}(0) = \\hat{C}^{(SID)}\\left(sI - \\hat{A_c}^{(SID)}\\right)^{-1} \\mathbf{x}(0)\n",
    "\\end{align}$ \n",
    "\n",
    "as we use augmented Bloch vectors as *internal state variable* then matrox $C$ is known \n",
    "$\\tilde{C} = \\hat{C}^{(SID)}$\n",
    "\n",
    "$\n",
    "\\begin{pmatrix} \\rho_{00} \\\\\n",
    "\\rho_{01} \\\\\n",
    "\\rho_{10} \\\\\n",
    "\\rho_{11} \n",
    "\\end{pmatrix} \n",
    "= \\frac{1}{2}\n",
    "\\begin{pmatrix} \n",
    "0 & 0 & 1 & 1 \\\\\n",
    "1 & -i & 0 & 0 \\\\\n",
    "1 & i & 0 & 0 \\\\\n",
    "0 & 0 & -1 & 1 \\\\\n",
    "\\end{pmatrix}\n",
    "\\begin{pmatrix} \n",
    "\\mathbf{b} \\\\\n",
    "1\n",
    "\\end{pmatrix} $\n",
    "\n",
    "Thus we can remole $C$ from consideration, and as we exactly know the initial states $\\mathbf{x}(0)$ we can also remove it\n",
    "\n",
    "$\\begin{align}\n",
    "   (sI - \\tilde{A_c})^{-1} = \\left(sI - \\hat{A_c}^{(SID)}\\right)^{-1}\n",
    "\\end{align}$ \n",
    "\n",
    "If matrices $sI - \\tilde{A_c}$ and $sI - \\hat{A_c}^{(SID)}$ are actually invertable, then:\n",
    "\n",
    "$\\begin{align}\n",
    "   sI - \\tilde{A_c} = sI - \\hat{A_c}^{(SID)}\n",
    "\\end{align}$ \n",
    "\n",
    "Which means matrices  $\\tilde{A_c}$ and $\\hat{A_c}^{(SID)}$ are actually elementwise equal:\n",
    "\n",
    "$\\begin{align}\n",
    "   \\tilde{A_c} = \\hat{A_c}^{(SID)}\n",
    "\\end{align}$ "
   ]
  },
  {
   "cell_type": "code",
   "execution_count": 67,
   "metadata": {},
   "outputs": [
    {
     "data": {
      "text/plain": [
       "3×4 Matrix{Polynomial{true, ComplexF64}}:\n",
       " (-2.0-0.0im)κ₂ + (-2.0-0.0im)κ₃                                                              …  (4.0-0.0im)a₁ + (2.89442e-5+0.0im)\n",
       " (-2.0-0.0im)κ₁ + (-2.0-0.0im)κ₂ + (-2.0-0.0im)κ₃ + (-0.0+2.0im)a₃ + -h₃ + (25.1963+0.0im)       (4.0-0.0im)a₂ + (-7.03521e-5+0.0im)\n",
       " (-2.0-0.0im)κ₁ + (-2.0-0.0im)κ₂ + (-2.0-0.0im)κ₃ + (-0.0-2.0im)a₂ + h₂ + (-0.0366884+0.0im)     (4.0-0.0im)a₃ + (0.79106+0.0im)"
      ]
     },
     "metadata": {},
     "output_type": "display_data"
    }
   ],
   "source": [
    "Ac=copy(Acˢⁱᵈ)\n",
    "\n",
    "Ac[abs.(Ac) .< 1e-6] .= 0.0\n",
    "\n",
    "D = Ac[1:3,1:4] - Acˢʸᵐᵇ[1:3,1:4]"
   ]
  },
  {
   "cell_type": "code",
   "execution_count": 54,
   "metadata": {},
   "outputs": [],
   "source": [
    "using Symbolics"
   ]
  },
  {
   "cell_type": "code",
   "execution_count": 55,
   "metadata": {},
   "outputs": [
    {
     "data": {
      "text/plain": [
       "poly_to_symbolic (generic function with 1 method)"
      ]
     },
     "metadata": {},
     "output_type": "display_data"
    }
   ],
   "source": [
    "function poly_to_symbolic(poly, var_map)\n",
    "    expr = zero(Num)\n",
    "\n",
    "    # Get the coefficients and monomials from the polynomial\n",
    "    coeffs = MultivariatePolynomials.coefficients(poly)\n",
    "    monoms = MultivariatePolynomials.monomials(poly)\n",
    "\n",
    "    # Loop over the coefficients and corresponding monomials\n",
    "    for (coeff, monomial) in zip(coeffs, monoms)\n",
    "        monomial_expr = one(Num)\n",
    "        \n",
    "        if isa(monomial, Number)\n",
    "            # If the monomial is a constant, use it directly\n",
    "            monomial_expr = Num(monomial)\n",
    "        else\n",
    "            # Otherwise, convert monomials to symbolic form\n",
    "            vars_in_monomial = MultivariatePolynomials.variables(monomial)\n",
    "            exponents_in_monomial = MultivariatePolynomials.exponents(monomial)\n",
    "\n",
    "            # Build the symbolic monomial expression\n",
    "            for (var, exponent) in zip(vars_in_monomial, exponents_in_monomial)\n",
    "                # Ensure that the variable is in var_map\n",
    "                if haskey(var_map, var)\n",
    "                    # Replace the polynomial variable with the corresponding symbolic variable\n",
    "                    monomial_expr *= var_map[var]^exponent\n",
    "                else\n",
    "                    error(\"Variable $var not found in variable map.\")\n",
    "                end\n",
    "            end\n",
    "        end\n",
    "        \n",
    "        # Add the coefficient * monomial_expr to the overall expression\n",
    "        expr += real(coeff) * monomial_expr\n",
    "    end\n",
    "    return expr\n",
    "end"
   ]
  },
  {
   "cell_type": "code",
   "execution_count": 57,
   "metadata": {},
   "outputs": [
    {
     "data": {
      "text/plain": [
       "Dict{PolyVar{true}, Num} with 9 entries:\n",
       "  a₃ => as3\n",
       "  h₁ => hs1\n",
       "  a₂ => as2\n",
       "  h₃ => hs3\n",
       "  κ₁ => ks1\n",
       "  κ₂ => ks2\n",
       "  κ₃ => ks3\n",
       "  a₁ => as1\n",
       "  h₂ => hs2"
      ]
     },
     "metadata": {},
     "output_type": "display_data"
    }
   ],
   "source": [
    "@variables ks1, ks2, ks3, as1, as2, as3, hs1, hs2, hs3\n",
    "\n",
    "poly_var_to_sym_var = Dict(\n",
    "κ₁ => ks1,\n",
    "κ₂ => ks2,\n",
    "κ₃ => ks3,\n",
    "a₁ => as1,\n",
    "a₂ => as2,\n",
    "a₃ => as3,\n",
    "h₁ => hs1,\n",
    "h₂ => hs2,\n",
    "h₃ => hs3\n",
    "#κ[1] => k1, #κ[2] => k2, #κ[3] => k3,\n",
    "#a[1] => a1, #a[2] => a2, #a[3] => a3,\n",
    "#h[1] => h1, #h[2] => h2, #h[3] => h3\n",
    ")"
   ]
  },
  {
   "cell_type": "code",
   "execution_count": 70,
   "metadata": {},
   "outputs": [
    {
     "data": {
      "text/latex": [
       "$$ \\begin{equation}\n",
       "\\left[\n",
       "\\begin{array}{c}\n",
       "hs3 \\\\\n",
       "ks1 \\\\\n",
       "ks2 \\\\\n",
       "ks3 \\\\\n",
       "ks1 + ks2 + ks3 \\\\\n",
       "\\end{array}\n",
       "\\right]\n",
       "\\end{equation}\n",
       " $$"
      ],
      "text/plain": [
       "5-element Vector{Num}:\n",
       "             hs3\n",
       "             ks1\n",
       "             ks2\n",
       "             ks3\n",
       " ks1 + ks2 + ks3"
      ]
     },
     "metadata": {},
     "output_type": "display_data"
    }
   ],
   "source": [
    "constr1 = κ₁ + κ₂ + κ₃ \n",
    "constr2 = κ₁*κ₂ + κ₃*κ₁ + κ₂*κ₃ - a₁^2 - a₂^2 - a₃^2\n",
    "constr3 = κ₁*κ₂*κ₃ - κ₁*a₁^2 - κ₂*a₂^2 - κ₃*a₃^2\n",
    "\n",
    "constraints = [ h₃, κ₁, κ₂, κ₃, constr1, constr2, constr3] \n",
    "\n",
    "constraints_sym = [poly_to_symbolic(c, poly_var_to_sym_var) for c in constraints]\n",
    "\n",
    "constraints_sym[1:5]"
   ]
  },
  {
   "cell_type": "code",
   "execution_count": 68,
   "metadata": {},
   "outputs": [
    {
     "data": {
      "text/plain": [
       "8-element Vector{Any}:\n",
       " -2.0ks2 - 2.0ks3 ~ 0\n",
       " hs3 - 25.132740902749152 - 2.0ks1 - 2.0ks2 - 2.0ks3 ~ 0\n",
       " 0.00016144287336491446 - hs2 - 2.0ks1 - 2.0ks2 - 2.0ks3 ~ 0\n",
       " 2.894417436333362e-5 + 4.0as1 ~ 0\n",
       " 25.19633229486415 - hs3 - 2.0ks1 - 2.0ks2 - 2.0ks3 ~ 0\n",
       " -0.7958275809831139 - 2.0ks1 - 2.0ks3 ~ 0\n",
       " hs1 - 0.0008182885461700876 - 2.0ks1 - 2.0ks2 - 2.0ks3 ~ 0\n",
       " 4.0as2 - 7.035206592688032e-5 ~ 0"
      ]
     },
     "metadata": {},
     "output_type": "display_data"
    }
   ],
   "source": [
    "#using Symbolics\n",
    "\n",
    "equations = []\n",
    "\n",
    "for i in 1:size(D, 1)-1\n",
    "    for j in 1:size(D, 2)\n",
    "        # Convert to symbolic expression\n",
    "        expr = poly_to_symbolic(D[i, j], poly_var_to_sym_var)\n",
    "        \n",
    "        # Use iszero to check if the expression is zero\n",
    "        if !iszero(expr)\n",
    "            push!(equations, expr ~ 0)\n",
    "        end\n",
    "    end\n",
    "end\n",
    "\n",
    "equations"
   ]
  },
  {
   "cell_type": "code",
   "execution_count": 69,
   "metadata": {},
   "outputs": [
    {
     "ename": "SingularException",
     "evalue": "SingularException(6)",
     "output_type": "error",
     "traceback": [
      "SingularException(6)\n",
      "\n",
      "Stacktrace:\n",
      " [1] checknonsingular\n",
      "   @ ~/.julia/juliaup/julia-1.10.2+0.x64.linux.gnu/share/julia/stdlib/v1.10/LinearAlgebra/src/factorization.jl:68 [inlined]\n",
      " [2] checknonsingular\n",
      "   @ ~/.julia/juliaup/julia-1.10.2+0.x64.linux.gnu/share/julia/stdlib/v1.10/LinearAlgebra/src/factorization.jl:71 [inlined]\n",
      " [3] sym_lu(A::Matrix{Num}; check::Bool)\n",
      "   @ Symbolics ~/.julia/packages/Symbolics/BQlmn/src/linear_algebra.jl:49\n",
      " [4] sym_lu\n",
      "   @ ~/.julia/packages/Symbolics/BQlmn/src/linear_algebra.jl:11 [inlined]\n",
      " [5] _solve(A::Matrix{Num}, b::Vector{Num}, do_simplify::Bool)\n",
      "   @ Symbolics ~/.julia/packages/Symbolics/BQlmn/src/linear_algebra.jl:121\n",
      " [6] solve_for(eq::Vector{Any}, var::Vector{Num}; simplify::Bool, check::Bool)\n",
      "   @ Symbolics ~/.julia/packages/Symbolics/BQlmn/src/linear_algebra.jl:104\n",
      " [7] solve_for(eq::Vector{Any}, var::Vector{Num})\n",
      "   @ Symbolics ~/.julia/packages/Symbolics/BQlmn/src/linear_algebra.jl:96\n",
      " [8] top-level scope\n",
      "   @ ~/github/quantum-open-systems-polynomial-sid/ZhangSarovar/jl_notebook_cell_df34fa98e69747e1a8f8a730347b8e2f_X44sZmlsZQ==.jl:2"
     ]
    }
   ],
   "source": [
    "# Solve the system symbolically\n",
    "sol = Symbolics.solve_for(equations, [ks1, ks2, ks3, as1, as2, as3, hs1, hs2, hs3])"
   ]
  },
  {
   "cell_type": "code",
   "execution_count": 65,
   "metadata": {},
   "outputs": [
    {
     "data": {
      "text/plain": [
       "13-element Vector{Any}:\n",
       "                      -1.0915482301539226e-8 - 2.0ks2 - 2.0ks3 ~ 0\n",
       "                      hs3 - 25.132740902749152 - 2.0ks1 - 2.0ks2 - 2.0ks3 ~ 0\n",
       "                      0.00016144287336491446 - hs2 - 2.0ks1 - 2.0ks2 - 2.0ks3 ~ 0\n",
       "                      2.894417436333362e-5 + 4.0as1 ~ 0\n",
       "                      25.19633229486415 - hs3 - 2.0ks1 - 2.0ks2 - 2.0ks3 ~ 0\n",
       "                      -0.7958275809831139 - 2.0ks1 - 2.0ks3 ~ 0\n",
       "                      hs1 - 0.0008182885461700876 - 2.0ks1 - 2.0ks2 - 2.0ks3 ~ 0\n",
       "                      4.0as2 - 7.035206592688032e-5 ~ 0\n",
       "               hs3 > 0\n",
       "               ks1 > 0\n",
       "               ks2 > 0\n",
       "               ks3 > 0\n",
       " (ks1 + ks2 + ks3) > 0"
      ]
     },
     "metadata": {},
     "output_type": "display_data"
    }
   ],
   "source": [
    "equations_constraints = equations\n",
    "\n",
    "for expr in constraints_sym[1:5]\n",
    "    if !iszero(expr)\n",
    "        push!(equations_constraints, expr > 0)\n",
    "    end\n",
    "end\n",
    "\n",
    "equations_constraints"
   ]
  },
  {
   "cell_type": "code",
   "execution_count": 66,
   "metadata": {},
   "outputs": [
    {
     "ename": "AssertionError",
     "evalue": "AssertionError: islinear",
     "output_type": "error",
     "traceback": [
      "AssertionError: islinear\n",
      "\n",
      "Stacktrace:\n",
      " [1] solve_for(eq::Vector{Any}, var::Vector{Num}; simplify::Bool, check::Bool)\n",
      "   @ Symbolics ~/.julia/packages/Symbolics/BQlmn/src/linear_algebra.jl:100\n",
      " [2] solve_for(eq::Vector{Any}, var::Vector{Num})\n",
      "   @ Symbolics ~/.julia/packages/Symbolics/BQlmn/src/linear_algebra.jl:96\n",
      " [3] top-level scope\n",
      "   @ ~/github/quantum-open-systems-polynomial-sid/ZhangSarovar/jl_notebook_cell_df34fa98e69747e1a8f8a730347b8e2f_X54sZmlsZQ==.jl:2"
     ]
    }
   ],
   "source": [
    "# Solve the system symbolically\n",
    "sol = Symbolics.solve_for(equations_constraints, [ks1, ks2, ks3, as1, as2, as3, hs1, hs2, hs3])"
   ]
  },
  {
   "cell_type": "markdown",
   "metadata": {},
   "source": []
  }
 ],
 "metadata": {
  "kernelspec": {
   "display_name": "Julia 1.10.2",
   "language": "julia",
   "name": "julia-1.10"
  },
  "language_info": {
   "file_extension": ".jl",
   "mimetype": "application/julia",
   "name": "julia",
   "version": "1.10.2"
  }
 },
 "nbformat": 4,
 "nbformat_minor": 2
}
