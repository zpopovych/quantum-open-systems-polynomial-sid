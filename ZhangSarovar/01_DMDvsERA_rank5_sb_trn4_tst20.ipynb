{
 "cells": [
  {
   "cell_type": "code",
   "execution_count": 1,
   "id": "ca87153e",
   "metadata": {},
   "outputs": [],
   "source": [
    "include(\"../LiPoSID.jl\")\n",
    "using QuantumOptics\n",
    "basis = NLevelBasis(2)\n",
    "using LinearAlgebra\n",
    "using Plots\n",
    "\n",
    "using Dates\n",
    "using HDF5"
   ]
  },
  {
   "cell_type": "code",
   "execution_count": 2,
   "id": "c9d8befc",
   "metadata": {},
   "outputs": [
    {
     "data": {
      "text/plain": [
       "propagate_rho_O1XY (generic function with 1 method)"
      ]
     },
     "metadata": {},
     "output_type": "display_data"
    }
   ],
   "source": [
    "function DMD_SVD(Y, r, Δt)\n",
    "    \n",
    "        X₋ = Y[:,1:end-1]\n",
    "        X₊ = Y[:,2:end]\n",
    "        U, Σ, V = svd(X₋)\n",
    "        \n",
    "        Uʳ = U[:, 1:r] #12 x 4\n",
    "        Σʳ = diagm(Σ[1:r])\n",
    "        Vʳ = V[:, 1:r]\n",
    "        Ã = Uʳ' * X₊ * Vʳ / Σʳ\n",
    "        Λ, W = eigen(Ã)\n",
    "        Φ = X₊ * Vʳ / Σʳ * W\n",
    "        Ω = log.(Λ)/Δt\n",
    "        x₁ = X₋[:,1]\n",
    "        b₁ = Φ \\ x₁\n",
    "        \n",
    "        return Φ, Ω, b₁, Ã\n",
    "    \n",
    "end    \n",
    "\n",
    "function DMD_reconstruct(Φ, Ω, b₁, Δt, steps)\n",
    "    \n",
    "        Yᵈᵐᵈ = hcat([real.(Φ * (b₁ .* exp.(Ω * (i * Δt)))) for i in 0:steps]...)\n",
    "        \n",
    "        return Yᵈᵐᵈ\n",
    "    \n",
    "end\n",
    "\n",
    "\n",
    "function DMDvsERA_sb_basis(γᵢ, n)\n",
    "        data_dir = \"../DATA/\"\n",
    "    \n",
    "        γᵢ = string(γᵢ)\n",
    "    \n",
    "        tᵍᵉˣʸ , ρᵍᵉˣʸ  = LiPoSID.read_GEXY_timeevolution(evol_data_file_name, γᵢ)\n",
    "\n",
    "        ρᵍ, ρᵉ, ρˣ, ρʸ = ρᵍᵉˣʸ\n",
    "        tᵍ, tᵉ, tˣ, tʸ = tᵍᵉˣʸ\n",
    "        \n",
    "        lᵉ = length(ρᵉ); lᵍ = length(ρᵍ); lˣ = length(ρˣ); lʸ = length(ρʸ)\n",
    "        lᵐᵃˣ = min(lᵉ, lᵍ,  lˣ, lʸ)  #choose time limit by shortest series\n",
    "    \n",
    "        tᵉᶠ = convert.(Float64, tᵉ); tᵍᶠ = convert.(Float64, tᵍ); \n",
    "        tˣᶠ = convert.(Float64, tˣ); tʸᶠ = convert.(Float64, tʸ); \n",
    "    \n",
    "        bᵉ = LiPoSID.bloch(ρᵉ[1:lᵐᵃˣ])\n",
    "        bᵍ = LiPoSID.bloch(ρᵍ[1:lᵐᵃˣ])\n",
    "        bˣ = LiPoSID.bloch(ρˣ[1:lᵐᵃˣ])\n",
    "        bʸ = LiPoSID.bloch(ρʸ[1:lᵐᵃˣ])\n",
    "    \n",
    "        Y = [bᵉ; bᵍ; bˣ; bʸ]\n",
    "    \n",
    "        t = convert.(Float64, tᵉᶠ[1:lᵐᵃˣ])\n",
    "        Δt = t[2]-t[1]\n",
    "\n",
    "        # DMD (Dynamic mode decomposition)\n",
    "        \n",
    "        Φ, Ω, b₁, Aᴰᴹᴰ = DMD_SVD(Y, n, Δt)\n",
    "\n",
    "        Aᴰᴹᴰc = log(Aᴰᴹᴰ)/Δt\n",
    "        Λᴰᴹᴰ, Wᴰᴹᴰ = eigen(Aᴰᴹᴰc)\n",
    "\n",
    "        Yᴰᴹᴰ = DMD_reconstruct(Φ, Ω, b₁, Δt, length(t))\n",
    "    \n",
    "        bᵉᴰᴹᴰ = Yᴰᴹᴰ[1:3,:]\n",
    "        bᵍᴰᴹᴰ = Yᴰᴹᴰ[4:6,:]\n",
    "        bˣᴰᴹᴰ = Yᴰᴹᴰ[7:9,:]\n",
    "        bʸᴰᴹᴰ = Yᴰᴹᴰ[10:12,:]\n",
    "    \n",
    "        ρᵉᴰᴹᴰ = LiPoSID.rho_series_from_bloch(bᵉᴰᴹᴰ)\n",
    "        ρᵍᴰᴹᴰ = LiPoSID.rho_series_from_bloch(bᵍᴰᴹᴰ)\n",
    "        ρˣᴰᴹᴰ = LiPoSID.rho_series_from_bloch(bˣᴰᴹᴰ)\n",
    "        ρʸᴰᴹᴰ = LiPoSID.rho_series_from_bloch(bʸᴰᴹᴰ)\n",
    "    \n",
    "        ρᴰᴹᴰ = [ρᵉᴰᴹᴰ, ρᵍᴰᴹᴰ, ρˣᴰᴹᴰ, ρʸᴰᴹᴰ]\n",
    "    \n",
    "        # ERA (Eigenvalue Realization Algorithm)\n",
    "    \n",
    "        Aᴱᴿᴬ, Cᴱᴿᴬ, x₀ᴱᴿᴬ, Σᴱᴿᴬ = LiPoSID.lsid_n_ACx0Σ(Y, Δt, n) \n",
    "\n",
    "        Aᴱᴿᴬc = log(Aᴱᴿᴬ)/Δt\n",
    "\n",
    "        Λᴱᴿᴬ, Wᴱᴿᴬ = eigen(Aᴱᴿᴬc)\n",
    "    \n",
    "        Yᴱᴿᴬ = LiPoSID.propagate_LTI(Aᴱᴿᴬ, Cᴱᴿᴬ, x₀ᴱᴿᴬ, n, length(t))\n",
    "    \n",
    "        bᵉᴱᴿᴬ = Yᴱᴿᴬ[1:3,:]\n",
    "        bᵍᴱᴿᴬ = Yᴱᴿᴬ[4:6,:]\n",
    "        bˣᴱᴿᴬ = Yᴱᴿᴬ[7:9,:]\n",
    "        bʸᴱᴿᴬ = Yᴱᴿᴬ[10:12,:]\n",
    "    \n",
    "        ρᵉᴱᴿᴬ = LiPoSID.rho_series_from_bloch(bᵉᴱᴿᴬ)\n",
    "        ρᵍᴱᴿᴬ = LiPoSID.rho_series_from_bloch(bᵍᴱᴿᴬ)\n",
    "        ρˣᴱᴿᴬ = LiPoSID.rho_series_from_bloch(bˣᴱᴿᴬ)\n",
    "        ρʸᴱᴿᴬ = LiPoSID.rho_series_from_bloch(bʸᴱᴿᴬ)\n",
    "\n",
    "        ρᴱᴿᴬ = [ρᵉᴱᴿᴬ, ρᵍᴱᴿᴬ, ρˣᴱᴿᴬ, ρʸᴱᴿᴬ]\n",
    "        \n",
    "        return ρᴱᴿᴬ, ρᴰᴹᴰ, Λᴱᴿᴬ, Λᴰᴹᴰ, t[1:lᵐᵃˣ]\n",
    "        \n",
    "    end\n",
    "\n",
    "function propagate_rho_O1XY(ρ₀, ρᵉᵍˣʸ, steps)\n",
    "\n",
    "        hcat(vec[ρᵢ] for ρᵢ in ρᵉᵍˣʸ)\n",
    "\n",
    "        kᵉᵍˣʸ = hcat([vec(ρᵢ[1]) for ρᵢ in ρᵉᵍˣʸ]...)\\vec(ρ₀)\n",
    "\n",
    "        kᵉ, kᵍ, kˣ, kʸ = kᵉᵍˣʸ              \n",
    "        ρᵉ, ρᵍ, ρˣ, ρʸ = ρᵉᵍˣʸ\n",
    "\n",
    "        ρ = kᵉ * ρᵉ + kᵍ * ρᵍ + kˣ * ρˣ + kʸ * ρʸ\n",
    "\n",
    "        return ρ\n",
    "end "
   ]
  },
  {
   "cell_type": "code",
   "execution_count": 3,
   "id": "6e698a12",
   "metadata": {},
   "outputs": [
    {
     "data": {
      "text/plain": [
       "\"/home/zah/github/quantum-open-systems-polynomial-sid/ZhangSarovar\""
      ]
     },
     "metadata": {},
     "output_type": "display_data"
    }
   ],
   "source": [
    "pwd()"
   ]
  },
  {
   "cell_type": "code",
   "execution_count": 4,
   "id": "8e13847e",
   "metadata": {},
   "outputs": [
    {
     "name": "stdout",
     "output_type": "stream",
     "text": [
      "../DATA/\n"
     ]
    },
    {
     "data": {
      "text/plain": [
       "\"../DATA/ALL_GAMMAS_B4_D10.h5\""
      ]
     },
     "metadata": {},
     "output_type": "display_data"
    }
   ],
   "source": [
    "parentdir = \"..\"\n",
    "data_dir = parentdir*\"/DATA/\"\n",
    "println(data_dir)\n",
    "\n",
    "models_dir = parentdir*\"/MODELS/\"\n",
    "tests_dir = \"\" #parentdir*\"/TESTS/\"\n",
    "\n",
    "dodeca_files = [\"D\"*string(n) for n=1:10];\n",
    "basis_files = [\"B\"*string(n) for n=1:4];\n",
    "\n",
    "all_files = vcat(dodeca_files, basis_files)\n",
    "test_states = dodeca_files;\n",
    "\n",
    "evol_data_file_name = \"../DATA/ALL_GAMMAS_B4_D10.h5\""
   ]
  },
  {
   "cell_type": "code",
   "execution_count": 5,
   "id": "8065c43c",
   "metadata": {},
   "outputs": [
    {
     "name": "stdout",
     "output_type": "stream",
     "text": [
      "Coupling levels to be avaluated γ ∈ [\"0.079477\", \"0.25133\", \"0.79477\", \"2.5133\", \"7.9477\", \"25.133\", \"79.477\", \"251.33\"]\n"
     ]
    }
   ],
   "source": [
    "date_and_time_string =  string(Dates.format(now(), \"yyyy-u-dd_at_HH-MM\"))\n",
    "\n",
    "tests_data_file_name = \"DMDvsERA_rank5_SB_trn4_tst10_\"*date_and_time_string * \".h5\"\n",
    "\n",
    "γ = [ \"0.079477\",  \"0.25133\", \"0.79477\", \"2.5133\", \"7.9477\", \"25.133\",  \"79.477\", \"251.33\"]\n",
    "\n",
    "println(\"Coupling levels to be avaluated γ ∈ \", γ)\n",
    "\n",
    "n = 5\n",
    "\n",
    "for γᵢ in  γ\n",
    "\n",
    "    ρᴱᴿᴬ, ρᴰᴹᴰ, Λᴱᴿᴬ, Λᴰᴹᴰ, t = DMDvsERA_sb_basis(γᵢ, n)\n",
    "\n",
    "    ρᵉᴰᴹᴰ, ρᵍᴰᴹᴰ, ρˣᴰᴹᴰ, ρʸᴰᴹᴰ = ρᴰᴹᴰ\n",
    "    ρᵉᴱᴿᴬ, ρᵍᴱᴿᴬ, ρˣᴱᴿᴬ, ρʸᴱᴿᴬ = ρᴱᴿᴬ\n",
    "\n",
    "    h5open(tests_dir*tests_data_file_name,\"cw\") do fid\n",
    "        γ_group = create_group(fid, γᵢ) # create coupling group\n",
    "        γ_group[\"Re_eigvals_dmd_sb\"] = convert.(Float64, real.(Λᴰᴹᴰ))\n",
    "        γ_group[\"Re_eigvals_era_sb\"] = convert.(Float64, real.(Λᴱᴿᴬ))\n",
    "    end \n",
    "\n",
    "\n",
    "    for state in test_states # loop over initial states\n",
    "\n",
    "        tᵗˢᵗ, ρᵗˢᵗ = LiPoSID.read_timeevolution(evol_data_file_name, state, γᵢ)\n",
    "        \n",
    "        if length(tᵗˢᵗ) > 1200 end_tst = 1200 else end_tst = length(tᵗˢᵗ) end\n",
    "            \n",
    "        ρᵗˢᵗ = convert(Vector{Matrix{ComplexF64}}, ρᵗˢᵗ[1:end_tst])\n",
    "\n",
    "        steps = min(end_tst, length(t))\n",
    "\n",
    "        ρᵗˢᵗᴱᴿᴬ =  propagate_rho_O1XY(ρᵗˢᵗ[1], ρᴱᴿᴬ, steps)\n",
    "        ρᵗˢᵗᴰᴹᴰ =  propagate_rho_O1XY(ρᵗˢᵗ[1], ρᴰᴹᴰ, steps)\n",
    "\n",
    "        Fᴱᴿᴬ = LiPoSID.fidelity_series(basis, ρᵗˢᵗᴱᴿᴬ[1:steps], ρᵗˢᵗ[1:steps])\n",
    "        Fᴰᴹᴰ = LiPoSID.fidelity_series(basis, ρᵗˢᵗᴰᴹᴰ[1:steps], ρᵗˢᵗ[1:steps])\n",
    "        \n",
    "        h5open(tests_dir*tests_data_file_name,\"cw\") do fid\n",
    "            γ_group = open_group(fid, γᵢ) # create coupling group\n",
    "            state_group = create_group(γ_group, state) # create coupling group\n",
    "\n",
    "            state_group[\"F_dmd_sb\"] = convert.(Float64, Fᴰᴹᴰ)\n",
    "            state_group[\"F_era_sb\"] = convert.(Float64, Fᴱᴿᴬ)\n",
    "            state_group[\"time\"] = convert.(Float64, tᵗˢᵗ[1:steps]) \n",
    "            \n",
    "        end\n",
    "\n",
    "    end\n",
    "    \n",
    "end\n"
   ]
  },
  {
   "cell_type": "code",
   "execution_count": 6,
   "id": "bbef8cf4",
   "metadata": {},
   "outputs": [
    {
     "data": {
      "text/plain": [
       "\"DMDvsERA_rank5_SB_trn4_tst10_2024-Sep-16_at_16-27.h5\""
      ]
     },
     "metadata": {},
     "output_type": "display_data"
    }
   ],
   "source": [
    "tests_data_file_name"
   ]
  }
 ],
 "metadata": {
  "@webio": {
   "lastCommId": null,
   "lastKernelId": null
  },
  "kernelspec": {
   "display_name": "Julia 1.10.2",
   "language": "julia",
   "name": "julia-1.10"
  },
  "language_info": {
   "file_extension": ".jl",
   "mimetype": "application/julia",
   "name": "julia",
   "version": "1.10.2"
  }
 },
 "nbformat": 4,
 "nbformat_minor": 5
}
