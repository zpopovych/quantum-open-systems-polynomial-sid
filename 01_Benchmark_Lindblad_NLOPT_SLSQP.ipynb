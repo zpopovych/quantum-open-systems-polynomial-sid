{
 "cells": [
  {
   "cell_type": "code",
   "execution_count": 1,
   "metadata": {},
   "outputs": [],
   "source": [
    "using JuMP\n",
    "using NLopt\n",
    "using LinearAlgebra\n",
    "\n",
    "using HDF5\n",
    "\n",
    "using QuantumOptics\n",
    "basis = NLevelBasis(2)\n",
    "\n",
    "include(\"LiPoSID.jl\")\n",
    "\n",
    "using Statistics\n",
    "\n",
    "using Dates"
   ]
  },
  {
   "cell_type": "code",
   "execution_count": 2,
   "metadata": {},
   "outputs": [
    {
     "data": {
      "text/plain": [
       "det2x2 (generic function with 1 method)"
      ]
     },
     "metadata": {},
     "output_type": "display_data"
    }
   ],
   "source": [
    "function det2x2(m)\n",
    "    real(m[1,1]*m[2,2] - m[1,2]*m[2,1])\n",
    "end"
   ]
  },
  {
   "cell_type": "markdown",
   "metadata": {},
   "source": [
    "Fidelity for qubit can be written:\n",
    "\n",
    "$F(\\rho, \\sigma) = \\operatorname{tr}(\\rho \\sigma) + 2\\sqrt{\\det(\\rho) \\det(\\sigma)}$"
   ]
  },
  {
   "cell_type": "code",
   "execution_count": 3,
   "metadata": {},
   "outputs": [
    {
     "data": {
      "text/plain": [
       "frobenius_norm2 (generic function with 1 method)"
      ]
     },
     "metadata": {},
     "output_type": "display_data"
    }
   ],
   "source": [
    "function infidelity_norm(ρ, σ)\n",
    "    abs(1 - real(tr(ρ * σ)) - 2*sqrt(abs(det(ρ)*det(σ))))#^2\n",
    "end\n",
    "\n",
    "function fidelity(ρ, σ)\n",
    "    real(tr(ρ * σ)) + 2*sqrt(abs(det(ρ)*det(σ)))#^2\n",
    "end\n",
    "\n",
    "function frobenius_norm2(m)\n",
    "    return abs(tr(m * m'))\n",
    "end"
   ]
  },
  {
   "cell_type": "code",
   "execution_count": 31,
   "metadata": {},
   "outputs": [
    {
     "data": {
      "text/plain": [
       "DcLindblad (generic function with 1 method)"
      ]
     },
     "metadata": {},
     "output_type": "display_data"
    }
   ],
   "source": [
    "# Define the Pauli matrices\n",
    "σˣ = [0 1; 1 0]\n",
    "σʸ = [0 im; -im 0]\n",
    "σᶻ = [1 0; 0 -1]\n",
    "\n",
    "# Define the basis elements\n",
    "fᴷ₁ = σˣ / 2\n",
    "fᴷ₂ = σʸ / 2\n",
    "fᴷ₃ = σᶻ / 2\n",
    "\n",
    "# Check orthogonality and normalization\n",
    "@assert tr(fᴷ₁ * fᴷ₂) ≈ 0\n",
    "@assert tr(fᴷ₁ * fᴷ₃) ≈ 0\n",
    "@assert tr(fᴷ₂ * fᴷ₃) ≈ 0\n",
    "@assert tr(fᴷ₁ * fᴷ₁) ≈ 1 / 2\n",
    "@assert tr(fᴷ₂ * fᴷ₂) ≈ 1 / 2\n",
    "@assert tr(fᴷ₃ * fᴷ₃) ≈ 1 / 2\n",
    "\n",
    "fᴼᴺᴮ = [fᴷ₁, fᴷ₂, fᴷ₃]\n",
    "\n",
    "# Function to calculate Dc\n",
    "function DcKossak(ρ, t, H, C)\n",
    "    U = (H * ρ - ρ * H) / im\n",
    "    D = sum(C .* [2 * fᵢ * ρ * fⱼ' - ρ * fⱼ' * fᵢ - fⱼ' * fᵢ * ρ for fᵢ in fᴼᴺᴮ, fⱼ in fᴼᴺᴮ]) / 2\n",
    "    return U + D\n",
    "end\n",
    "\n",
    "\n",
    "# Function to calculate Dc\n",
    "function DcLindblad(ρ, t, H, J)\n",
    "    U = (H * ρ - ρ * H) / im\n",
    "    D = sum([ ( Jⱼ * ρ * Jⱼ' - (Jⱼ' * Jⱼ  * ρ + ρ * Jⱼ' * Jⱼ)/2 ) for Jⱼ in J ])\n",
    "    return U + D\n",
    "end\n",
    "\n",
    "\n",
    "# Function to calculate Dc\n",
    "#function DcLindblad(ρ, t, H, J1)\n",
    "#    U = (H * ρ - ρ * H) / im\n",
    "#    D = ( J1 * ρ * J1' - (J1' * J1  * ρ + ρ * J1' * J1)/2 ) \n",
    "#    return U + D\n",
    "#end\n"
   ]
  },
  {
   "cell_type": "markdown",
   "metadata": {},
   "source": [
    "### Kossakowski objective for two-level system\n",
    "\n",
    "A linear operator $L: M(2) \\rightarrow M(2)$ is the generator of a dynamical semigroup $t \\rightarrow \\Lambda_t$ of $M(2)$ iff it can be written in the form:\n",
    "\n",
    "$L = -i[H,\\rho] + \\frac{1}{2} \\sum_{i,j}^3 C_{ij} \\{[f_i, \\rho f_j] + [f_i\\rho, f_j]\\}, \\quad \\rho \\in M(2)$\n",
    "\n",
    "where\n",
    "\n",
    "(i) $H = \\sum_1^3 h_i f_i, \\quad h_i \\in \\R$\n",
    "\n",
    "(ii) $f_i f_j = \\frac{1}{4}\\delta_{ij}I  +\\frac{i}{2} \\sum_{k=1}^3 \\epsilon_{ijk} f_k$ which means:\n",
    "\n",
    "$ \\operatorname{tr}(f_i f_j)=\\frac{1}{2}\\delta_{ij}, \\quad \\operatorname{tr}(f_i) = 0$"
   ]
  },
  {
   "cell_type": "markdown",
   "metadata": {},
   "source": [
    "where Hamiltonian is hermitian with one of the diagonal elemnets set to zero\n",
    "\n",
    "\n",
    "$\n",
    "    H = \\begin{pmatrix} \\epsilon & \\alpha + i \\beta \\\\ \\alpha - i \\beta  & -\\epsilon\n",
    "   \\end{pmatrix}/2\n",
    "$\n",
    "\n",
    "here we consider the following set of jump operators ot the particular ansatz form:\n",
    "\n",
    "$\n",
    "J_1 = \\begin{pmatrix} 0 & r \\\\ 0 & 0 \n",
    "   \\end{pmatrix} = \n",
    "   \\begin{pmatrix} 0 & \\sqrt{\\gamma_1} \\\\ 0 & 0 \n",
    "   \\end{pmatrix}\n",
    "$  - for relaxation process, "
   ]
  },
  {
   "cell_type": "markdown",
   "metadata": {},
   "source": [
    "and three following operators for depolarization process:\n",
    "\n",
    "$\n",
    "J_2 = \\begin{pmatrix} 0 & p \\\\ p & 0 \n",
    "   \\end{pmatrix} = \\sqrt{\\gamma_4/3} \n",
    "   \\begin{pmatrix} 0 & 1\\\\ 1 & 0 \n",
    "   \\end{pmatrix}\n",
    "$\n",
    "\n",
    "$\n",
    "J_3 = \\begin{pmatrix} 0 & -i p \\\\ i p & 0 \n",
    "   \\end{pmatrix} = \\sqrt{\\gamma_4/3}\n",
    "   \\begin{pmatrix} 0 & -i \\\\ i & 0 \n",
    "   \\end{pmatrix}\n",
    "$\n",
    "\n",
    "$\n",
    "J_4 = \\begin{pmatrix} p & 0 \\\\ 0 & -p\n",
    "   \\end{pmatrix} = \\sqrt{\\gamma_4/3}\n",
    "   \\begin{pmatrix} 1 & 0 \\\\ 0 & -1 \n",
    "   \\end{pmatrix}\n",
    "$"
   ]
  },
  {
   "cell_type": "code",
   "execution_count": 5,
   "metadata": {},
   "outputs": [
    {
     "data": {
      "text/plain": [
       "construct_J4 (generic function with 1 method)"
      ]
     },
     "metadata": {},
     "output_type": "display_data"
    }
   ],
   "source": [
    "# Define functions to construct H and C from parameters\n",
    "function construct_H(ϵ, h_Re, h_Im)\n",
    "    return [\n",
    "             ϵ                     h_Re + im * h_Im\n",
    "             h_Re - im * h_Im     -ϵ\n",
    "           ] / 2\n",
    "end\n",
    "\n",
    "function construct_C(γ, a)\n",
    "    return [\n",
    "        -γ[1] + γ[2] + γ[3]  -im * a[3]            im * a[2]\n",
    "        im * a[3]            γ[1] - γ[2] + γ[3]   -im * a[1]\n",
    "        -im * a[2]           im * a[1]             γ[1] + γ[2] - γ[3]\n",
    "    ]\n",
    "end\n",
    "\n",
    "function construct_J1(r)\n",
    "    return [\n",
    "         0   r\n",
    "         0   0    \n",
    "    ]\n",
    "end\n",
    "\n",
    "function construct_J2(p)\n",
    "    return [\n",
    "         0   p\n",
    "         p   0    \n",
    "    ]\n",
    "end\n",
    "\n",
    "function construct_J3(p)\n",
    "    return [\n",
    "         0     -im*p\n",
    "         im*p   0    \n",
    "    ]\n",
    "end\n",
    "\n",
    "function construct_J4(p)\n",
    "    return [\n",
    "         p    0\n",
    "         0   -p   \n",
    "    ]\n",
    "end"
   ]
  },
  {
   "cell_type": "code",
   "execution_count": 6,
   "metadata": {},
   "outputs": [
    {
     "data": {
      "text/plain": [
       "kossak_objectiveGEXY (generic function with 1 method)"
      ]
     },
     "metadata": {},
     "output_type": "display_data"
    }
   ],
   "source": [
    "# Objective function\n",
    "\n",
    "function kossak_obj(ϵ, h_Re, h_Im, γ, a, ρ, t) #Simpson \n",
    "    H = construct_H(ϵ, h_Re, h_Im)\n",
    "    C = construct_C(γ, a)\n",
    "    obj = 0.0\n",
    "    for i in 3:length(ρ)\n",
    "        ρ1 = ρ[i]\n",
    "        ρ2 = ρ[i - 2] + \n",
    "        (t[i] - t[i - 1]) * \n",
    "        (DcKossak(ρ[i], t[i], H, C) +\n",
    "         4 * DcKossak(ρ[i - 1], t[i - 1], H, C) \n",
    "         + DcKossak(ρ[i - 2], t[i - 2], H, C)) / 3\n",
    "        #obj += infidelity_norm(ρ1,ρ2)\n",
    "        #obj += fidelity(ρ1,ρ2)\n",
    "        obj += frobenius_norm2(ρ1-ρ2)\n",
    "    end\n",
    "    return obj\n",
    "end\n",
    "\n",
    "# Define the objective function wrapper\n",
    "function kossak_objectiveGEXY(ϵ, h_Re, h_Im, γ1, γ2, γ3, a1, a2, a3)\n",
    "\n",
    "    ρᵍ, ρᵉ, ρˣ, ρʸ = ρᵍᵉˣʸ\n",
    "    tᵍ, tᵉ, tˣ, tʸ = tᵍᵉˣʸ\n",
    "\n",
    "    γ = [γ1, γ2, γ3]\n",
    "    a = [a1, a2, a3]\n",
    "    objGEXY = kossak_obj(ϵ, h_Re, h_Im, γ, a, ρᵍ, tᵍ) + \n",
    "              kossak_obj(ϵ, h_Re, h_Im, γ, a, ρᵉ, tᵉ) + \n",
    "              kossak_obj(ϵ, h_Re, h_Im, γ, a, ρˣ, tˣ) + \n",
    "              kossak_obj(ϵ, h_Re, h_Im, γ, a, ρʸ, tʸ)\n",
    "    return objGEXY\n",
    "end\n"
   ]
  },
  {
   "cell_type": "code",
   "execution_count": 32,
   "metadata": {},
   "outputs": [
    {
     "data": {
      "text/plain": [
       "lindblad_obj (generic function with 1 method)"
      ]
     },
     "metadata": {},
     "output_type": "display_data"
    }
   ],
   "source": [
    "function lindblad_obj(ϵ, h_Re, h_Im, r, p, ρ, t) #Simpson \n",
    "    H = construct_H(ϵ, h_Re, h_Im)\n",
    "    J1 = construct_J1(r)\n",
    "    J2 = construct_J2(p)\n",
    "    J3 = construct_J3(p)\n",
    "    J4 = construct_J4(p)\n",
    "\n",
    "    J = [J1, J2, J3, J4]\n",
    "    obj = 0.0\n",
    "    for i in 3:length(ρ)\n",
    "        ρ1 = ρ[i]\n",
    "        ρ2 = ρ[i - 2] + \n",
    "        (t[i] - t[i - 1]) * \n",
    "        (DcLindblad(ρ[i], t[i], H, J1) +\n",
    "         4 * DcLindblad(ρ[i - 1], t[i - 1], H, J) \n",
    "         + DcLindblad(ρ[i - 2], t[i - 2], H, J)) / 3\n",
    "        #obj += infidelity_norm(ρ1,ρ2)\n",
    "        #obj += fidelity(ρ1,ρ2)\n",
    "        obj += frobenius_norm2(ρ1-ρ2)\n",
    "    end\n",
    "    return obj\n",
    "end"
   ]
  },
  {
   "cell_type": "code",
   "execution_count": 33,
   "metadata": {},
   "outputs": [
    {
     "data": {
      "text/plain": [
       "lindblad_objectiveGEXY (generic function with 1 method)"
      ]
     },
     "metadata": {},
     "output_type": "display_data"
    }
   ],
   "source": [
    "# Define the objective function wrapper\n",
    "function lindblad_objectiveGEXY(ϵ, h_Re, h_Im, r, p)\n",
    "\n",
    "    ρᵍ, ρᵉ, ρˣ, ρʸ = ρᵍᵉˣʸ\n",
    "    tᵍ, tᵉ, tˣ, tʸ = tᵍᵉˣʸ\n",
    "\n",
    "    objGEXY = lindblad_obj(ϵ, h_Re, h_Im, r, p, ρᵍ, tᵍ) + \n",
    "              lindblad_obj(ϵ, h_Re, h_Im, r, p, ρᵉ, tᵉ) + \n",
    "              lindblad_obj(ϵ, h_Re, h_Im, r, p, ρˣ, tˣ) + \n",
    "              lindblad_obj(ϵ, h_Re, h_Im, r, p, ρʸ, tʸ)\n",
    "    return objGEXY\n",
    "end\n"
   ]
  },
  {
   "cell_type": "code",
   "execution_count": 34,
   "metadata": {},
   "outputs": [
    {
     "data": {
      "text/plain": [
       "solve_lindblad_model (generic function with 1 method)"
      ]
     },
     "metadata": {},
     "output_type": "display_data"
    }
   ],
   "source": [
    "# Define a function to create and solve the model with given initial guesses and a general upper bound\n",
    "function solve_lindblad_model(initial_guess, upper_bound) #, γᵢ)\n",
    "\n",
    "    #upper_bound = 260\n",
    "    \n",
    "    model = Model(optimizer_with_attributes(NLopt.Optimizer, \"algorithm\" => :LD_SLSQP))\n",
    "\n",
    "    # Register the element-wise power operator\n",
    "    register(model, :.^, 2, (x, y) -> x.^y, autodiff=true)\n",
    "\n",
    "    # Register the custom objective function\n",
    "    register(model, :lindblad_objectiveGEXY, 5, lindblad_objectiveGEXY, autodiff = true)\n",
    "\n",
    "    # Define lower and upper bounds\n",
    "    lower_bound = -upper_bound\n",
    "\n",
    "    # Define variables with general upper and lower bounds and initial guesses\n",
    "    @variable(model, 0 <= ϵ <= upper_bound, start = initial_guess[1])\n",
    "    @variable(model, lower_bound <= h_Re <= upper_bound, start = initial_guess[2])\n",
    "    @variable(model, lower_bound <= h_Im <= upper_bound, start = initial_guess[3])\n",
    "    @variable(model, lower_bound <= r <= upper_bound, start = initial_guess[4])\n",
    "    @variable(model, lower_bound <= p <= upper_bound, start = initial_guess[5])\n",
    "\n",
    "    # Objective function\n",
    "    @NLobjective(model, Min, lindblad_objectiveGEXY(ϵ, h_Re, h_Im, r, p))\n",
    "\n",
    "    # Solve the model\n",
    "    JuMP.optimize!(model)\n",
    "\n",
    "    # Retrieve and print results\n",
    "    objective_value = JuMP.objective_value(model)\n",
    "    ϵ_value = value(ϵ)\n",
    "    h_Re_value = value(h_Re)\n",
    "    h_Im_value = value(h_Im)\n",
    "    r_value = value(r)\n",
    "    p_value = value(p)\n",
    "\n",
    "\n",
    "    #println(\"Initial Guess: \", initial_guess)\n",
    "    println(\"Objective Value: \", objective_value)\n",
    "    println(\"ϵ: \", ϵ_value)\n",
    "    println(\"r: \", r_value)\n",
    "    println(\"p: \", p_value)\n",
    "\n",
    "\n",
    "    return objective_value, ϵ_value, h_Re_value, h_Im_value, r_value, p_value\n",
    "end"
   ]
  },
  {
   "cell_type": "code",
   "execution_count": 35,
   "metadata": {},
   "outputs": [
    {
     "data": {
      "text/plain": [
       "((Any[0.053333333334, 0.06, 0.066666666667, 0.073333333334, 0.08, 0.086666666667, 0.093333333334, 0.1, 0.106666666667, 0.113333333334  …  23.806666666786, 23.813333333452, 23.820000000119, 23.826666666786, 23.833333333452, 23.840000000119, 23.846666666786, 23.853333333453, 23.860000000119, 23.866666666786], Any[0.053333333334, 0.06, 0.066666666667, 0.073333333334, 0.08, 0.086666666667, 0.093333333334, 0.1, 0.106666666667, 0.113333333334  …  23.806666666786, 23.813333333452, 23.820000000119, 23.826666666786, 23.833333333452, 23.840000000119, 23.846666666786, 23.853333333453, 23.860000000119, 23.866666666786], Any[0.053333333334, 0.06, 0.066666666667, 0.073333333334, 0.08, 0.086666666667, 0.093333333334, 0.1, 0.106666666667, 0.113333333334  …  23.806666666786, 23.813333333452, 23.820000000119, 23.826666666786, 23.833333333452, 23.840000000119, 23.846666666786, 23.853333333453, 23.860000000119, 23.866666666786], Any[0.053333333334, 0.06, 0.066666666667, 0.073333333334, 0.08, 0.086666666667, 0.093333333334, 0.1, 0.106666666667, 0.113333333334  …  23.806666666786, 23.813333333452, 23.820000000119, 23.826666666786, 23.833333333452, 23.840000000119, 23.846666666786, 23.853333333453, 23.860000000119, 23.866666666786]), (Any[ComplexF64[0.996350446096 + 0.0im 0.0 + 0.0im; 0.0 - 0.0im 0.0036495539040000136 + 0.0im], ComplexF64[0.996166981202 + 0.0im 0.0 + 0.0im; 0.0 - 0.0im 0.0038330187980000208 + 0.0im], ComplexF64[0.996075422058 + 0.0im 0.0 + 0.0im; 0.0 - 0.0im 0.003924577941999963 + 0.0im], ComplexF64[0.996053639559 + 0.0im 0.0 + 0.0im; 0.0 - 0.0im 0.003946360441000052 + 0.0im], ComplexF64[0.996042769634 + 0.0im 0.0 + 0.0im; 0.0 - 0.0im 0.003957230366000042 + 0.0im], ComplexF64[0.996075164283 + 0.0im -0.0 - 0.0im; 0.0 + 0.0im 0.003924835716999975 + 0.0im], ComplexF64[0.996169026582 + 0.0im -0.0 - 0.0im; 0.0 + 0.0im 0.0038309734179999833 + 0.0im], ComplexF64[0.996272453486 + 0.0im 0.0 - 0.0im; 0.0 + 0.0im 0.0037275465139999797 + 0.0im], ComplexF64[0.996380409521 + 0.0im -0.0 - 0.0im; 0.0 + 0.0im 0.0036195904789999567 + 0.0im], ComplexF64[0.996525693488 + 0.0im -0.0 - 0.0im; 0.0 + 0.0im 0.0034743065119999805 + 0.0im]  …  ComplexF64[0.998541849586 + 0.0im -3.7597e-8 + 4.3923e-8im; -3.7597e-8 - 4.3923e-8im 0.0014581504139999923 + 0.0im], ComplexF64[0.998543561768 + 0.0im -2.8985e-8 + 6.0012e-8im; -2.8985e-8 - 6.0012e-8im 0.0014564382320000346 + 0.0im], ComplexF64[0.998545525947 + 0.0im -1.7755e-8 + 7.1171e-8im; -1.7755e-8 - 7.1171e-8im 0.0014544740530000322 + 0.0im], ComplexF64[0.998547282257 + 0.0im -6.212e-9 + 6.4531e-8im; -6.212e-9 - 6.4531e-8im 0.0014527177430000426 + 0.0im], ComplexF64[0.99854768286 + 0.0im 3.697e-9 + 5.4308e-8im; 3.697e-9 - 5.4308e-8im 0.0014523171400000479 + 0.0im], ComplexF64[0.998546877418 + 0.0im 1.2412e-8 + 5.1356e-8im; 1.2412e-8 - 5.1356e-8im 0.0014531225820000326 + 0.0im], ComplexF64[0.998545950218 + 0.0im 2.1045e-8 + 5.0311e-8im; 2.1045e-8 - 5.0311e-8im 0.001454049782000033 + 0.0im], ComplexF64[0.998544888286 + 0.0im 2.8792e-8 + 4.2476e-8im; 2.8792e-8 - 4.2476e-8im 0.0014551117140000347 + 0.0im], ComplexF64[0.998542877707 + 0.0im 3.5931e-8 + 4.4633e-8im; 3.5931e-8 - 4.4633e-8im 0.0014571222929999905 + 0.0im], ComplexF64[0.998540396441 + 0.0im 4.3817e-8 + 4.8213e-8im; 4.3817e-8 - 4.8213e-8im 0.001459603558999989 + 0.0im]], Any[ComplexF64[0.009030912483 + 0.0im -0.0 - 0.0im; 0.0 + 0.0im 0.990969087517 + 0.0im], ComplexF64[0.010492380383 + 0.0im 0.0 + 0.0im; -0.0 - 0.0im 0.989507619617 + 0.0im], ComplexF64[0.012050087495 + 0.0im 0.0 + 0.0im; -0.0 - 0.0im 0.987949912505 + 0.0im], ComplexF64[0.013684506486 + 0.0im 0.0 + 0.0im; -0.0 - 0.0im 0.986315493514 + 0.0im], ComplexF64[0.015332613009 + 0.0im 0.0 + 0.0im; -0.0 - 0.0im 0.984667386991 + 0.0im], ComplexF64[0.016992199413 + 0.0im 0.0 + 0.0im; -0.0 - 0.0im 0.983007800587 + 0.0im], ComplexF64[0.018704716373 + 0.0im 0.0 + 0.0im; -0.0 - 0.0im 0.981295283627 + 0.0im], ComplexF64[0.020465693347 + 0.0im 0.0 + 0.0im; -0.0 - 0.0im 0.979534306653 + 0.0im], ComplexF64[0.022227741215 + 0.0im 0.0 + 0.0im; -0.0 - 0.0im 0.977772258785 + 0.0im], ComplexF64[0.023978186892 + 0.0im -0.0 - 0.0im; 0.0 + 0.0im 0.976021813108 + 0.0im]  …  ComplexF64[0.995983337651 + 0.0im 2.3555e-7 - 2.6269e-8im; 2.3555e-7 + 2.6269e-8im 0.004016662349 + 0.0im], ComplexF64[0.995997085159 + 0.0im 2.26538e-7 - 8.2677e-8im; 2.26538e-7 + 8.2677e-8im 0.004002914841000016 + 0.0im], ComplexF64[0.996011113775 + 0.0im 2.07983e-7 - 1.36828e-7im; 2.07983e-7 + 1.36828e-7im 0.003988886225000043 + 0.0im], ComplexF64[0.99602625281 + 0.0im 1.81592e-7 - 1.75648e-7im; 1.81592e-7 + 1.75648e-7im 0.003973747189999988 + 0.0im], ComplexF64[0.996042353897 + 0.0im 1.49604e-7 - 2.06132e-7im; 1.49604e-7 + 2.06132e-7im 0.003957646102999979 + 0.0im], ComplexF64[0.996058482892 + 0.0im 1.12131e-7 - 2.43064e-7im; 1.12131e-7 + 2.43064e-7im 0.003941517107999948 + 0.0im], ComplexF64[0.996074156194 + 0.0im 6.7739e-8 - 2.86417e-7im; 6.7739e-8 + 2.86417e-7im 0.003925843806000029 + 0.0im], ComplexF64[0.996089820511 + 0.0im 1.7058e-8 - 3.14189e-7im; 1.7058e-8 + 3.14189e-7im 0.003910179488999965 + 0.0im], ComplexF64[0.996105937886 + 0.0im -3.612e-8 - 3.17366e-7im; -3.612e-8 + 3.17366e-7im 0.0038940621140000076 + 0.0im], ComplexF64[0.996122012714 + 0.0im -8.8522e-8 - 3.06016e-7im; -8.8522e-8 + 3.06016e-7im 0.003877987285999973 + 0.0im]], Any[ComplexF64[0.502690539352 + 0.0im 0.115633452396 - 0.483738421789im; 0.115633452396 + 0.483738421789im 0.49730946064799997 + 0.0im], ComplexF64[0.503329577895 + 0.0im 0.033409225401 - 0.495438933447im; 0.033409225401 + 0.495438933447im 0.496670422105 + 0.0im], ComplexF64[0.504062754735 + 0.0im -0.049612816286 - 0.493242290214im; -0.049612816286 + 0.493242290214im 0.49593724526500005 + 0.0im], ComplexF64[0.504869127788 + 0.0im -0.131105747908 - 0.477234261487im; -0.131105747908 + 0.477234261487im 0.49513087221200003 + 0.0im], ComplexF64[0.505687731534 + 0.0im -0.20879018791 - 0.447892530983im; -0.20879018791 + 0.447892530983im 0.49431226846599996 + 0.0im], ComplexF64[0.506533692614 + 0.0im -0.28049766383 - 0.406059042905im; -0.28049766383 + 0.406059042905im 0.49346630738599995 + 0.0im], ComplexF64[0.507436882264 + 0.0im -0.344229924745 - 0.352921288155im; -0.344229924745 + 0.352921288155im 0.49256311773600003 + 0.0im], ComplexF64[0.508369099197 + 0.0im -0.398215192644 - 0.289989124027im; -0.398215192644 + 0.289989124027im 0.491630900803 + 0.0im], ComplexF64[0.509304127989 + 0.0im -0.440958353943 - 0.219045101676im; -0.440958353943 + 0.219045101676im 0.49069587201099996 + 0.0im], ComplexF64[0.510251998138 + 0.0im -0.471281653733 - 0.142085945485im; -0.471281653733 + 0.142085945485im 0.48974800186199996 + 0.0im]  …  ComplexF64[0.99726272607 + 0.0im -0.001866260063 - 0.025268455639im; -0.001866260063 + 0.025268455639im 0.002737273930000006 + 0.0im], ComplexF64[0.997270614178 + 0.0im -0.006040385945 - 0.024440566146im; -0.006040385945 + 0.024440566146im 0.0027293858219999967 + 0.0im], ComplexF64[0.997278755824 + 0.0im -0.010017958624 - 0.022925782524im; -0.010017958624 + 0.022925782524im 0.0027212441759999484 + 0.0im], ComplexF64[0.997287516708 + 0.0im -0.013686692299 - 0.020764540651im; -0.013686692299 + 0.020764540651im 0.002712483292000023 + 0.0im], ComplexF64[0.997296069047 + 0.0im -0.016944713545 - 0.018039650926im; -0.016944713545 + 0.018039650926im 0.0027039309530000333 + 0.0im], ComplexF64[0.997303720822 + 0.0im -0.019705891778 - 0.014849546054im; -0.019705891778 + 0.014849546054im 0.0026962791779999717 + 0.0im], ComplexF64[0.997310758254 + 0.0im -0.021899646311 - 0.011279864666im; -0.021899646311 + 0.011279864666im 0.0026892417460000484 + 0.0im], ComplexF64[0.99731763463 + 0.0im -0.023469401142 - 0.007417530924im; -0.023469401142 + 0.007417530924im 0.002682365369999995 + 0.0im], ComplexF64[0.997324377337 + 0.0im -0.024375344924 - 0.003377914143im; -0.024375344924 + 0.003377914143im 0.0026756226630000324 + 0.0im], ComplexF64[0.997331018956 + 0.0im -0.024598872892 + 0.000706885117im; -0.024598872892 - 0.000706885117im 0.0026689810440000405 + 0.0im]], Any[ComplexF64[0.502690681703 + 0.0im 0.483744739553 + 0.110884709525im; 0.483744739553 - 0.110884709525im 0.497309318297 + 0.0im], ComplexF64[0.503329682275 + 0.0im 0.495447287239 + 0.028490418512im; 0.495447287239 - 0.028490418512im 0.49667031772500003 + 0.0im], ComplexF64[0.504062751417 + 0.0im 0.493253386624 - 0.054591827038im; 0.493253386624 + 0.054591827038im 0.49593724858300003 + 0.0im], ComplexF64[0.504869065723 + 0.0im 0.477248858817 - 0.135970410957im; 0.477248858817 + 0.135970410957im 0.49513093427699995 + 0.0im], ComplexF64[0.505687686036 + 0.0im 0.447910747416 - 0.213388425434im; 0.447910747416 + 0.213388425434im 0.494312313964 + 0.0im], ComplexF64[0.506533680318 + 0.0im 0.406081018239 - 0.284733422433im; 0.406081018239 + 0.284733422433im 0.49346631968200005 + 0.0im], ComplexF64[0.507436869002 + 0.0im 0.352947675513 - 0.347992365968im; 0.352947675513 + 0.347992365968im 0.492563130998 + 0.0im], ComplexF64[0.508369069692 + 0.0im 0.290020185058 - 0.401370721754im; 0.290020185058 + 0.401370721754im 0.491630930308 + 0.0im], ComplexF64[0.509304074881 + 0.0im 0.219080423853 - 0.443419094906im; 0.219080423853 + 0.443419094906im 0.49069592511899995 + 0.0im], ComplexF64[0.510251947243 + 0.0im 0.142125545045 - 0.47300525852im; 0.142125545045 + 0.47300525852im 0.48974805275699995 + 0.0im]  …  ComplexF64[0.997262206125 + 0.0im 0.025153668426 - 0.002121359861im; 0.025153668426 + 0.002121359861im 0.0027377938749999498 + 0.0im], ComplexF64[0.99727048351 + 0.0im 0.024446878146 - 0.006291011843im; 0.024446878146 + 0.006291011843im 0.0027295164899999724 + 0.0im], ComplexF64[0.997279022545 + 0.0im 0.023056906861 - 0.010257079221im; 0.023056906861 + 0.010257079221im 0.0027209774549999954 + 0.0im], ComplexF64[0.997287949257 + 0.0im 0.021027341325 - 0.013907599676im; 0.021027341325 + 0.013907599676im 0.0027120507429999607 + 0.0im], ComplexF64[0.997296413401 + 0.0im 0.018419739938 - 0.017141236181im; 0.018419739938 + 0.017141236181im 0.002703586599000052 + 0.0im], ComplexF64[0.997303851062 + 0.0im 0.015311338255 - 0.019872624335im; 0.015311338255 + 0.019872624335im 0.002696148937999965 + 0.0im], ComplexF64[0.997310607944 + 0.0im 0.011792325428 - 0.022032107472im; 0.011792325428 + 0.022032107472im 0.0026893920560000506 + 0.0im], ComplexF64[0.997317168475 + 0.0im 0.007963384945 - 0.023564090009im; 0.007963384945 + 0.023564090009im 0.00268283152500004 + 0.0im], ComplexF64[0.997323615209 + 0.0im 0.003933176404 - 0.024429787552im; 0.003933176404 + 0.024429787552im 0.002676384790999964 + 0.0im], ComplexF64[0.997329998691 + 0.0im -0.000184887964 - 0.02461174263im; -0.000184887964 + 0.02461174263im 0.0026700013089999697 + 0.0im]]))"
      ]
     },
     "metadata": {},
     "output_type": "display_data"
    }
   ],
   "source": [
    "# Define the density matrix evolution and time points\n",
    "\n",
    "evol_data_file_name = \"DATA/ALL_GAMMAS_B4_D10.h5\"\n",
    "\n",
    "#γ = [ \"0.079477\",  \"0.25133\", \"0.79477\", \"2.5133\", \"7.9477\", \"25.133\", \"79.477\", \"251.33\"]\n",
    "\n",
    "γᵢ = \"0.25133\"\n",
    "γᶠ = parse(ComplexF64, γᵢ)\n",
    "\n",
    "tᵍᵉˣʸ , ρᵍᵉˣʸ  = LiPoSID.read_GEXY_timeevolution(evol_data_file_name, γᵢ)"
   ]
  },
  {
   "cell_type": "code",
   "execution_count": 38,
   "metadata": {},
   "outputs": [
    {
     "name": "stdout",
     "output_type": "stream",
     "text": [
      "Objective Value: 0.0017010317851748294\n",
      "ϵ: 25.13648577313258\n",
      "r: 0.548639831905244\n",
      "p: 0.0\n"
     ]
    },
    {
     "data": {
      "text/plain": [
       "(0.0017010317851748294, 25.13648577313258, 0.00027882297989523236, -0.00014560326194184892, 0.548639831905244, 0.0)"
      ]
     },
     "metadata": {},
     "output_type": "display_data"
    }
   ],
   "source": [
    "# Define a general upper bound for all variables\n",
    "upper_bound = 260\n",
    "\n",
    "#Smart guesses for pure relaxation\n",
    "smart_guess = zeros(5)\n",
    "smart_guess[1] = 25.133 # ϵ \n",
    "smart_guess[2] = 0.0\n",
    "smart_guess[3] = 0.0\n",
    "smart_guess[4] = sqrt(γᶠ)  # γ1\n",
    "smart_guess[5] = 0.0  # γ2\n",
    "\n",
    "object_val, ϵ_value, h_Re_value, h_Im_value, r_value, p_value = solve_lindblad_model(smart_guess, upper_bound)"
   ]
  },
  {
   "cell_type": "code",
   "execution_count": 37,
   "metadata": {},
   "outputs": [
    {
     "data": {
      "text/plain": [
       "2×2 Matrix{Float64}:\n",
       " 0.0  0.54864\n",
       " 0.0  0.0"
      ]
     },
     "metadata": {},
     "output_type": "display_data"
    }
   ],
   "source": [
    "# Substitute the optimized parameters back into H and C\n",
    "optimized_H = construct_H(ϵ_value, h_Re_value, h_Im_value)\n",
    "optimized_J1 = construct_J1(r_value)"
   ]
  },
  {
   "cell_type": "code",
   "execution_count": 40,
   "metadata": {},
   "outputs": [
    {
     "data": {
      "text/plain": [
       "2×2 Matrix{Float64}:\n",
       " 0.0   0.0\n",
       " 0.0  -0.0"
      ]
     },
     "metadata": {},
     "output_type": "display_data"
    }
   ],
   "source": [
    "optimized_J2 = construct_J2(p_value)\n",
    "optimized_J3 = construct_J3(p_value)\n",
    "optimized_J4 = construct_J4(p_value)"
   ]
  },
  {
   "cell_type": "code",
   "execution_count": 28,
   "metadata": {},
   "outputs": [
    {
     "data": {
      "text/plain": [
       "2×2 Matrix{ComplexF64}:\n",
       "     12.5703+0.0im         0.000138973-7.38686e-5im\n",
       " 0.000138973+7.38686e-5im     -12.5703+0.0im"
      ]
     },
     "metadata": {},
     "output_type": "display_data"
    }
   ],
   "source": [
    "optimized_H"
   ]
  },
  {
   "cell_type": "code",
   "execution_count": 44,
   "metadata": {},
   "outputs": [
    {
     "data": {
      "text/plain": [
       "4-element Vector{Matrix{ComplexF64}}:\n",
       " [0.0 + 0.0im 0.548639831905244 + 0.0im; 0.0 + 0.0im 0.0 + 0.0im]\n",
       " [0.0 + 0.0im 0.0 + 0.0im; 0.0 + 0.0im 0.0 + 0.0im]\n",
       " [0.0 + 0.0im 0.0 - 0.0im; 0.0 + 0.0im 0.0 + 0.0im]\n",
       " [0.0 + 0.0im 0.0 + 0.0im; 0.0 + 0.0im -0.0 + 0.0im]"
      ]
     },
     "metadata": {},
     "output_type": "display_data"
    }
   ],
   "source": [
    "Hˢⁱᵈ = convert.(ComplexF64,optimized_H)\n",
    "J1ˢⁱᵈ = convert.(ComplexF64,optimized_J1)\n",
    "J2ˢⁱᵈ = convert.(ComplexF64,optimized_J2)\n",
    "J3ˢⁱᵈ = convert.(ComplexF64,optimized_J3)\n",
    "J4ˢⁱᵈ = convert.(ComplexF64,optimized_J4)\n",
    "\n",
    "#effective_Lindblad = LiPoSID.get_lindblad_operators(Cˢⁱᵈ, fᴼᴺᴮ)\n",
    "\n",
    "effective_Lindblad = [J1ˢⁱᵈ, J2ˢⁱᵈ, J3ˢⁱᵈ, J4ˢⁱᵈ]"
   ]
  },
  {
   "cell_type": "code",
   "execution_count": 45,
   "metadata": {},
   "outputs": [],
   "source": [
    "ρᵍ₀ = [ 1 0.\n",
    "        0 0 ]    # state to measure initial distance from\n",
    "\n",
    "dodeca_10_states = [\"D\"*string(n) for n=1:10];\n",
    "\n",
    "basis_states = [\"B\"*string(n) for n=1:4];\n",
    "\n",
    "train_states = basis_states \n",
    "test_states = dodeca_10_states;"
   ]
  },
  {
   "cell_type": "code",
   "execution_count": 16,
   "metadata": {},
   "outputs": [],
   "source": [
    "#using QuantumOptics\n",
    "#basis = NLevelBasis(2)\n",
    "#using Statistics"
   ]
  },
  {
   "cell_type": "code",
   "execution_count": 46,
   "metadata": {},
   "outputs": [
    {
     "data": {
      "text/plain": [
       "test_and_save_D10 (generic function with 1 method)"
      ]
     },
     "metadata": {},
     "output_type": "display_data"
    }
   ],
   "source": [
    "function test_and_save_D10(Hˢⁱᵈ, Jˢⁱᵈ, γᵢ, output_file_name)\n",
    "\n",
    "    file_name = \"DATA/ALL_GAMMAS_B4_D10.h5\"\n",
    "    γ = [\"0.079477\", \"0.25133\", \"0.79477\", \"2.5133\", \"7.9477\", \"25.133\", \"79.477\", \"251.33\"]\n",
    "    #date_and_time_string = string(Dates.format(now(), \"yyyy-u-dd_at_HH-MM\"))\n",
    "    tests_data_file_name = \"BENCHMARK_TEST_\" * output_file_name * \".h5\"\n",
    "\n",
    "    ρᵍ₀ = [ 1 0.\n",
    "            0 0 ]    # state to measure initial distance from\n",
    "\n",
    "    dodeca_10_states = [\"D\"*string(n) for n=1:10];\n",
    "\n",
    "    basis_states = [\"B\"*string(n) for n=1:4];\n",
    "\n",
    "    train_states = basis_states \n",
    "    test_states = dodeca_10_states;\n",
    "\n",
    "    FminStates = []\n",
    "    FmedianStates = []\n",
    "    FmeanStates = []\n",
    "\n",
    "    h5open(tests_data_file_name, \"cw\") do fid\n",
    "        γ_group = create_group(fid, γᵢ) # create coupling group \"gamma_\" *\n",
    "        #γ_group[\"H\"] = convert.(ComplexF64, Hˢⁱᵈ)\n",
    "        #γ_group[\"C\"] = convert.(ComplexF64, Cˢⁱᵈ)\n",
    "    end\n",
    "\n",
    "    for state in test_states # loop over initial states\n",
    "        \n",
    "        print(state*\" \")\n",
    "\n",
    "        start_time = time()\n",
    "\n",
    "        tₛ, ρₛ = LiPoSID.read_timeevolution(file_name, state, γᵢ)\n",
    "        ρₛ = convert(Vector{Matrix{ComplexF64}}, ρₛ)\n",
    "        \n",
    "        ρᵗˢᵗ = [DenseOperator(basis,Hermitian(ρₜ)) for ρₜ in ρₛ]\n",
    "        tᵗˢᵗ = convert.(Float64, tₛ)\n",
    "\n",
    "        ρₒ = DenseOperator(basis,ρₛ[1])\n",
    "        dt = tᵗˢᵗ[2] - tᵗˢᵗ[1]\n",
    "        tᵉⁿᵈ = tᵗˢᵗ[end]\n",
    "\n",
    "        #print(\"effective_Lindblad_ops for Kossakowski\")       \n",
    "        effective_Lindblad_ops = [DenseOperator(basis,j) for j in Jˢⁱᵈ]\n",
    "\n",
    "        #print(\"Simulating Kossakowski\")\n",
    "        tout, ρ_t_kossak = timeevolution.master(tᵗˢᵗ, ρₒ, DenseOperator(basis, Hˢⁱᵈ), effective_Lindblad_ops)\n",
    "        ρˢⁱᵈ  = [ρₜ.data for ρₜ in ρ_t_kossak]\n",
    "\n",
    "        #print(\"Calculating Fidelity\")\n",
    "\n",
    "        #F = LiPoSID.fidelity_series(basis, [ρₜ.data for ρₜ in ρˢⁱᵐ], ρˢⁱᵈ)\n",
    "        F = LiPoSID.fidelity_series(basis, ρₛ, ρˢⁱᵈ)\n",
    "\n",
    "        h5open(tests_data_file_name, \"cw\") do fid\n",
    "            #γ_group = create_group(fid, \"gamma_\" * γᵢ) # open coupling group\n",
    "            γ_group = open_group(fid, γᵢ) # open coupling group \"gamma_\" *\n",
    "            init_state_group = create_group(γ_group, state) # create initial state group\n",
    "            init_state_group[\"Fidelity\"] = convert.(Float64, F)\n",
    "        end\n",
    "        \n",
    "        FminState = minimum(F)\n",
    "        FmedianState = median(F)\n",
    "        FmeanState = mean(F)\n",
    "        \n",
    "        push!(FminStates, FminState)\n",
    "        push!(FmedianStates, FmedianState)\n",
    "        push!(FmeanStates, FmeanState)\n",
    "\n",
    "    end\n",
    "\n",
    "    # Calculate the mean\n",
    "    F_mean_value = mean(FmeanStates)\n",
    "\n",
    "    # Calculate the median\n",
    "    F_median_value = median(FmedianStates)\n",
    "\n",
    "    # Calculate the min\n",
    "    F_min_value = minimum(FminStates)\n",
    "\n",
    "    println()\n",
    "    println(\"Mimimal fidelity for \"*γᵢ*\": \", F_min_value)\n",
    "    println(\"Median fidelity for \"*γᵢ*\": \", F_median_value)\n",
    "\n",
    "    return(F_min_value, F_median_value)\n",
    "    \n",
    "end"
   ]
  },
  {
   "cell_type": "code",
   "execution_count": 47,
   "metadata": {},
   "outputs": [
    {
     "data": {
      "text/plain": [
       "test_D10 (generic function with 1 method)"
      ]
     },
     "metadata": {},
     "output_type": "display_data"
    }
   ],
   "source": [
    "function test_D10(Hˢⁱᵈ, effective_Lindblad, γᵢ)\n",
    "\n",
    "    file_name = \"DATA/ALL_GAMMAS_B4_D10.h5\"\n",
    "\n",
    "    FminStates = []\n",
    "    FmedianStates = []\n",
    "    FmeanStates = []\n",
    "\n",
    "    for state in test_states # loop over initial states\n",
    "        \n",
    "        print(state*\" \")\n",
    "\n",
    "        start_time = time()\n",
    "\n",
    "        tₛ, ρₛ = LiPoSID.read_timeevolution(file_name, state, γᵢ)\n",
    "        ρₛ = convert(Vector{Matrix{ComplexF64}}, ρₛ)\n",
    "        #bᵗˢᵗ = LiPoSID.bloch(ρₛ)\n",
    "        ρᵗˢᵗ = [DenseOperator(basis,Hermitian(ρₜ)) for ρₜ in ρₛ]\n",
    "        tᵗˢᵗ = convert.(Float64, tₛ)\n",
    "\n",
    "        #Simulated LME \n",
    "        #tˢⁱᵐ, ρˢⁱᵐ  = timeevolution.master(tᵗˢᵗ, ρᵗˢᵗ[1], DenseOperator(basis, Hˢⁱᵈ), [Jˢⁱᵐ])\n",
    "        #bˢⁱᵐ = LiPoSID.bloch([ρᵢ.data for ρᵢ in ρˢⁱᵐ])\n",
    "\n",
    "        ρₒ = DenseOperator(basis,ρₛ[1])\n",
    "        dt = tᵗˢᵗ[2] - tᵗˢᵗ[1]\n",
    "        tᵉⁿᵈ = tᵗˢᵗ[end]\n",
    "\n",
    "        #print(\"effective_Lindblad_ops for Kossakowski\")\n",
    "\n",
    "        \n",
    "        effective_Lindblad_ops = [DenseOperator(basis,j) for j in effective_Lindblad]\n",
    "\n",
    "        #print(\"Simulating Kossakowski\")\n",
    "\n",
    "        tout, ρ_t_kossak = timeevolution.master(tᵗˢᵗ, ρₒ, DenseOperator(basis, Hˢⁱᵈ), effective_Lindblad_ops)\n",
    "        ρˢⁱᵈ  = [ρₜ.data for ρₜ in ρ_t_kossak]\n",
    "\n",
    "        #print(\"Calculating Fidelity\")\n",
    "\n",
    "        #F = LiPoSID.fidelity_series(basis, [ρₜ.data for ρₜ in ρˢⁱᵐ], ρˢⁱᵈ)\n",
    "        F = LiPoSID.fidelity_series(basis, ρₛ, ρˢⁱᵈ)\n",
    "        \n",
    "        FminState = minimum(F)\n",
    "        FmedianState = median(F)\n",
    "        FmeanState = mean(F)\n",
    "        \n",
    "        push!(FminStates, FminState)\n",
    "        push!(FmedianStates, FmedianState)\n",
    "        push!(FmeanStates, FmeanState)\n",
    "\n",
    "    end\n",
    "\n",
    "    # Calculate the mean\n",
    "    F_mean_value = mean(FmeanStates)\n",
    "\n",
    "    # Calculate the median\n",
    "    F_median_value = median(FmedianStates)\n",
    "\n",
    "    # Calculate the min\n",
    "    F_min_value = minimum(FminStates)\n",
    "\n",
    "    println()\n",
    "    println(\"Mimimal fidelity for \"*γᵢ*\": \", F_min_value)\n",
    "    println(\"Median fidelity for \"*γᵢ*\": \", F_median_value)\n",
    "\n",
    "    return(F_min_value, F_median_value)\n",
    "    \n",
    "end"
   ]
  },
  {
   "cell_type": "code",
   "execution_count": 48,
   "metadata": {},
   "outputs": [
    {
     "name": "stdout",
     "output_type": "stream",
     "text": [
      "D1 D2 D3 D4 D5 D6 D7 D8 D9 D10 \n",
      "Mimimal fidelity for 0.25133: 0.9974175358938878\n",
      "Median fidelity for 0.25133: 0.9992756536246723\n"
     ]
    },
    {
     "data": {
      "text/plain": [
       "(0.9974175358938878, 0.9992756536246723)"
      ]
     },
     "metadata": {},
     "output_type": "display_data"
    }
   ],
   "source": [
    "test_D10(Hˢⁱᵈ, effective_Lindblad, γᵢ)"
   ]
  },
  {
   "cell_type": "code",
   "execution_count": 49,
   "metadata": {},
   "outputs": [
    {
     "data": {
      "text/plain": [
       "0.25133"
      ]
     },
     "metadata": {},
     "output_type": "display_data"
    }
   ],
   "source": [
    "γᶠ = real(γᶠ)"
   ]
  },
  {
   "cell_type": "code",
   "execution_count": 50,
   "metadata": {},
   "outputs": [
    {
     "name": "stdout",
     "output_type": "stream",
     "text": [
      "D1 D2 D3 D4 D5 D6 D7 D8 D9 D10 \n",
      "Mimimal fidelity for 0.25133: 0.9993930860227619\n",
      "Median fidelity for 0.25133: 0.9999547558360644\n"
     ]
    },
    {
     "data": {
      "text/plain": [
       "(0.9993930860227619, 0.9999547558360644)"
      ]
     },
     "metadata": {},
     "output_type": "display_data"
    }
   ],
   "source": [
    "H_anz = [ 25.14   0+0im\n",
    "           0.      25.14 ]/2\n",
    "\n",
    "C_anz = [    γᶠ       im*γᶠ    0.0\n",
    "            -im*γᶠ      γᶠ      0.0\n",
    "            0.0        0.0      0.0  ]\n",
    "\n",
    "ansatz_Lindblad = LiPoSID.get_lindblad_operators(C_anz, fᴼᴺᴮ)\n",
    "\n",
    "test_D10(Hˢⁱᵈ, ansatz_Lindblad, γᵢ)"
   ]
  },
  {
   "cell_type": "code",
   "execution_count": 51,
   "metadata": {},
   "outputs": [
    {
     "name": "stdout",
     "output_type": "stream",
     "text": [
      "D1 D2 D3 D4 D5 D6 D7 D8 D9 D10 \n",
      "Mimimal fidelity for 0.25133: 0.9993930860227618\n",
      "Median fidelity for 0.25133: 0.9999547558360644\n"
     ]
    },
    {
     "data": {
      "text/plain": [
       "(0.9993930860227618, 0.9999547558360644)"
      ]
     },
     "metadata": {},
     "output_type": "display_data"
    }
   ],
   "source": [
    "J1_anz = [ 0.   sqrt(γᶠ)\n",
    "           0.    0.     ]\n",
    "       \n",
    "test_D10(Hˢⁱᵈ, [J1_anz], γᵢ)"
   ]
  },
  {
   "cell_type": "code",
   "execution_count": 53,
   "metadata": {},
   "outputs": [],
   "source": [
    "using Dates, Random"
   ]
  },
  {
   "cell_type": "code",
   "execution_count": 55,
   "metadata": {},
   "outputs": [
    {
     "name": "stdout",
     "output_type": "stream",
     "text": [
      "γ=0.079477\n",
      "Objective Value: 0.0013066910221882493\n",
      "ϵ: 25.122089508069056\n",
      "r: 0.30848168203649334\n",
      "p: 0.0\n",
      "D1 D2 D3 D4 D5 D6 D7 D8 D9 D10 \n",
      "Mimimal fidelity for 0.079477: 0.9969654423107038\n",
      "Median fidelity for 0.079477: 0.998112670856418\n",
      "γ=0.25133\n",
      "Objective Value: 0.0017010317851748294\n",
      "ϵ: 25.13648577313258\n",
      "r: 0.548639831905244\n",
      "p: 0.0\n",
      "D1 D2 D3 D4 D5 D6 D7 D8 D9 D10 \n",
      "Mimimal fidelity for 0.25133: 0.9974175358938878\n",
      "Median fidelity for 0.25133: 0.9992756536246723\n",
      "γ=0.79477\n",
      "Objective Value: 0.001967122288200112\n",
      "ϵ: 25.15314707799559\n",
      "r: 0.9735337749938767\n",
      "p: 0.0\n",
      "D1 D2 D3 D4 D5 D6 D7 D8 D9 D10 \n",
      "Mimimal fidelity for 0.79477: 0.9973889638475019\n",
      "Median fidelity for 0.79477: 0.9985306890634686\n",
      "γ=2.5133\n",
      "Objective Value: 0.0031599188843957383\n",
      "ϵ: 25.200229844237267\n",
      "r: 1.710372191327141\n",
      "p: 0.0\n",
      "D1 D2 D3 D4 D5 D6 D7 D8 D9 D10 \n",
      "Mimimal fidelity for 2.5133: 0.9927907618197515\n",
      "Median fidelity for 2.5133: 0.9960993923832566\n",
      "γ=7.9477\n",
      "Objective Value: 0.005008760898741296\n",
      "ϵ: 24.962122076679176\n",
      "r: 2.785571163219059\n",
      "p: 0.0\n",
      "D1 D2 D3 D4 D5 D6 D7 D8 D9 D10 \n",
      "Mimimal fidelity for 7.9477: 0.9769550850172398\n",
      "Median fidelity for 7.9477: 0.9898206573153137\n",
      "γ=25.133\n",
      "Objective Value: 0.0032779015303000857\n",
      "ϵ: 18.86459889176727\n",
      "r: 3.4270845874825717\n",
      "p: 0.0\n",
      "D1 D2 D3 D4 D5 D6 D7 D8 D9 D10 \n",
      "Mimimal fidelity for 25.133: 0.8867578151388128\n",
      "Median fidelity for 25.133: 0.9740161895596724\n",
      "γ=79.477\n",
      "Objective Value: 0.012385833664853633\n",
      "ϵ: 9.262617860799303\n",
      "r: 2.4920047715981792\n",
      "p: 0.0\n",
      "D1 D2 D3 D4 D5 D6 D7 D8 D9 D10 \n",
      "Mimimal fidelity for 79.477: 0.7676091884919927\n",
      "Median fidelity for 79.477: 0.928473211989855\n",
      "γ=251.33\n",
      "Objective Value: 0.03623939200996608\n",
      "ϵ: 1.2802625160624888\n",
      "r: -2.8774873786671558\n",
      "p: 0.0\n",
      "D1 D2 D3 D4 D5 D6 D7 D8 D9 D10 \n",
      "Mimimal fidelity for 251.33: 0.7627937034550278\n",
      "Median fidelity for 251.33: 0.8694702660876998\n"
     ]
    }
   ],
   "source": [
    "date_and_time_string = string(Dates.format(now(), \"yyyy-u-dd_at_HH-MM\"))\n",
    "\n",
    "evol_data_file_name = \"DATA/ALL_GAMMAS_B4_D10.h5\"\n",
    "\n",
    "tests_dir=\"\"\n",
    "\n",
    "model_name = \"LindbladFrob_Jump_NLOPT_LD_SLSQP\"\n",
    "\n",
    "models_data_file_name = model_name * date_and_time_string \n",
    "\n",
    "γ = [ \"0.079477\",  \"0.25133\", \"0.79477\", \"2.5133\", \"7.9477\", \"25.133\", \"79.477\", \"251.33\"]\n",
    "\n",
    "for γᵢ in  γ\n",
    "    println(\"γ=\",γᵢ)\n",
    "\n",
    "    γᶠ = parse(ComplexF64, γᵢ)\n",
    "\n",
    "    tᵍᵉˣʸ , ρᵍᵉˣʸ  = LiPoSID.read_GEXY_timeevolution(evol_data_file_name, γᵢ)\n",
    "\n",
    "    #ρᵍ, ρᵉ, ρˣ, ρʸ = ρᵍᵉˣʸ\n",
    "    #tᵍ, tᵉ, tˣ, tʸ = tᵍᵉˣʸ\n",
    "\n",
    "    # Define a general upper bound for all variables\n",
    "    upper_bound = 260\n",
    "\n",
    "    #Smart guesses for pure relaxation\n",
    "    smart_guess = zeros(5)\n",
    "    smart_guess[1] = 25.133 # ϵ \n",
    "    smart_guess[2] = 0.0\n",
    "    smart_guess[3] = 0.0\n",
    "    smart_guess[4] = sqrt(γᶠ)  # r\n",
    "    smart_guess[5] = 0.0  # p\n",
    "\n",
    "\n",
    "    elapsed_time = @timed begin\n",
    "\n",
    "        object_val, ϵ_value, h_Re_value, h_Im_value, r_value, p_value = solve_lindblad_model(smart_guess, upper_bound)\n",
    "    \n",
    "    end\n",
    "\n",
    "    # Substitute the optimized parameters back into H and C\n",
    "    optimized_H = construct_H(ϵ_value, h_Re_value, h_Im_value)\n",
    "    optimized_J1 = construct_J1(r_value)\n",
    "    optimized_J2 = construct_J2(p_value)\n",
    "    optimized_J3 = construct_J3(p_value)\n",
    "    optimized_J4 = construct_J4(p_value)\n",
    "\n",
    "    Hˢⁱᵈ = convert.(ComplexF64,optimized_H)\n",
    "    J1ˢⁱᵈ = convert.(ComplexF64,optimized_J1)\n",
    "    J2ˢⁱᵈ = convert.(ComplexF64,optimized_J2)\n",
    "    J3ˢⁱᵈ = convert.(ComplexF64,optimized_J3)\n",
    "    J4ˢⁱᵈ = convert.(ComplexF64,optimized_J4)\n",
    "\n",
    "    effective_Lindblad = [J1ˢⁱᵈ, J2ˢⁱᵈ, J3ˢⁱᵈ, J4ˢⁱᵈ]\n",
    "\n",
    "    h5open(tests_dir * \"MODEL_\" * models_data_file_name * \".h5\", \"cw\") do fid\n",
    "        γ_group = create_group(fid, γᵢ) # create coupling group \"gamma_\" *\n",
    "        γ_group[\"H\"] = convert.(ComplexF64, Hˢⁱᵈ)\n",
    "        γ_group[\"J1\"] = convert.(ComplexF64, J1ˢⁱᵈ)\n",
    "        γ_group[\"J2\"] = convert.(ComplexF64, J2ˢⁱᵈ)\n",
    "        γ_group[\"J3\"] = convert.(ComplexF64, J3ˢⁱᵈ)\n",
    "        γ_group[\"J4\"] = convert.(ComplexF64, J4ˢⁱᵈ)\n",
    "        γ_group[\"runtime\"] = elapsed_time.time\n",
    "    end\n",
    "\n",
    "    #test_D10(Hˢⁱᵈ, effective_Lindblad, γᵢ)\n",
    "\n",
    "    test_and_save_D10(Hˢⁱᵈ, effective_Lindblad, γᵢ, models_data_file_name)\n",
    "    \n",
    "end\n",
    "\n",
    "    "
   ]
  }
 ],
 "metadata": {
  "kernelspec": {
   "display_name": "Julia 1.10.2",
   "language": "julia",
   "name": "julia-1.10"
  },
  "language_info": {
   "file_extension": ".jl",
   "mimetype": "application/julia",
   "name": "julia",
   "version": "1.10.2"
  }
 },
 "nbformat": 4,
 "nbformat_minor": 2
}
