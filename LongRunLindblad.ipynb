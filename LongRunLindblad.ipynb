{
 "cells": [
  {
   "cell_type": "code",
   "execution_count": 1,
   "metadata": {},
   "outputs": [],
   "source": [
    "include(\"LiPoSID.jl\")\n",
    "\n",
    "using QuantumOptics\n",
    "basis = NLevelBasis(2)\n",
    "using LinearAlgebra\n",
    "\n",
    "using HDF5\n",
    "\n",
    "using Statistics"
   ]
  },
  {
   "cell_type": "code",
   "execution_count": 2,
   "metadata": {},
   "outputs": [
    {
     "data": {
      "text/plain": [
       "\"DATA/ALL_GAMMAS_B4_D10.h5\""
      ]
     },
     "metadata": {},
     "output_type": "display_data"
    }
   ],
   "source": [
    "dodeca_10_states = [\"D\"*string(n) for n=1:10];\n",
    "basis_states = [\"B\"*string(n) for n=1:4];\n",
    "\n",
    "train_states = basis_states \n",
    "test_states = dodeca_10_states;\n",
    "\n",
    "evol_data_file_name = \"DATA/ALL_GAMMAS_B4_D10.h5\""
   ]
  },
  {
   "cell_type": "code",
   "execution_count": 6,
   "metadata": {},
   "outputs": [
    {
     "data": {
      "text/plain": [
       "read_H_Js_from_hdf5 (generic function with 1 method)"
      ]
     },
     "metadata": {},
     "output_type": "display_data"
    }
   ],
   "source": [
    "\n",
    "function read_H_Js_from_hdf5(file_path::String, gamma_group::String)\n",
    "    H = []\n",
    "    Js = []\n",
    "    \n",
    "    h5open(file_path, \"r\") do fid\n",
    "        # Navigate to the gamma group\n",
    "        γ_group = fid[gamma_group]\n",
    "        \n",
    "        # Read H and J1 to J4 as they are, without slicing or indexing\n",
    "        H = read(γ_group[\"H\"])\n",
    "        Js = [read(γ_group[\"J$i\"]) for i in 1:4]\n",
    "    end\n",
    "    \n",
    "    return H, Js\n",
    "end"
   ]
  },
  {
   "cell_type": "code",
   "execution_count": 3,
   "metadata": {},
   "outputs": [
    {
     "data": {
      "text/plain": [
       "\"MODEL_LindbladFrob_Jump_NLOPT_LD_SLSQP2024-Oct-04_at_11-24.h5\""
      ]
     },
     "metadata": {},
     "output_type": "display_data"
    }
   ],
   "source": [
    "models_file = \"MODEL_LindbladFrob_Jump_NLOPT_LD_SLSQP2024-Oct-04_at_11-24.h5\""
   ]
  },
  {
   "cell_type": "code",
   "execution_count": 7,
   "metadata": {},
   "outputs": [
    {
     "data": {
      "text/plain": [
       "(ComplexF64[12.561044754034528 + 0.0im 4.675745626956162e-5 - 4.345168871252416e-5im; 4.675745626956162e-5 + 4.345168871252416e-5im -12.561044754034528 + 0.0im], Matrix{ComplexF64}[[0.0 + 0.0im 0.30848168203649334 + 0.0im; 0.0 + 0.0im 0.0 + 0.0im], [0.0 + 0.0im 0.0 + 0.0im; 0.0 + 0.0im 0.0 + 0.0im], [0.0 + 0.0im 0.0 - 0.0im; 0.0 + 0.0im 0.0 + 0.0im], [0.0 + 0.0im 0.0 + 0.0im; 0.0 + 0.0im -0.0 + 0.0im]])"
      ]
     },
     "metadata": {},
     "output_type": "display_data"
    }
   ],
   "source": [
    "H, Js = read_H_Js_from_hdf5(models_file, \"0.079477\")"
   ]
  },
  {
   "cell_type": "code",
   "execution_count": 25,
   "metadata": {},
   "outputs": [
    {
     "name": "stdout",
     "output_type": "stream",
     "text": [
      " Initial state of Spin boson data\n",
      "\n",
      "γ =  0.079477\n",
      "\n",
      "D1 Length: 1|2|3|4|5|6|7|8|9|10|11|12|13|14|15|16|17|18|19|20|21|22|23|24|25|26|27|28|29|30|\n",
      "D2 Length: 1|2|3|4|5|6|7|8|9|10|11|12|13|14|15|16|17|18|19|20|21|22|23|24|25|26|27|28|29|30|\n",
      "D3 Length: 1|2|3|4|5|6|7|8|9|10|11|12|13|14|15|16|17|18|19|20|21|22|23|24|25|26|27|28|29|30|\n",
      "D4 Length: 1|2|3|4|5|6|7|8|9|10|11|12|13|14|15|16|17|18|19|20|21|22|23|24|25|26|27|28|29|30|\n",
      "D5 Length: 1|2|3|4|5|6|7|8|9|10|11|12|13|14|15|16|17|18|19|20|21|22|23|24|25|26|27|28|29|30|\n",
      "D6 Length: 1|2|3|4|5|6|7|8|9|10|11|12|13|14|15|16|17|18|19|20|21|22|23|24|25|26|27|28|29|30|\n",
      "D7 Length: 1|2|3|4|5|6|7|8|9|10|11|12|13|14|15|16|17|18|19|20|21|22|23|24|25|26|27|28|29|30|\n",
      "D8 Length: 1|2|3|4|5|6|7|8|9|10|11|12|13|14|15|16|17|18|19|20|21|22|23|24|25|26|27|28|29|30|\n",
      "D9 Length: 1|2|3|4|5|6|7|8|9|10|11|12|13|14|15|16|17|18|19|20|21|22|23|24|25|26|27|28|29|30|\n",
      "D10 Length: 1|2|3|4|5|6|7|8|9|10|11|12|13|14|15|16|17|18|19|20|21|22|23|24|25|26|27|28|29|30|\n",
      "γ =  0.25133\n",
      "\n",
      "D1 Length: 1|2|3|4|5|6|7|8|9|10|11|12|13|14|15|16|17|18|19|20|21|22|23|24|25|26|27|28|29|30|\n",
      "D2 Length: 1|2|3|4|5|6|7|8|9|10|11|12|13|14|15|16|17|18|19|20|21|22|23|24|25|26|27|28|29|30|\n",
      "D3 Length: 1|2|3|4|5|6|7|8|9|10|11|12|13|14|15|16|17|18|19|20|21|22|23|24|25|26|27|28|29|30|\n",
      "D4 Length: 1|2|3|4|5|6|7|8|9|10|11|12|13|14|15|16|17|18|19|20|21|22|23|24|25|26|27|28|29|30|\n",
      "D5 Length: 1|2|3|4|5|6|7|8|9|10|11|12|13|14|15|16|17|18|19|20|21|22|23|24|25|26|27|28|29|30|\n",
      "D6 Length: 1|2|3|4|5|6|7|8|9|10|11|12|13|14|15|16|17|18|19|20|21|22|23|24|25|26|27|28|29|30|\n",
      "D7 Length: 1|2|3|4|5|6|7|8|9|10|11|12|13|14|15|16|17|18|19|20|21|22|23|24|25|26|27|28|29|30|\n",
      "D8 Length: 1|2|3|4|5|6|7|8|9|10|11|12|13|14|15|16|17|18|19|20|21|22|23|24|25|26|27|28|29|30|\n",
      "D9 Length: 1|2|3|4|5|6|7|8|9|10|11|12|13|14|15|16|17|18|19|20|21|22|23|24|25|26|27|28|29|30|\n",
      "D10 Length: 1|2|3|4|5|6|7|8|9|10|11|12|13|14|15|16|17|18|19|20|21|22|23|24|25|26|27|28|29|30|\n",
      "γ =  0.79477\n",
      "\n",
      "D1 Length: 1|2|3|4|5|6|7|8|9|10|11|12|13|14|15|16|17|18|19|20|21|22|23|24|25|26|27|28|29|30|\n",
      "D2 Length: 1|2|3|4|5|6|7|8|9|10|11|12|13|14|15|16|17|18|19|20|21|22|23|24|25|26|27|28|29|30|\n",
      "D3 Length: 1|2|3|4|5|6|7|8|9|10|11|12|13|14|15|16|17|18|19|20|21|22|23|24|25|26|27|28|29|30|\n",
      "D4 Length: 1|2|3|4|5|6|7|8|9|10|11|12|13|14|15|16|17|18|19|20|21|22|23|24|25|26|27|28|29|30|\n",
      "D5 Length: 1|2|3|4|5|6|7|8|9|10|11|12|13|14|15|16|17|18|19|20|21|22|23|24|25|26|27|28|29|30|\n",
      "D6 Length: 1|2|3|4|5|6|7|8|9|10|11|12|13|14|15|16|17|18|19|20|21|22|23|24|25|26|27|28|29|30|\n",
      "D7 Length: 1|2|3|4|5|6|7|8|9|10|11|12|13|14|15|16|17|18|19|20|21|22|23|24|25|26|27|28|29|30|\n",
      "D8 Length: 1|2|3|4|5|6|7|8|9|10|11|12|13|14|15|16|17|18|19|20|21|22|23|24|25|26|27|28|29|30|\n",
      "D9 Length: 1|2|3|4|5|6|7|8|9|10|11|12|13|14|15|16|17|18|19|20|21|22|23|24|25|26|27|28|29|30|\n",
      "D10 Length: 1|2|3|4|5|6|7|8|9|10|11|12|13|14|15|16|17|18|19|20|21|22|23|24|25|26|27|28|29|30|\n",
      "γ =  2.5133\n",
      "\n",
      "D1 Length: 1|2|3|4|5|6|7|8|9|10|11|12|13|14|15|16|17|18|19|20|21|22|23|24|25|26|27|28|29|30|\n",
      "D2 Length: 1|2|3|4|5|6|7|8|9|10|11|12|13|14|15|16|17|18|19|20|21|22|23|24|25|26|27|28|29|30|\n",
      "D3 Length: 1|2|3|4|5|6|7|8|9|10|11|12|13|14|15|16|17|18|19|20|21|22|23|24|25|26|27|28|29|30|\n",
      "D4 Length: 1|2|3|4|5|6|7|8|9|10|11|12|13|14|15|16|17|18|19|20|21|22|23|24|25|26|27|28|29|30|\n",
      "D5 Length: 1|2|3|4|5|6|7|8|9|10|11|12|13|14|15|16|17|18|19|20|21|22|23|24|25|26|27|28|29|30|\n",
      "D6 Length: 1|2|3|4|5|6|7|8|9|10|11|12|13|14|15|16|17|18|19|20|21|22|23|24|25|26|27|28|29|30|\n",
      "D7 Length: 1|2|3|4|5|6|7|8|9|10|11|12|13|14|15|16|17|18|19|20|21|22|23|24|25|26|27|28|29|30|\n",
      "D8 Length: 1|2|3|4|5|6|7|8|9|10|11|12|13|14|15|16|17|18|19|20|21|22|23|24|25|26|27|28|29|30|\n",
      "D9 Length: 1|2|3|4|5|6|7|8|9|10|11|12|13|14|15|16|17|18|19|20|21|22|23|24|25|26|27|28|29|30|\n",
      "D10 Length: 1|2|3|4|5|6|7|8|9|10|11|12|13|14|15|16|17|18|19|20|21|22|23|24|25|26|27|28|29|30|"
     ]
    }
   ],
   "source": [
    "println(\" Initial state of Spin boson data\")\n",
    "\n",
    "γ = [ \"0.079477\",  \"0.25133\", \"0.79477\", \"2.5133\"] #, \"7.9477\", \"25.133\", \"79.477\", \"251.33\"]\n",
    "\n",
    "non_physical_time_data_file = \"SB_simulation_init_states.h5\"\n",
    "\n",
    "init_states_by_gamma = []\n",
    "init_times_by_gamma = []\n",
    "\n",
    "for γᵢ in γ\n",
    "\n",
    "    println()\n",
    "    println(\"γ =  \"*γᵢ)\n",
    "\n",
    "    H, Js = read_H_Js_from_hdf5(models_file, γᵢ)\n",
    "    H = DenseOperator(basis,H)\n",
    "    Js = [DenseOperator(basis,j) for j in Js]\n",
    "\n",
    "    for state in test_states # loop over initial states\n",
    "        println()\n",
    "        \n",
    "        print(state*\" \")\n",
    "\n",
    "        tₛ, ρₛ = LiPoSID.read_timeevolution(evol_data_file_name, state, γᵢ)\n",
    "        ρₒ = DenseOperator(basis, ρₛ[1]); \n",
    "        tᵗˢᵗ = convert(Vector{Float64}, tₛ)\n",
    "        tₒ = tᵗˢᵗ[1]\n",
    "        dt = tᵗˢᵗ[2] - tᵗˢᵗ[1]\n",
    "        tᵉⁿᵈ = tᵗˢᵗ[end]\n",
    "\n",
    "        print(\"Length: \")\n",
    "\n",
    "        for i in 1:30   \n",
    "            print(string(i)*\"|\")\n",
    "            tˢⁱᵈ, ρˢⁱᵈ = timeevolution.master(tᵗˢᵗ, ρₒ, H, Js)\n",
    "            ρₒ  = ρˢⁱᵈ[end]\n",
    "            tᵗˢᵗ = tᵗˢᵗ .+ tˢⁱᵈ[end]\n",
    "            if abs(abs(tr(ρₒ.data)) - 1) > 1e-12\n",
    "                print(abs(tr(ρₒ.data)))\n",
    "            end\n",
    "        end\n",
    "\n",
    "        #h5open(init_states_data_file,\"cw\") do fid\n",
    "        #    γ_group = open_group(fid, γᵢ) # open gamma coupling group\n",
    "        #    init_state_group = create_group(γ_group, state) # create initial state group\n",
    "        #    init_state_group[\"non_physical_time\"] = t_non_phys\n",
    "        #end\n",
    "    \n",
    "    \n",
    "    end\n",
    "\n",
    "end"
   ]
  },
  {
   "cell_type": "code",
   "execution_count": 8,
   "metadata": {},
   "outputs": [
    {
     "name": "stdout",
     "output_type": "stream",
     "text": [
      "123456789101112131415161718192021222324252627282930313233343536373839404142434445464748495051525354555657585960616263646566676869707172737475767778798081828384858687888990919293949596979899100"
     ]
    }
   ],
   "source": [
    "for i in 1:100\n",
    "    print(i)\n",
    "end"
   ]
  },
  {
   "cell_type": "code",
   "execution_count": null,
   "metadata": {},
   "outputs": [],
   "source": []
  }
 ],
 "metadata": {
  "kernelspec": {
   "display_name": "Julia 1.10.2",
   "language": "julia",
   "name": "julia-1.10"
  },
  "language_info": {
   "file_extension": ".jl",
   "mimetype": "application/julia",
   "name": "julia",
   "version": "1.10.2"
  }
 },
 "nbformat": 4,
 "nbformat_minor": 2
}
