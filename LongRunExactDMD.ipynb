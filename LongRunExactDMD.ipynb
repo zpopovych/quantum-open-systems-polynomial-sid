{
 "cells": [
  {
   "cell_type": "code",
   "execution_count": 2,
   "metadata": {},
   "outputs": [],
   "source": [
    "include(\"LiPoSID.jl\")\n",
    "using QuantumOptics\n",
    "basis = NLevelBasis(2)\n",
    "using LinearAlgebra\n",
    "using Plots\n",
    "\n",
    "using Dates\n",
    "using HDF5"
   ]
  },
  {
   "cell_type": "code",
   "execution_count": 10,
   "metadata": {},
   "outputs": [
    {
     "data": {
      "text/plain": [
       "bloch (generic function with 1 method)"
      ]
     },
     "metadata": {},
     "output_type": "display_data"
    }
   ],
   "source": [
    "function propagate(A, x0, steps)\n",
    "    \n",
    "    x = []\n",
    "    push!(x, x0)\n",
    "\n",
    "    @assert size(x0,1) == size(A,1) == size(A,2)\n",
    "\n",
    "    for i=2:steps\n",
    "        push!(x, A * x[end])\n",
    "    end\n",
    "\n",
    "    return x\n",
    "end \n",
    "\n",
    "function bloch(ρ_list)\n",
    "    # Pauli matricies\n",
    "    σ = [ [0 1; 1 0], [0 -im; im 0], [1 0; 0 -1], [1 0; 0 1] ]\n",
    "\n",
    "    bloch_vec = [\n",
    "        convert.(Float64, [ ρ[1,2]+ρ[2,1],\n",
    "                           (ρ[1,2]-ρ[2,1])*im,\n",
    "                            ρ[1,1]-ρ[2,2]       ])\n",
    "                for ρ in ρ_list]\n",
    "    hcat(bloch_vec...)\n",
    "end"
   ]
  },
  {
   "cell_type": "code",
   "execution_count": 3,
   "metadata": {},
   "outputs": [
    {
     "data": {
      "text/plain": [
       "find_smallest_second_index (generic function with 1 method)"
      ]
     },
     "metadata": {},
     "output_type": "display_data"
    }
   ],
   "source": [
    "function find_smallest_second_index(Y, threshold)\n",
    "    # Find all indices where abs(x) > 1 + threshold\n",
    "    indices = findall(x -> abs(x) > 1 + threshold, Y)\n",
    "\n",
    "    # Extract the second (column) indices\n",
    "    second_indices = [ind[2] for ind in indices]\n",
    "\n",
    "    # Return the smallest second index if found, otherwise return nothing\n",
    "    if !isempty(second_indices)\n",
    "        return minimum(second_indices)\n",
    "    else\n",
    "        return nothing  # No elements found matching the condition\n",
    "    end\n",
    "end"
   ]
  },
  {
   "cell_type": "code",
   "execution_count": 19,
   "metadata": {},
   "outputs": [
    {
     "data": {
      "text/plain": [
       "SB_Bloch4_DMD_physicality (generic function with 1 method)"
      ]
     },
     "metadata": {},
     "output_type": "display_data"
    }
   ],
   "source": [
    "function SB_Bloch4_DMD_physicality(γᵢ, time_multiplier, threshold)\n",
    "\n",
    "    data_dir = \"../DATA/\"\n",
    "\n",
    "    γᵢ = string(γᵢ)\n",
    "    γᵢᶠ= parse(Float64, γᵢ)\n",
    "\n",
    "    tᵍᵉˣʸ , ρᵍᵉˣʸ  = LiPoSID.read_GEXY_timeevolution(evol_data_file_name, γᵢ)\n",
    "\n",
    "    ρᵍ, ρᵉ, ρˣ, ρʸ = ρᵍᵉˣʸ\n",
    "    tᵍ, tᵉ, tˣ, tʸ = tᵍᵉˣʸ\n",
    "\n",
    "    lᵉ = length(ρᵉ); lᵍ = length(ρᵍ); lˣ = length(ρˣ); lʸ = length(ρʸ)\n",
    "    lᵐᵃˣ = min(lᵉ, lᵍ,  lˣ, lʸ)  #choose time limit by shortest series\n",
    "\n",
    "    bᵉ = bloch(ρᵉ[1:lᵐᵃˣ])\n",
    "    bᵍ = bloch(ρᵍ[1:lᵐᵃˣ])\n",
    "    bˣ = bloch(ρˣ[1:lᵐᵃˣ])\n",
    "    bʸ = bloch(ρʸ[1:lᵐᵃˣ])\n",
    "\n",
    "    tᵉᶠ = convert.(Float64, tᵉ); tᵍᶠ = convert.(Float64, tᵍ); \n",
    "    tˣᶠ = convert.(Float64, tˣ); tʸᶠ = convert.(Float64, tʸ); \n",
    "\n",
    "    t_list = [tᵉᶠ, tᵍᶠ, tˣᶠ, tʸᶠ]\n",
    "\n",
    "    Δt = tᵉᶠ[2] - tᵉᶠ[1]\n",
    "\n",
    "    t = t_list[argmin(length(tⁱ) for tⁱ in t_list)]\n",
    "    \n",
    "    ρˢᵇ = [ρᵉ[1:lᵐᵃˣ], ρᵍ[1:lᵐᵃˣ], ρˣ[1:lᵐᵃˣ], ρʸ[1:lᵐᵃˣ]]\n",
    "\n",
    "    Yᵉ = [bᵉ; ones(lᵐᵃˣ)']\n",
    "    Yᵍ = [bᵍ; ones(lᵐᵃˣ)']\n",
    "    Yˣ = [bˣ; ones(lᵐᵃˣ)']\n",
    "    Yʸ = [bʸ; ones(lᵐᵃˣ)']\n",
    "\n",
    "    Yᵉ⁻ = Yᵉ[:,1:end-1]; Yᵉ⁺ = Yᵉ[:,2:end]\n",
    "    Yᵍ⁻ = Yᵍ[:,1:end-1]; Yᵍ⁺ = Yᵍ[:,2:end]\n",
    "    Yˣ⁻ = Yˣ[:,1:end-1]; Yˣ⁺ = Yˣ[:,2:end]\n",
    "    Yʸ⁻ = Yᵉ[:,1:end-1]; Yʸ⁺ = Yᵉ[:,2:end]\n",
    "\n",
    "    Y⁻ = hcat(Yᵉ⁻, Yᵍ⁻, Yˣ⁻, Yʸ⁻)\n",
    "    Y⁺ = hcat(Yᵉ⁺, Yᵍ⁺, Yˣ⁺, Yʸ⁺)\n",
    "\n",
    "    A⁴ᴰ = Y⁺ * pinv(Y⁻) # Direct DMD estimation\n",
    "\n",
    "    A⁴ᴰc = log(A⁴ᴰ)/Δt\n",
    "    \n",
    "    bᵉ⁴ᴰ = hcat(propagate(A⁴ᴰ, [bᵉ[:,1]...,1], time_multiplier * lᵐᵃˣ)...)[1:3,:] \n",
    "    bᵍ⁴ᴰ = hcat(propagate(A⁴ᴰ, [bᵍ[:,1]...,1], time_multiplier * lᵐᵃˣ)...)[1:3,:]\n",
    "    bˣ⁴ᴰ = hcat(propagate(A⁴ᴰ, [bˣ[:,1]...,1], time_multiplier * lᵐᵃˣ)...)[1:3,:]\n",
    "    bʸ⁴ᴰ = hcat(propagate(A⁴ᴰ, [bʸ[:,1]...,1], time_multiplier * lᵐᵃˣ)...)[1:3,:]\n",
    "\n",
    "    ind_e = find_smallest_second_index(bᵉ⁴ᴰ, threshold)\n",
    "    ind_g = find_smallest_second_index(bᵍ⁴ᴰ, threshold)\n",
    "    ind_x = find_smallest_second_index(bˣ⁴ᴰ, threshold)\n",
    "    ind_y = find_smallest_second_index(bʸ⁴ᴰ, threshold)\n",
    "\n",
    "\n",
    "    # Collect all values into a list and filter out the nothing values\n",
    "    valid_indices = filter(!isnothing, [ind_e, ind_g, ind_x, ind_y])\n",
    "\n",
    "    # Find the minimum if there are any valid values\n",
    "    if !isempty(valid_indices)\n",
    "        ind_min = minimum(valid_indices)\n",
    "        println(\"Minimum valid index: \", ind_min)\n",
    "    else\n",
    "        ind_min = nothing\n",
    "        println(\"All values are nothing, no minimum found.\")\n",
    "    end\n",
    "\n",
    "\n",
    "    # Check if index_ERA is nothing\n",
    "    if ind_min !== nothing\n",
    "        # Perform the calculation if a valid index is found\n",
    "        inverse_gamma_time = ind_min * Δt * γᵢᶠ\n",
    "        println(\"inverse_gamma_time: \", inverse_gamma_time)\n",
    "    else\n",
    "        inverse_gamma_time = []\n",
    "        # Handle the case where no valid index was found\n",
    "        println(\"No valid index found, inverse_gamma_time cannot be calculated.\")\n",
    "    end\n",
    "    \n",
    "    return inverse_gamma_time\n",
    "\n",
    "end"
   ]
  },
  {
   "cell_type": "code",
   "execution_count": 27,
   "metadata": {},
   "outputs": [
    {
     "data": {
      "text/plain": [
       "\"0.079477\""
      ]
     },
     "metadata": {},
     "output_type": "display_data"
    }
   ],
   "source": [
    "evol_data_file_name = \"DATA/ALL_GAMMAS_B4_D10.h5\"\n",
    "γ = [ \"0.079477\",  \"0.25133\", \"0.79477\", \"2.5133\", \"7.9477\", \"25.133\",  \"79.477\", \"251.33\"]\n",
    "γᵢ = γ[1]"
   ]
  },
  {
   "cell_type": "code",
   "execution_count": 28,
   "metadata": {},
   "outputs": [
    {
     "name": "stdout",
     "output_type": "stream",
     "text": [
      "Minimum valid index: 1209\n",
      "inverse_gamma_time: 1.9217538600000004\n"
     ]
    },
    {
     "data": {
      "text/plain": [
       "1.9217538600000004"
      ]
     },
     "metadata": {},
     "output_type": "display_data"
    }
   ],
   "source": [
    "inverse_gamma_time_ExactDMD4 = SB_Bloch4_DMD_physicality(γᵢ, 2, 1e-6)"
   ]
  },
  {
   "cell_type": "code",
   "execution_count": 30,
   "metadata": {},
   "outputs": [
    {
     "name": "stdout",
     "output_type": "stream",
     "text": [
      "Times in 1/γ when model predictions bacame unphysical:\n",
      "γ=0.079477\n",
      "Minimum valid index: 1209\n",
      "inverse_gamma_time: 1.9217538600000004\n",
      "1.9217538600000004\n",
      "γ=0.25133\n",
      "All values are nothing, no minimum found.\n",
      "No valid index found, inverse_gamma_time cannot be calculated.\n",
      "Any[]\n",
      "γ=0.79477\n",
      "All values are nothing, no minimum found.\n",
      "No valid index found, inverse_gamma_time cannot be calculated.\n",
      "Any[]\n",
      "γ=2.5133\n",
      "All values are nothing, no minimum found.\n",
      "No valid index found, inverse_gamma_time cannot be calculated.\n",
      "Any[]\n",
      "γ=7.9477\n",
      "All values are nothing, no minimum found.\n",
      "No valid index found, inverse_gamma_time cannot be calculated.\n",
      "Any[]\n",
      "γ=25.133\n",
      "All values are nothing, no minimum found.\n",
      "No valid index found, inverse_gamma_time cannot be calculated.\n",
      "Any[]\n",
      "γ=79.477\n",
      "All values are nothing, no minimum found.\n",
      "No valid index found, inverse_gamma_time cannot be calculated.\n",
      "Any[]\n",
      "γ=251.33\n",
      "Minimum valid index: 821\n",
      "inverse_gamma_time: 10.317096500000002\n",
      "10.317096500000002\n"
     ]
    }
   ],
   "source": [
    "println(\"Times in 1/γ when model predictions bacame unphysical:\")\n",
    "\n",
    "unphysical_times = []\n",
    "\n",
    "for γᵢ in γ\n",
    "    println(\"γ=\",γᵢ)\n",
    "    inverse_gamma_time = SB_Bloch4_DMD_physicality(γᵢ, 10, 1e-6)\n",
    "    push!(unphysical_times, inverse_gamma_time)\n",
    "    println(inverse_gamma_time)\n",
    "end"
   ]
  },
  {
   "cell_type": "code",
   "execution_count": 31,
   "metadata": {},
   "outputs": [
    {
     "data": {
      "text/plain": [
       "8-element Vector{Any}:\n",
       "  1.9217538600000004\n",
       "   Any[]\n",
       "   Any[]\n",
       "   Any[]\n",
       "   Any[]\n",
       "   Any[]\n",
       "   Any[]\n",
       " 10.317096500000002"
      ]
     },
     "metadata": {},
     "output_type": "display_data"
    }
   ],
   "source": [
    "unphysical_times"
   ]
  }
 ],
 "metadata": {
  "kernelspec": {
   "display_name": "Julia 1.10.2",
   "language": "julia",
   "name": "julia-1.10"
  },
  "language_info": {
   "file_extension": ".jl",
   "mimetype": "application/julia",
   "name": "julia",
   "version": "1.10.2"
  }
 },
 "nbformat": 4,
 "nbformat_minor": 2
}
