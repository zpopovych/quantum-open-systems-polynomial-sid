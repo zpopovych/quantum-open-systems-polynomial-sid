{
 "cells": [
  {
   "cell_type": "markdown",
   "metadata": {},
   "source": [
    "### GKSL equation in Kossakowski form for the augmented Bloch vector "
   ]
  },
  {
   "cell_type": "code",
   "execution_count": 1,
   "metadata": {},
   "outputs": [],
   "source": [
    "include(\"../LiPoSID.jl\")\n",
    "using DynamicPolynomials\n",
    "using LinearAlgebra\n",
    "\n",
    "using QuantumOptics\n",
    "basis = NLevelBasis(2)\n",
    "\n",
    "using HDF5\n",
    "\n",
    "using Dates\n",
    "\n",
    "using Statistics\n",
    "\n",
    "using TSSOS"
   ]
  },
  {
   "cell_type": "markdown",
   "metadata": {},
   "source": [
    "According to the theorem proven by Kossakowski (Kossakowski, 1973) Markovian master equation could be rewritten for a two-level system $\\rho \\in M(2)$ as follows:\n",
    "\n",
    "$\n",
    "   \\mathcal{K} = -i[H,\\rho] + \\frac{1}{2} \\sum_{i,j}^3 C_{ij} \\{[f_i, \\rho f_j] + [f_i\\rho, f_j]\\}, \n",
    "$\n",
    "where"
   ]
  },
  {
   "cell_type": "markdown",
   "metadata": {},
   "source": [
    "$\n",
    "\\text{(i)} \\quad \\quad \n",
    "           f_i f_j = \\frac{1}{4}\\delta_{ij}I  +\\frac{i}{2} \\sum_{k=1}^3 \\epsilon_{ijk} f_k \\\\ \\text{which means:} \\notag \\\\ \\quad\n",
    "    \\operatorname{Tr}(f_i f_j)=\\frac{1}{2}\\delta_{ij}, \\quad \\operatorname{Tr}(f_i) = 0 \\notag \n",
    "$\n",
    "\n",
    "\n",
    "and we can choose basis operators $f_i$ as halfs of Pauli matrices \n",
    "$\\{ \\sigma_x, \\sigma_y, \\sigma_z \\}$:\n",
    "\n",
    "$\n",
    "    f_1 = \\sigma_x/2  = \n",
    "    \\begin{pmatrix}\n",
    "        0 & 1 \\\\ 1 & 0\n",
    "    \\end{pmatrix} / 2 \\\\\n",
    "    f_2 = \\sigma_y/2  = \\begin{pmatrix}\n",
    "        0 & i \\\\ -i & 0\n",
    "    \\end{pmatrix} / 2\\\\\n",
    "    f_3 = \\sigma_z/2 = \\begin{pmatrix}\n",
    "        1 & 0 \\\\ 0 & -1\n",
    "    \\end{pmatrix} / 2\n",
    "$"
   ]
  },
  {
   "cell_type": "code",
   "execution_count": 2,
   "metadata": {},
   "outputs": [
    {
     "data": {
      "text/plain": [
       "3-element Vector{Matrix{ComplexF64}}:\n",
       " [0.0 + 0.0im 0.5 + 0.0im; 0.5 + 0.0im 0.0 + 0.0im]\n",
       " [0.0 + 0.0im 0.0 + 0.5im; 0.0 - 0.5im 0.0 + 0.0im]\n",
       " [0.5 + 0.0im 0.0 + 0.0im; 0.0 + 0.0im -0.5 + 0.0im]"
      ]
     },
     "metadata": {},
     "output_type": "display_data"
    }
   ],
   "source": [
    "σˣ = [ 0 1 \n",
    "       1 0 ]\n",
    "\n",
    "σʸ = [ 0.   im*1\n",
    "      -im*1 0    ]\n",
    "\n",
    "σᶻ = [ 1.  0\n",
    "       0  -1 ] \n",
    "\n",
    "fᴷ₁ = σˣ/2; fᴷ₂ = σʸ/2; fᴷ₃ = σᶻ/2\n",
    "\n",
    "@assert tr(σˣ/2*σʸ/2) == tr(σˣ/2*σᶻ/2) ==  tr(σʸ/2*σᶻ/2) ≈ 0\n",
    "@assert tr(σˣ/2*σˣ/2) == tr(σʸ/2*σʸ/2) == tr(σᶻ/2*σᶻ/2) ≈ 1/2\n",
    "\n",
    "fᴷᴼᴺᴮ = [fᴷ₁, fᴷ₂, fᴷ₃]"
   ]
  },
  {
   "cell_type": "markdown",
   "metadata": {},
   "source": [
    "$\n",
    "     \\text{(ii)} \\quad \\quad \\quad \n",
    "     H = \\sum_1^3 h_i f_i, \\quad h_i \\in \\mathbb{R}\n",
    "$\n",
    "\n",
    "which means we can use Hamiltonian of the form:\n",
    "\n",
    "$\n",
    "H = \\begin{pmatrix} \n",
    "h_3   & h_1 + i h_2          \\\\\n",
    "h_1 - i h_2 & -h_3\n",
    "\\end{pmatrix} / 2 \\\\\n",
    " = \\begin{pmatrix} \n",
    "h_z   & h_x + i h_y          \\\\\n",
    "h_x - i h_y & -h_z\n",
    "\\end{pmatrix} / 2 \n",
    "$"
   ]
  },
  {
   "cell_type": "code",
   "execution_count": 3,
   "metadata": {},
   "outputs": [
    {
     "data": {
      "text/plain": [
       "2×2 Matrix{Polynomial{true, ComplexF64}}:\n",
       " (0.5+0.0im)h₃                  (0.5+0.0im)h₁ + (0.0+0.5im)h₂\n",
       " (0.5+0.0im)h₁ + (0.0-0.5im)h₂  (-0.5+0.0im)h₃"
      ]
     },
     "metadata": {},
     "output_type": "display_data"
    }
   ],
   "source": [
    "@polyvar h[1:3]; h₁,h₂,h₃ = h[1],h[2],h[3]\n",
    "\n",
    "Hˢʸᵐᵇ = [ h₃          h₁+im*h₂\n",
    "          h₁-im*h₂   -h₃           ] / 2"
   ]
  },
  {
   "cell_type": "markdown",
   "metadata": {},
   "source": [
    "$\n",
    "     \\text{(iii)} \\quad \\{C_{ij}\\} = \\begin{pmatrix} \n",
    "\\gamma - 2\\gamma_1    & - i a_3            &  i a_2 \\\\\n",
    "i a_3                 & \\gamma - 2\\gamma_2 & -i a_1 \\\\\n",
    "-i a_2                & i a_1              & \\gamma - 2\\gamma_3 \n",
    "\\end{pmatrix} \n",
    "=  \\begin{pmatrix} \n",
    "\\kappa_1   & - i a_3    &  i a_2 \\\\\n",
    "i a_3       & \\kappa_2   & -i a_1 \\\\\n",
    "-i a_2      & i a_1      & \\kappa_3 \n",
    "\\end{pmatrix}\n",
    "$\n",
    "\n",
    "$C =  \\begin{pmatrix}\n",
    "c_{11} & c_{12} & c_{13} \\\\\n",
    "c_{21} & c_{22} & c_{23} \\\\\n",
    "c_{31} & c_{32} & c_{33}\n",
    "\\end{pmatrix}$"
   ]
  },
  {
   "cell_type": "code",
   "execution_count": 4,
   "metadata": {},
   "outputs": [],
   "source": [
    "@polyvar κ[1:3]; κ₁,κ₂,κ₃ = κ[1],κ[2],κ[3]\n",
    "@polyvar a[1:3]; a₁,a₂,a₃ = a[1],a[2],a[3]\n",
    "\n",
    "Cˢʸᵐᵇ = [  κ₁     -im*a₃     im*a₂\n",
    "           im*a₃   κ₂       -im*a₁\n",
    "          -im*a₂   im*a₁     κ₃     ] ;"
   ]
  },
  {
   "cell_type": "markdown",
   "metadata": {},
   "source": [
    "$\n",
    "    \\text{(iv)} \\quad \\quad \\quad \\quad \\gamma_1, \\gamma_2, \\gamma_3 \\geq 0\n",
    "$\n",
    "\n",
    "If $\\gamma = 0$ the evolution is just unitary, and in case $\\gamma >0 $ <br>\n",
    "in order for the evolution to be completely positive it is nessesary and sufficient that <br>\n",
    "(denoting $\\kappa_i = \\gamma - 2 \\gamma_i$):\n",
    "\n",
    "$\n",
    "    \\kappa_1 + \\kappa_2 + \\kappa_3 \\geq 0 \\\\\n",
    "\\kappa_1 \\kappa_2  + \\kappa_3 \\kappa_1  + \\kappa_1 \\kappa_2  \\geq a_1^2 + a_2^2 + a_3^2 \\\\\n",
    "   \\kappa_1 \\kappa_2 \\kappa_3 \\geq  \\kappa_1 a_1^2 + \\kappa_2 a_2^2 + \\kappa_3 a_3^2 \n",
    "$"
   ]
  },
  {
   "cell_type": "code",
   "execution_count": 5,
   "metadata": {},
   "outputs": [
    {
     "data": {
      "text/plain": [
       "7-element Vector{Polynomial{true, Int64}}:\n",
       " h₃\n",
       " κ₁\n",
       " κ₂\n",
       " κ₃\n",
       " κ₁ + κ₂ + κ₃\n",
       " κ₁κ₂ + κ₁κ₃ + κ₂κ₃ - a₁² - a₂² - a₃²\n",
       " κ₁κ₂κ₃ - κ₁a₁² - κ₂a₂² - κ₃a₃²"
      ]
     },
     "metadata": {},
     "output_type": "display_data"
    }
   ],
   "source": [
    "constr1 = κ₁ + κ₂ + κ₃ \n",
    "constr2 = κ₁*κ₂ + κ₃*κ₁ + κ₂*κ₃ - a₁^2 - a₂^2 - a₃^2\n",
    "constr3 = κ₁*κ₂*κ₃ - κ₁*a₁^2 - κ₂*a₂^2 - κ₃*a₃^2\n",
    "\n",
    "constraints = [ h₃, κ₁, κ₂, κ₃, constr1, constr2, constr3] "
   ]
  },
  {
   "cell_type": "markdown",
   "metadata": {},
   "source": [
    "Standard GKSL in Bloch vector form:\n",
    "\n",
    "$\n",
    "\\frac{d\\mathbf{r}}{dt} = \\mathbf{\\omega} \\times \\mathbf{r} - \\Lambda \\mathbf{r} + \\mathbf{b}\n",
    "$\n",
    "\n",
    "where $\\omega$ = $\\{ h_1, h_2, h_3 \\}$\n",
    "\n",
    "$\\mathbf{\\omega} \\times \\mathbf{r} = \\Omega \\cdot \\mathbf{r}  \n",
    "= \\begin{pmatrix}\n",
    "0 & -h_z & h_y \\\\\n",
    "h_z & 0 & -h_x \\\\\n",
    "-h_y & h_x & 0\n",
    "\\end{pmatrix} \\cdot \\mathbf{r} $ \n",
    "\n",
    "Drift vector: $\\mathbf{b} = 2 \\sum_{i,j=1}^3 \\operatorname{Im} C_{ij} \\epsilon_{kij}$ with $\\epsilon_{kij}$ - Levi-Civita symbol\n",
    "\n",
    "$\\mathbf{b} = 2 \\operatorname{Im}  \\begin{pmatrix} c_{23}-c_{32} \\\\ c_{31} - c_{13} \\\\ c_{12} - c_{21} \\end{pmatrix} \n",
    "= 2 \\operatorname{Im} \\begin{pmatrix} -2i a_1 \\\\ -2i a_2 \\\\ -2i a_3 \\end{pmatrix} = 2 \\begin{pmatrix} -2 a_1 \\\\ -2 a_2 \\\\ -2 a_3 \\end{pmatrix}$\n",
    "\n",
    "Damping matrix:\n",
    "\n",
    "$\\Lambda_{kl} = 2 \\sum_{i,j=1}^3 C_{ij} (\\delta_{jk}\\delta_{jl} - \\frac{1}{2}\\delta_{ij}\\delta_{kl})$\n",
    "\n",
    "$\n",
    "\\Lambda = 2 \\begin{pmatrix}\n",
    "c_{11} - \\operatorname{Tr}(C) & c_{12} & c_{13} \\\\\n",
    "c_{12} & c_{22} - \\operatorname{Tr}(C) & c_{23} \\\\\n",
    "c_{13} & c_{23} & c_{33} - \\operatorname{Tr}(C)\n",
    "\\end{pmatrix}\n",
    "$\n",
    "\n",
    "$\n",
    "\\Lambda = 2 \\left( C - \\operatorname{Tr}(C) \\, I \\right)\n",
    "$"
   ]
  },
  {
   "cell_type": "markdown",
   "metadata": {},
   "source": []
  },
  {
   "cell_type": "code",
   "execution_count": 6,
   "metadata": {},
   "outputs": [
    {
     "data": {
      "text/plain": [
       "3×1 Matrix{Term{true, Int64}}:\n",
       " -4a₁\n",
       " -4a₂\n",
       " -4a₃"
      ]
     },
     "metadata": {},
     "output_type": "display_data"
    }
   ],
   "source": [
    "Λ = 2*(Cˢʸᵐᵇ - tr(Cˢʸᵐᵇ)*I)\n",
    "\n",
    "Ω = [  0   -h₃     h₂\n",
    "       h₃   0     -h₁\n",
    "      -h₂   h₁     0    ]  \n",
    "\n",
    "b = -4 * [a₁ a₂ a₃]'"
   ]
  },
  {
   "cell_type": "markdown",
   "metadata": {},
   "source": [
    "#### GKSL for augmented Bloch vector\n",
    "\n",
    "$\\frac{d\\mathbf{\\tilde{r}}}{dt} = \\tilde{A_c} \\mathbf{\\tilde{r}}$\n",
    "\n",
    "\n",
    "$\\tilde{A_c} = \n",
    "\\begin{pmatrix}\n",
    "-\\Lambda + \\Omega & \\mathbf{b} \\\\\n",
    "\\mathbf{0}^T &  0\n",
    "\\end{pmatrix}\n",
    "$"
   ]
  },
  {
   "cell_type": "markdown",
   "metadata": {},
   "source": []
  },
  {
   "cell_type": "code",
   "execution_count": 7,
   "metadata": {},
   "outputs": [
    {
     "data": {
      "text/plain": [
       "4×4 Matrix{Polynomial{true, ComplexF64}}:\n",
       " (2.0+0.0im)κ₂ + (2.0+0.0im)κ₃                                        …  (-4.0+0.0im)a₁\n",
       " h₃ + (2.0+0.0im)κ₁ + (2.0+0.0im)κ₂ + (2.0+0.0im)κ₃ + (0.0-2.0im)a₃      (-4.0+0.0im)a₂\n",
       " -h₂ + (2.0+0.0im)κ₁ + (2.0+0.0im)κ₂ + (2.0+0.0im)κ₃ + (0.0+2.0im)a₂     (-4.0+0.0im)a₃\n",
       " 0.0+0.0im                                                               0.0+0.0im"
      ]
     },
     "metadata": {},
     "output_type": "display_data"
    }
   ],
   "source": [
    "Acˢʸᵐᵇ = [-Λ+Ω       b\n",
    "          zeros(3)'  0]"
   ]
  },
  {
   "cell_type": "code",
   "execution_count": 8,
   "metadata": {},
   "outputs": [
    {
     "data": {
      "text/plain": [
       "4×4 Matrix{Float64}:\n",
       " -1.09155e-8   -25.1327        0.000161443   2.89442e-5\n",
       " 25.1963        -0.795828     -0.000818289  -7.03521e-5\n",
       " -0.0366884     -0.00621641   -0.798674      0.79106\n",
       " -2.95082e-13   -4.98227e-13  -3.37554e-13  -2.0922e-14"
      ]
     },
     "metadata": {},
     "output_type": "display_data"
    }
   ],
   "source": [
    "#using HDF5\n",
    "\n",
    "#filename = \"../MODELS/DMD_b4_LTI_trn4_2024-Sep-15_at_00-06.h5\"\n",
    "\n",
    "filename = \"DMD-Bloch4D_SB_trn4_tst20_2024-Sep-16_at_14-30.h5\"\n",
    "\n",
    "γ = [ \"0.079477\",  \"0.25133\", \"0.79477\", \"2.5133\", \"7.9477\", \"25.133\",  \"79.477\", \"251.33\"]\n",
    "\n",
    "γᵢ = γ[3]\n",
    "\n",
    "function read_LSID_Ac(γᵢ)\n",
    "\n",
    "    h5open(filename, \"r\") do file\n",
    "        # Navigate to the dataset within the group\n",
    "        Ac = read(file[γᵢ*\"/Ac\"])\n",
    "        \n",
    "        # Now you can use the dataset as needed\n",
    "        return(Ac)\n",
    "    end\n",
    "end \n",
    "\n",
    "Acˢⁱᵈ  = read_LSID_Ac(γᵢ)"
   ]
  },
  {
   "cell_type": "markdown",
   "metadata": {},
   "source": [
    "Transfer function $G(s)$ should be the same for the all possible realisations ($A_c, C, \\mathbf{x}(0)$) of the system.\n",
    "\n",
    "Then transfer function for the some analytically assumed structure of matrices $\\tilde{A_c}$ and $\\tilde{C}$ could be equated to the transfer function calculated for the matrices  $\\hat{A_c}^{(SID)}$ and $\\hat{C}^{(SID)}$ estimated by ERA *system identification algorithm* algorithm:\n",
    "$\\begin{align}\n",
    "   \\tilde{C}(sI - \\tilde{A_c})^{-1} \\mathbf{x}(0) = \\hat{C}^{(SID)}\\left(sI - \\hat{A_c}^{(SID)}\\right)^{-1} \\mathbf{x}(0)\n",
    "\\end{align}$ \n",
    "\n",
    "as we use augmented Bloch vectors as *internal state variable* then matrox $C$ is known \n",
    "$\\tilde{C} = \\hat{C}^{(SID)}$\n",
    "\n",
    "$\n",
    "\\begin{pmatrix} \\rho_{00} \\\\\n",
    "\\rho_{01} \\\\\n",
    "\\rho_{10} \\\\\n",
    "\\rho_{11} \n",
    "\\end{pmatrix} \n",
    "= \\frac{1}{2}\n",
    "\\begin{pmatrix} \n",
    "0 & 0 & 1 & 1 \\\\\n",
    "1 & -i & 0 & 0 \\\\\n",
    "1 & i & 0 & 0 \\\\\n",
    "0 & 0 & -1 & 1 \\\\\n",
    "\\end{pmatrix}\n",
    "\\begin{pmatrix} \n",
    "\\mathbf{b} \\\\\n",
    "1\n",
    "\\end{pmatrix} $\n",
    "\n",
    "Thus we can remole $C$ from consideration, and as we exactly know the initial states $\\mathbf{x}(0)$ we can also remove it\n",
    "\n",
    "$\\begin{align}\n",
    "   (sI - \\tilde{A_c})^{-1} = \\left(sI - \\hat{A_c}^{(SID)}\\right)^{-1}\n",
    "\\end{align}$ \n",
    "\n",
    "If matrices $sI - \\tilde{A_c}$ and $sI - \\hat{A_c}^{(SID)}$ are actually invertable, then:\n",
    "\n",
    "$\\begin{align}\n",
    "   sI - \\tilde{A_c} = sI - \\hat{A_c}^{(SID)}\n",
    "\\end{align}$ \n",
    "\n",
    "Which means matrices  $\\tilde{A_c}$ and $\\hat{A_c}^{(SID)}$ are actually elementwise equal:\n",
    "\n",
    "$\\begin{align}\n",
    "   \\tilde{A_c} = \\hat{A_c}^{(SID)}\n",
    "\\end{align}$ "
   ]
  },
  {
   "cell_type": "markdown",
   "metadata": {},
   "source": [
    "$\\begin{align}\n",
    "    \\underset{ h_i, a_i, \\kappa_i}{\\text{minimize}} & \\sum_{j=3}^N \n",
    "    \\Bigg\\|\\tilde{A_c}^{(symb)} - \\hat{A_c}^{(SID)}\\Bigg\\|^2_F, \\notag\\\\\n",
    "    \\text{subject to } \\\\\n",
    "    \\kappa_1 + \\kappa_2 + \\kappa_3 \\geq 0 \\\\\n",
    "    \\kappa_1 \\kappa_2  + \\kappa_3 \\kappa_1  + \\kappa_1 \\kappa_2  \\geq a_1^2 + a_2^2 + a_3^2 \\\\\n",
    "   \\kappa_1 \\kappa_2 \\kappa_3 \\geq  \\kappa_1 a_1^2 + \\kappa_2 a_2^2 + \\kappa_3 a_3^2 \\\\\n",
    "\\end{align}$\n"
   ]
  },
  {
   "cell_type": "code",
   "execution_count": 9,
   "metadata": {},
   "outputs": [
    {
     "data": {
      "text/latex": [
       "$$ (2.0 + 0.0im)h_{1}^{2} + (2.0 + 0.0im)h_{2}^{2} + (2.0 + 0.0im)h_{3}^{2} + (32.0 + 0.0im)κ_{1}^{2} + (56.0 + 0.0im)κ_{1}κ_{2} + (56.0 + 0.0im)κ_{1}κ_{3} + (32.0 + 0.0im)κ_{2}^{2} + (56.0 + 0.0im)κ_{2}κ_{3} + (32.0 + 0.0im)κ_{3}^{2} + (24.0 + 0.0im)a_{1}^{2} + (24.0 + 0.0im)a_{2}^{2} + (24.0 + 0.0im)a_{3}^{2} + (0.01079624353573517 + 0.0im)h_{1} + (-0.07369977707941755 + 0.0im)h_{2} + (-100.6581463952266 + 0.0im)h_{3} + (6.297887272727243 + 0.0im)κ_{1} + (3.1145769487947828 + 0.0im)κ_{2} + (3.103191562085228 + 0.0im)κ_{3} + (0.00023155339490666895 + 0.0im)a_{1} + (-0.0005628165274150426 + 0.0im)a_{2} + (6.328483672133771 + 0.0im)a_{3} + (1268.4082100163819 + 0.0im) $$"
      ],
      "text/plain": [
       "(2.0 + 0.0im)h₁² + (2.0 + 0.0im)h₂² + (2.0 + 0.0im)h₃² + (32.0 + 0.0im)κ₁² + (56.0 + 0.0im)κ₁κ₂ + (56.0 + 0.0im)κ₁κ₃ + (32.0 + 0.0im)κ₂² + (56.0 + 0.0im)κ₂κ₃ + (32.0 + 0.0im)κ₃² + (24.0 + 0.0im)a₁² + (24.0 + 0.0im)a₂² + (24.0 + 0.0im)a₃² + (0.01079624353573517 + 0.0im)h₁ + (-0.07369977707941755 + 0.0im)h₂ + (-100.6581463952266 + 0.0im)h₃ + (6.297887272727243 + 0.0im)κ₁ + (3.1145769487947828 + 0.0im)κ₂ + (3.103191562085228 + 0.0im)κ₃ + (0.00023155339490666895 + 0.0im)a₁ + (-0.0005628165274150426 + 0.0im)a₂ + (6.328483672133771 + 0.0im)a₃ + (1268.4082100163819 + 0.0im)"
      ]
     },
     "metadata": {},
     "output_type": "display_data"
    }
   ],
   "source": [
    "Acˢⁱᵈ[abs.(Acˢⁱᵈ) .< 1e-6] .= 0.0\n",
    "D = Acˢⁱᵈ[1:3,1:4] - Acˢʸᵐᵇ[1:3,1:4]\n",
    "\n",
    "obj = LiPoSID.frobenius_norm2(D)"
   ]
  },
  {
   "cell_type": "code",
   "execution_count": 10,
   "metadata": {},
   "outputs": [
    {
     "data": {
      "text/latex": [
       "$$ 2.0h_{1}^{2} + 2.0h_{2}^{2} + 2.0h_{3}^{2} + 32.0κ_{1}^{2} + 56.0κ_{1}κ_{2} + 56.0κ_{1}κ_{3} + 32.0κ_{2}^{2} + 56.0κ_{2}κ_{3} + 32.0κ_{3}^{2} + 24.0a_{1}^{2} + 24.0a_{2}^{2} + 24.0a_{3}^{2} + 0.01079624353573517h_{1} - 0.07369977707941755h_{2} - 100.6581463952266h_{3} + 6.297887272727243κ_{1} + 3.1145769487947828κ_{2} + 3.103191562085228κ_{3} + 0.00023155339490666895a_{1} - 0.0005628165274150426a_{2} + 6.328483672133771a_{3} + 1268.4082100163819 $$"
      ],
      "text/plain": [
       "2.0h₁² + 2.0h₂² + 2.0h₃² + 32.0κ₁² + 56.0κ₁κ₂ + 56.0κ₁κ₃ + 32.0κ₂² + 56.0κ₂κ₃ + 32.0κ₃² + 24.0a₁² + 24.0a₂² + 24.0a₃² + 0.01079624353573517h₁ - 0.07369977707941755h₂ - 100.6581463952266h₃ + 6.297887272727243κ₁ + 3.1145769487947828κ₂ + 3.103191562085228κ₃ + 0.00023155339490666895a₁ - 0.0005628165274150426a₂ + 6.328483672133771a₃ + 1268.4082100163819"
      ]
     },
     "metadata": {},
     "output_type": "display_data"
    }
   ],
   "source": [
    "obj = sum(real(coef) * mon for (coef, mon) in zip(coefficients(obj), monomials(obj)))"
   ]
  },
  {
   "cell_type": "code",
   "execution_count": 11,
   "metadata": {},
   "outputs": [
    {
     "data": {
      "text/plain": [
       "min_cs_tssos (generic function with 1 method)"
      ]
     },
     "metadata": {},
     "output_type": "display_data"
    }
   ],
   "source": [
    "#using TSSOS\n",
    "\n",
    "function min_cs_tssos(p, constrs)\n",
    "\n",
    "    coeffs = coefficients(p)\n",
    "    reg_coef = 0\n",
    "\n",
    "    pop =[p+reg_coef*sum(variables(p).^2), constrs...] ./ maximum(abs.(coeffs))\n",
    "\n",
    "    d = maxdegree(p)\n",
    "    \n",
    "    # Initial optimization step\n",
    "    opt, sol, data = cs_tssos_first(pop, variables(pop), d; solution=true, QUIET=true)\n",
    "    ref_sol, flag = TSSOS.refine_sol(opt, sol, data; QUIET=true)\n",
    "    prev_opt, prev_sol, prev_data = opt, sol, data \n",
    "\n",
    "    # Check if the solution needs further refinement\n",
    "    if flag != 0\n",
    "        while ~isnothing(sol) && flag != 0\n",
    "            prev_opt, prev_sol, prev_data = opt, sol, data\n",
    "            opt, sol, data = cs_tssos_higher!(data; solution=true, QUIET=true) \n",
    "        end\n",
    "        ref_sol, flag = TSSOS.refine_sol(prev_opt, prev_sol, prev_data; QUIET=true)\n",
    "    end\n",
    "\n",
    "    solution = variables(p) => ref_sol\n",
    "\n",
    "    if flag == 0 \n",
    "        status_name = \"GLOBAL\"\n",
    "    else\n",
    "        status_name = \"LOCAL/FAIL\"\n",
    "    end\n",
    "\n",
    "    return solution, status_name\n",
    "\n",
    "end"
   ]
  },
  {
   "cell_type": "code",
   "execution_count": 12,
   "metadata": {},
   "outputs": [
    {
     "name": "stdout",
     "output_type": "stream",
     "text": [
      "*********************************** TSSOS ***********************************\n",
      "TSSOS is launching...\n",
      "-----------------------------------------------------------------------------\n",
      "The clique sizes of varibles:\n",
      "[6, 1]\n",
      "[1, 3]\n",
      "-----------------------------------------------------------------------------\n",
      "optimum = 0.0014273698316726445\n",
      "Global optimality certified with relative optimality gap 0.005548%!\n",
      "\n",
      "******************************************************************************\n",
      "This program contains Ipopt, a library for large-scale nonlinear optimization.\n",
      " Ipopt is released as open source code under the Eclipse Public License (EPL).\n",
      "         For more information visit https://github.com/coin-or/Ipopt\n",
      "******************************************************************************\n",
      "\n",
      "Global optimality certified with relative optimality gap 0.005276%!\n"
     ]
    },
    {
     "data": {
      "text/plain": [
       "(PolyVar{true}[h₁, h₂, h₃, κ₁, κ₂, κ₃, a₁, a₂, a₃] => [-0.0026990608839337926, 0.018424944269854387, 25.164536630383886, -1.1757087243570525e-5, -1.8157302857351571e-7, 3.622314790040512e-7, -1.302920830990817e-7, 3.166895374159483e-7, -0.00356095542462118], \"GLOBAL\")"
      ]
     },
     "metadata": {},
     "output_type": "display_data"
    }
   ],
   "source": [
    "sol, st = min_cs_tssos(obj, constraints)"
   ]
  },
  {
   "cell_type": "code",
   "execution_count": 13,
   "metadata": {},
   "outputs": [
    {
     "data": {
      "text/plain": [
       "2×2 Matrix{ComplexF64}:\n",
       " -1.17571e-5+0.0im                 0.0+0.00356096im\n",
       "         0.0-0.00356096im  -1.81573e-7+0.0im"
      ]
     },
     "metadata": {},
     "output_type": "display_data"
    }
   ],
   "source": [
    "Cˢⁱᵈ = convert.(ComplexF64,subs(Cˢʸᵐᵇ, sol))\n",
    "Cˢⁱᵈ[1:2,1:2]"
   ]
  },
  {
   "cell_type": "code",
   "execution_count": 14,
   "metadata": {},
   "outputs": [
    {
     "data": {
      "text/plain": [
       "2×2 Matrix{ComplexF64}:\n",
       " -1.81573e-7+0.0im                0.0+1.30292e-7im\n",
       "         0.0-1.30292e-7im  3.62231e-7+0.0im"
      ]
     },
     "metadata": {},
     "output_type": "display_data"
    }
   ],
   "source": [
    "Cˢⁱᵈ[2:3,2:3]"
   ]
  },
  {
   "cell_type": "code",
   "execution_count": 15,
   "metadata": {},
   "outputs": [
    {
     "data": {
      "text/plain": [
       "2×2 Matrix{ComplexF64}:\n",
       "     12.5823+0.0im         -0.00134953+0.00921247im\n",
       " -0.00134953-0.00921247im     -12.5823+0.0im"
      ]
     },
     "metadata": {},
     "output_type": "display_data"
    }
   ],
   "source": [
    "Hˢⁱᵈ = convert.(ComplexF64,subs(Hˢʸᵐᵇ, sol))"
   ]
  },
  {
   "cell_type": "markdown",
   "metadata": {},
   "source": []
  },
  {
   "cell_type": "code",
   "execution_count": 16,
   "metadata": {},
   "outputs": [],
   "source": [
    "evol_data_file_name = \"DATA/ALL_GAMMAS_B4_D10.h5\"\n",
    "\n",
    "tests_dir = \"\"\n",
    "\n",
    "ρᵍ₀ = [ 1 0\n",
    "        0 0 ]    # state to measure initial distance from\n",
    "\n",
    "dodeca_10_states = [\"D\"*string(n) for n=1:10];\n",
    "basis_states = [\"B\"*string(n) for n=1:4];\n",
    "\n",
    "train_states = basis_states \n",
    "test_states = dodeca_10_states\n",
    "\n",
    "all_states = vcat(train_states, test_states);"
   ]
  },
  {
   "cell_type": "code",
   "execution_count": 17,
   "metadata": {},
   "outputs": [
    {
     "name": "stdout",
     "output_type": "stream",
     "text": [
      " Zhang & Sarovar KOSSAKOWSKI form IDENTIFICATION w CONSTRAINED TSSOS from DMD Bloch4 Linear SID w objective QO simulation\n",
      "γ =  0.079477\n",
      "*********************************** TSSOS ***********************************\n",
      "TSSOS is launching...\n",
      "-----------------------------------------------------------------------------\n",
      "The clique sizes of varibles:\n",
      "[6, 1]\n",
      "[1, 3]\n",
      "-----------------------------------------------------------------------------\n",
      "optimum = 1.4496927173337396e-5\n",
      "Global optimality certified with relative optimality gap 0.000075%!\n",
      "Global optimality certified with relative optimality gap 0.000102%!\n",
      "minimum(abs.(coefficients(obj))) = 1.971979142062289e-5\n",
      "maximum(abs.(coefficients(obj))) = 1263.5870815375833\n",
      " status:GLOBAL runtime :0.050505876\n",
      "D1 D2 D3 D4 D5 D6 D7 D8 D9 D10 Median fidelity for 0.079477: 0.9417993284930164\n",
      "γ =  0.25133\n",
      "*********************************** TSSOS ***********************************\n",
      "TSSOS is launching...\n",
      "-----------------------------------------------------------------------------\n",
      "The clique sizes of varibles:\n",
      "[6, 1]\n",
      "[1, 3]\n",
      "-----------------------------------------------------------------------------\n",
      "optimum = 0.00014314856802787198\n",
      "Global optimality certified with relative optimality gap 0.000579%!\n",
      "Global optimality certified with relative optimality gap 0.000151%!\n",
      "minimum(abs.(coefficients(obj))) = 1.3809290637705132e-5\n",
      "maximum(abs.(coefficients(obj))) = 1264.3736419260417\n",
      " status:GLOBAL runtime :0.029521815\n",
      "D1 D2 D3 D4 D5 D6 D7 D8 D9 D10 Median fidelity for 0.25133: 0.8641850643253836\n",
      "γ =  0.79477\n",
      "*********************************** TSSOS ***********************************\n",
      "TSSOS is launching...\n",
      "-----------------------------------------------------------------------------\n",
      "The clique sizes of varibles:\n",
      "[6, 1]\n",
      "[1, 3]\n",
      "-----------------------------------------------------------------------------\n",
      "optimum = 0.0014273698316726445\n",
      "Global optimality certified with relative optimality gap 0.005548%!\n",
      "Global optimality certified with relative optimality gap 0.005276%!\n",
      "minimum(abs.(coefficients(obj))) = 0.00023155339490666895\n",
      "maximum(abs.(coefficients(obj))) = 1268.4082100163819\n",
      " status:GLOBAL runtime :0.040258566\n",
      "D1 D2 D3 D4 D5 D6 D7 D8 D9 D10 Median fidelity for 0.79477: 0.855871182091555\n",
      "γ =  2.5133\n",
      "*********************************** TSSOS ***********************************\n",
      "TSSOS is launching...\n",
      "-----------------------------------------------------------------------------\n",
      "The clique sizes of varibles:\n",
      "[6, 1]\n",
      "[1, 3]\n",
      "-----------------------------------------------------------------------------\n",
      "optimum = 0.013993129869944727\n",
      "Found a locally optimal solution by Ipopt, giving an upper bound: 0.01460464.\n",
      "The relative optimality gap is: 0.061151%.\n",
      "Found a locally optimal solution by Ipopt, giving an upper bound: 0.01460464.\n",
      "The relative optimality gap is: 0.061151%.\n",
      "optimum = 0.013993644011110347\n",
      "Found a locally optimal solution by Ipopt, giving an upper bound: 0.01460464.\n",
      "The relative optimality gap is: 0.061100%.\n",
      "No higher TS step of the CS-TSSOS hierarchy!\n",
      "Found a locally optimal solution by Ipopt, giving an upper bound: 0.01460464.\n",
      "The relative optimality gap is: 0.061100%.\n",
      "minimum(abs.(coefficients(obj))) = 0.0023053393989062457\n",
      "maximum(abs.(coefficients(obj))) = 1297.1116220661145\n",
      " status:LOCAL/FAIL runtime :1.079408011\n",
      "D1 D2 D3 D4 D5 D6 D7 D8 D9 D10 Median fidelity for 2.5133: 0.8709460465047568\n",
      "γ =  7.9477\n",
      "*********************************** TSSOS ***********************************\n",
      "TSSOS is launching...\n",
      "-----------------------------------------------------------------------------\n",
      "The clique sizes of varibles:\n",
      "[6, 1]\n",
      "[1, 3]\n",
      "-----------------------------------------------------------------------------\n",
      "optimum = 0.11662969746690775\n",
      "Found a locally optimal solution by Ipopt, giving an upper bound: 0.12112112.\n",
      "The relative optimality gap is: 0.449142%.\n",
      "Found a locally optimal solution by Ipopt, giving an upper bound: 0.12112112.\n",
      "The relative optimality gap is: 0.449142%.\n",
      "optimum = 0.11663914702422994\n",
      "Found a locally optimal solution by Ipopt, giving an upper bound: 0.12112112.\n",
      "The relative optimality gap is: 0.448197%.\n",
      "No higher TS step of the CS-TSSOS hierarchy!\n",
      "Found a locally optimal solution by Ipopt, giving an upper bound: 0.12112112.\n",
      "The relative optimality gap is: 0.448197%.\n",
      "minimum(abs.(coefficients(obj))) = 0.014924461525042348\n",
      "maximum(abs.(coefficients(obj))) = 1555.664652858304\n",
      " status:LOCAL/FAIL runtime :0.092606294\n",
      "D1 D2 D3 D4 D5 D6 D7 D8 D9 D10 Median fidelity for 7.9477: 0.9165173016549218\n",
      "γ =  25.133\n",
      "*********************************** TSSOS ***********************************\n",
      "TSSOS is launching...\n",
      "-----------------------------------------------------------------------------\n",
      "The clique sizes of varibles:\n",
      "[6, 1]\n",
      "[1, 3]\n",
      "-----------------------------------------------------------------------------\n",
      "optimum = 0.5692201216087913\n",
      "Found a locally optimal solution by Ipopt, giving an upper bound: 0.57348322.\n",
      "The relative optimality gap is: 0.426310%.\n",
      "Found a locally optimal solution by Ipopt, giving an upper bound: 0.57348322.\n",
      "The relative optimality gap is: 0.426310%.\n",
      "optimum = 0.5692339184009008\n",
      "Found a locally optimal solution by Ipopt, giving an upper bound: 0.57348322.\n",
      "The relative optimality gap is: 0.424930%.\n",
      "No higher TS step of the CS-TSSOS hierarchy!\n",
      "Found a locally optimal solution by Ipopt, giving an upper bound: 0.57348322.\n",
      "The relative optimality gap is: 0.424930%.\n",
      "minimum(abs.(coefficients(obj))) = 0.00014949186538295336\n",
      "maximum(abs.(coefficients(obj))) = 3903.5211908522615\n",
      " status:LOCAL/FAIL runtime :0.100411653\n",
      "D1 D2 D3 D4 D5 D6 D7 D8 D9 D10 Median fidelity for 25.133: 0.8571199441472646\n",
      "γ =  79.477\n",
      "*********************************** TSSOS ***********************************\n",
      "TSSOS is launching...\n",
      "-----------------------------------------------------------------------------\n",
      "The clique sizes of varibles:\n",
      "[6, 1]\n",
      "[1, 3]\n",
      "-----------------------------------------------------------------------------\n",
      "optimum = 0.8430686209557997\n",
      "Found a locally optimal solution by Ipopt, giving an upper bound: 0.84421938.\n",
      "The relative optimality gap is: 0.115076%.\n",
      "Found a locally optimal solution by Ipopt, giving an upper bound: 0.84421938.\n",
      "The relative optimality gap is: 0.115076%.\n",
      "optimum = 0.8430714167020458\n",
      "Found a locally optimal solution by Ipopt, giving an upper bound: 0.84421938.\n",
      "The relative optimality gap is: 0.114796%.\n",
      "No higher TS step of the CS-TSSOS hierarchy!\n",
      "Found a locally optimal solution by Ipopt, giving an upper bound: 0.84421938.\n",
      "The relative optimality gap is: 0.114796%.\n",
      "minimum(abs.(coefficients(obj))) = 0.6578222694841783\n",
      "maximum(abs.(coefficients(obj))) = 24914.92197839774\n",
      " status:LOCAL/FAIL runtime :0.070374848\n",
      "D1 D2 D3 D4 D5 D6 D7 D8 D9 D10 Median fidelity for 79.477: 0.800876217708917\n",
      "γ =  251.33\n",
      "*********************************** TSSOS ***********************************\n",
      "TSSOS is launching...\n",
      "-----------------------------------------------------------------------------\n",
      "The clique sizes of varibles:\n",
      "[6, 1]\n",
      "[1, 3]\n",
      "-----------------------------------------------------------------------------\n",
      "optimum = 0.8913163632639246\n",
      "Found a locally optimal solution by Ipopt, giving an upper bound: 0.89171274.\n",
      "The relative optimality gap is: 0.039638%.\n",
      "Found a locally optimal solution by Ipopt, giving an upper bound: 0.89171274.\n",
      "The relative optimality gap is: 0.039638%.\n",
      "optimum = 0.8913183346566881\n",
      "Found a locally optimal solution by Ipopt, giving an upper bound: 0.89171274.\n",
      "The relative optimality gap is: 0.039441%.\n",
      "No higher TS step of the CS-TSSOS hierarchy!\n",
      "Found a locally optimal solution by Ipopt, giving an upper bound: 0.89171274.\n",
      "The relative optimality gap is: 0.039441%.\n",
      "minimum(abs.(coefficients(obj))) = 0.00010681452511291489\n",
      "maximum(abs.(coefficients(obj))) = 55353.920827454174\n",
      " status:LOCAL/FAIL runtime :0.090827164\n",
      "D1 D2 D3 D4 D5 D6 D7 D8 D9 D10 Median fidelity for 251.33: 0.8608129269539319\n",
      "ZHANG_SAROVAR_DMD_B4_KOSSAK_CONSTR_TSSOS_treshold_1e-15_FROB_QO_2024-Sep-16_at_14-34.h5\n"
     ]
    }
   ],
   "source": [
    "println(\" Zhang & Sarovar KOSSAKOWSKI form IDENTIFICATION w CONSTRAINED TSSOS from DMD Bloch4 Linear SID w objective QO simulation\")\n",
    "\n",
    "γ = [ \"0.079477\",  \"0.25133\", \"0.79477\", \"2.5133\", \"7.9477\", \"25.133\", \"79.477\", \"251.33\"]\n",
    "\n",
    "date_and_time_string =  string(Dates.format(now(), \"yyyy-u-dd_at_HH-MM\"))\n",
    "\n",
    "evol_data_file_name = \"../DATA/ALL_GAMMAS_B4_D10.h5\"\n",
    "\n",
    "relative_threshold = 1e-15\n",
    "\n",
    "rltrs = string(convert(Int, floor(log10(relative_threshold))))\n",
    "\n",
    "tests_data_file_name = \"ZHANG_SAROVAR_DMD_B4_KOSSAK_CONSTR_TSSOS_treshold_1e\"*rltrs*\"_FROB_QO_\"*date_and_time_string * \".h5\"\n",
    "\n",
    "FminGammas = []\n",
    "FmedianGammas = []\n",
    "FmeanGammas = []\n",
    "Epsilons = []\n",
    "CoefRanges = []\n",
    "\n",
    "for γᵢ in γ\n",
    "\n",
    "    println(\"γ =  \"*γᵢ)\n",
    "\n",
    "    Acˢⁱᵈ  = read_LSID_Ac(γᵢ)\n",
    "    \n",
    "    elapsed_time = @timed begin\n",
    "\n",
    "        Acˢⁱᵈ[abs.(Acˢⁱᵈ) .< 1e-6] .= 0.0\n",
    "        obj = LiPoSID.frobenius_norm2(Acˢⁱᵈ[1:3,1:4] - Acˢʸᵐᵇ[1:3,1:4])\n",
    "        obj = sum(real(coef) * mon for (coef, mon) in zip(coefficients(obj), monomials(obj)))\n",
    "        sol, status = min_cs_tssos(obj, constraints)\n",
    "\n",
    "    end\n",
    "\n",
    "    @show minimum(abs.(coefficients(obj)))\n",
    "    @show maximum(abs.(coefficients(obj)))\n",
    "    push!(CoefRanges, LiPoSID.coefficient_range(obj))\n",
    "\n",
    "    print(\" status:\", status)\n",
    "    print(\" runtime :\", elapsed_time.time)\n",
    "\n",
    "    Hˢⁱᵈ = convert.(ComplexF64, subs(Hˢʸᵐᵇ, sol))\n",
    "    Cˢⁱᵈ = convert.(ComplexF64,subs(Cˢʸᵐᵇ, sol))\n",
    "    epsilon = subs(h₃, sol) #ϵ\n",
    "\n",
    "    push!(Epsilons, epsilon)\n",
    "    \n",
    "    h5open(tests_dir*tests_data_file_name,\"cw\") do fid\n",
    "        γ_group = create_group(fid, γᵢ) # create gamma coupling group   \n",
    "        γ_group[\"epsilon\"] = convert(Float64, epsilon)\n",
    "        γ_group[\"H\"] = convert.(ComplexF64, Hˢⁱᵈ)\n",
    "        γ_group[\"C\"] = convert.(ComplexF64, Cˢⁱᵈ)\n",
    "        γ_group[\"status\"] = status\n",
    "        γ_group[\"runtime\"] = elapsed_time.time\n",
    "\n",
    "    end\n",
    "\n",
    "    println()\n",
    "\n",
    "    FminStates = []\n",
    "    FmedianStates = []\n",
    "    FmeanStates = []\n",
    "\n",
    "    for state in test_states # loop over initial states\n",
    "        \n",
    "        print(state*\" \")\n",
    "\n",
    "        start_time = time()\n",
    "\n",
    "        tₛ, ρₛ = LiPoSID.read_timeevolution(evol_data_file_name, state, γᵢ)\n",
    "        ρₛ = convert(Vector{Matrix{ComplexF64}}, ρₛ)\n",
    "        #bᵗˢᵗ = LiPoSID.bloch(ρₛ)\n",
    "        ρᵗˢᵗ = [DenseOperator(basis,Hermitian(ρₜ)) for ρₜ in ρₛ]\n",
    "        tᵗˢᵗ = convert(Vector{Float64}, tₛ)\n",
    "\n",
    "        ρₒ = DenseOperator(basis, ρₛ[1])\n",
    "        dt = tᵗˢᵗ[2] - tᵗˢᵗ[1]\n",
    "        tᵉⁿᵈ = tᵗˢᵗ[end]\n",
    "\n",
    "        #print(\"effective_Lindblad_ops for Kossakowski\")\n",
    "\n",
    "        effective_Lindblad = LiPoSID.get_lindblad_operators(convert.(ComplexF64, Cˢⁱᵈ), fᴷᴼᴺᴮ)\n",
    "        effective_Lindblad_ops = [DenseOperator(basis,j) for j in effective_Lindblad]\n",
    "\n",
    "        #print(\"Simulating Kossakowski\")\n",
    "\n",
    "        tout, ρ_t_kossak = timeevolution.master(convert.(Float64, tᵗˢᵗ), ρₒ, DenseOperator(basis, Hˢⁱᵈ), effective_Lindblad_ops)\n",
    "        ρˢⁱᵈ  = [ρₜ.data for ρₜ in ρ_t_kossak]\n",
    "\n",
    "        #bˢⁱᵈ = LiPoSID.bloch(ρˢⁱᵈ)\n",
    "        \n",
    "        # Calculating fidelity\n",
    "        \n",
    "        F = LiPoSID.fidelity_series(basis, ρₛ, ρˢⁱᵈ)\n",
    "\n",
    "\n",
    "        h5open(tests_dir*tests_data_file_name,\"cw\") do fid\n",
    "            γ_group = open_group(fid, γᵢ) # open gamma coupling group\n",
    "            init_state_group = create_group(γ_group, state) # create initial state group\n",
    "            init_state_group[\"Fidelity\"] = convert.(Float64, F)\n",
    "            #init_state_group[\"bloch_exact\"] = convert.(Float64, bᵗˢᵗ)\n",
    "            #init_state_group[\"bloch_sid\"] = convert.(Float64, bˢⁱᵈ)\n",
    "            init_state_group[\"tr_dist_grnd\"] = LiPoSID.TrDist(ρₛ[1], ρᵍ₀)\n",
    "            init_state_group[\"time\"] = tᵗˢᵗ\n",
    "        end\n",
    "        \n",
    "        FminState = minimum(F)\n",
    "        FmedianState = mean(F)\n",
    "        FmeanState = mean(F)\n",
    "        \n",
    "        push!(FminStates, FminState)\n",
    "        push!(FmedianStates, FmedianState)\n",
    "        push!(FmeanStates, FmeanState)\n",
    "    \n",
    "    end\n",
    "\n",
    "    # Calculate the mean\n",
    "    F_mean_value = mean(FmeanStates)\n",
    "\n",
    "    # Calculate the median\n",
    "    F_median_value = median(FmedianStates)\n",
    "\n",
    "    # Calculate the min\n",
    "    F_min_value = minimum(FminStates)\n",
    "\n",
    "    push!(FminGammas, F_min_value)\n",
    "    push!(FmedianGammas, F_median_value)\n",
    "    push!(FmeanGammas, F_mean_value)\n",
    "\n",
    "    println(\"Median fidelity for \"*γᵢ*\": \", F_median_value)\n",
    "\n",
    "end\n",
    "\n",
    "h5open(tests_dir*tests_data_file_name,\"cw\") do fid\n",
    "    fid[\"F_min\"] = convert.(Float64,FminGammas)\n",
    "    fid[\"F_median\"] = convert.(Float64,FmedianGammas)\n",
    "    fid[\"F_mean\"] = convert.(Float64,FmeanGammas)\n",
    "    fid[\"Energy\"] = convert.(Float64,Epsilons)\n",
    "    fid[\"CoefsRanges\"] = convert.(Float64,CoefRanges)\n",
    "\n",
    "end\n",
    "\n",
    "\n",
    "println(tests_data_file_name)"
   ]
  }
 ],
 "metadata": {
  "kernelspec": {
   "display_name": "Julia 1.10.2",
   "language": "julia",
   "name": "julia-1.10"
  },
  "language_info": {
   "file_extension": ".jl",
   "mimetype": "application/julia",
   "name": "julia",
   "version": "1.10.2"
  }
 },
 "nbformat": 4,
 "nbformat_minor": 2
}
