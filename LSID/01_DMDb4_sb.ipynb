{
 "cells": [
  {
   "cell_type": "markdown",
   "metadata": {},
   "source": [
    "### Exact DMD with 4 dimentional augmented Bloch vectors for two-level spin-boson system"
   ]
  },
  {
   "cell_type": "code",
   "execution_count": 1,
   "metadata": {},
   "outputs": [],
   "source": [
    "include(\"../LiPoSID.jl\")\n",
    "using QuantumOptics\n",
    "basis = NLevelBasis(2)\n",
    "using LinearAlgebra\n",
    "using Dates\n",
    "using HDF5"
   ]
  },
  {
   "cell_type": "code",
   "execution_count": 2,
   "metadata": {},
   "outputs": [
    {
     "data": {
      "text/plain": [
       "bloch (generic function with 1 method)"
      ]
     },
     "metadata": {},
     "output_type": "display_data"
    }
   ],
   "source": [
    "function bloch(ρ_list)\n",
    "    # Pauli matricies\n",
    "    σ = [ [0 1; 1 0], [0 -im; im 0], [1 0; 0 -1], [1 0; 0 1] ]\n",
    "\n",
    "    bloch_vec = [\n",
    "        convert.(Float64, [ ρ[1,2]+ρ[2,1],\n",
    "                           (ρ[1,2]-ρ[2,1])*im,\n",
    "                            ρ[1,1]-ρ[2,2]       ])\n",
    "                for ρ in ρ_list]\n",
    "    hcat(bloch_vec...)\n",
    "end"
   ]
  },
  {
   "cell_type": "markdown",
   "metadata": {},
   "source": [
    "#### Exact DMD works as follows\n",
    "\n",
    "Lets collect *snapshots* of the state vectors of the system $\\mathbf{x}_0, \\mathbf{x}_1, \\dots \\mathbf{x}_N $ <br>\n",
    "taken at some moments of time $t_0, t_1, \\dots t_n$ <br>\n",
    "and collected into matrices $X$ and $X'$:\n",
    "\n",
    "$\n",
    "X = \n",
    "\\begin{bmatrix}\n",
    "| & | & &| \\\\\n",
    "x_0 & x_1 & \\dots & x_{n-1} \\\\\n",
    "| & | & &| \\\\\n",
    "\\end{bmatrix}, \\quad\n",
    "X' = \n",
    "\\begin{bmatrix}\n",
    "| & | & &| \\\\\n",
    "x_1 & x_2 & \\dots & x_n \\\\\n",
    "| & | & &| \\\\\n",
    "\\end{bmatrix}\n",
    "$\n",
    "\n",
    "from the construction:\n",
    "\n",
    "$X' = A X$\n",
    "\n",
    "where $A$ could be estimated as follows:\n",
    "$\n",
    "\\hat{A}  =  X' X^{+},\n",
    "$\n",
    "\n",
    "where $X^{+}$ denotes the Moore-Penrose pseudo inverse"
   ]
  },
  {
   "cell_type": "markdown",
   "metadata": {},
   "source": [
    "If consider density matrix of the two level system it could be expressed with the elements of Bloch vector:\n",
    "\n",
    "$\n",
    "\\rho  = \\begin{pmatrix} \\rho_{00} & \\rho_{01} \\\\ \\rho_{10}  & \\rho_{11}\n",
    "   \\end{pmatrix} = \\frac{1}{2}\\begin{pmatrix} 1+ b_z& b_x-i b_y \\\\ b_x + i b_y  & 1-b_z\n",
    "   \\end{pmatrix}\n",
    "$\n",
    "\n",
    "we can then use augmented four dimentional Bloch vectors as state vectors of the system :\n",
    "\n",
    "$ \\begin{pmatrix} |\\\\\n",
    "b \\\\\n",
    "| \\\\\n",
    "1\n",
    "\\end{pmatrix} = \\begin{pmatrix} b_x\\\\\n",
    "b_y \\\\\n",
    "b_z \\\\\n",
    "1\n",
    "\\end{pmatrix} \n",
    "= \\begin{pmatrix} 2 \\operatorname{Re}(\\rho_{01})\\\\\n",
    "2 \\operatorname{Im}(\\rho_{10}) \\\\\n",
    "\\rho_{00} - \\rho_{11} \\\\\n",
    "\\rho_{00} + \\rho_{11} \n",
    "\\end{pmatrix} \n",
    "$\n",
    "\n",
    "we can collect evolution of Bloch vectors from the basis states  $ \\ket{0},\\ket{1},\\ket{x},\\ket{y}$ into matrices\n",
    "\n",
    "$\n",
    "Y_b = \\left[\n",
    "\\begin{smallmatrix}\n",
    "| &  & | & | & & | & | &  & | & | &  & | & | & & | \\\\\n",
    " b_0^{\\ket{0}} & \\dots & b_{n-1}^{\\ket{0}} & b_0^{\\ket{1}} & \\dots & b_{n-1}^{\\ket{1}} & b_0^{\\ket{1}} & \\dots & b_{n-1}^{\\ket{1}} & b_0^{\\ket{x}} & \\dots & b_{n-1}^{\\ket{x}}& b_0^{\\ket{y}} & \\dots & b_{n-1}^{\\ket{y}} \\\\\n",
    "| &  & | & | & & | & | &  & | & | &  & | & | & & | \\\\\n",
    "1 &  & 1 & 1 & & 1 & 1 &  & 1 & 1 &  & 1 & 1 & & 1 \\\\\n",
    "\\end{smallmatrix} \\right] \\\\\n",
    "Y'_b = \\left[\n",
    "\\begin{smallmatrix}\n",
    "| &  & | & | & & | & | &  & | & | &  & | & | & & | \\\\\n",
    " b_1^{\\ket{0}} & \\dots & b_{n}^{\\ket{0}} & b_1^{\\ket{1}} & \\dots & b_{n}^{\\ket{1}} & b_1^{\\ket{1}} & \\dots & b_{n}^{\\ket{1}} & b_1^{\\ket{x}} & \\dots & b_{n}^{\\ket{x}}& b_1^{\\ket{y}} & \\dots & b_{n}^{\\ket{y}} \\\\\n",
    "| &  & | & | & & | & | &  & | & | &  & | & | & & | \\\\\n",
    "1 &  & 1 & 1 & & 1 & 1 &  & 1 & 1 &  & 1 & 1 & & 1 \n",
    "\\end{smallmatrix} \\right] \n",
    "$"
   ]
  },
  {
   "cell_type": "markdown",
   "metadata": {},
   "source": [
    "Then we can find the matrix of the exact DMD liner model with the least squares:\n",
    "\n",
    "$\n",
    "  \\tilde{A}^{(4D \\ket{0} \\ket{1} \\ket{x} \\ket{y})} = Y'_b Y_b^{+}, \\quad \\tilde{A}^{(4D \\ket{0} \\ket{1} \\ket{x} \\ket{y})}_c = \\frac{\\log (Y'_b Y_b^{+})}{\\Delta t}\n",
    "$"
   ]
  },
  {
   "cell_type": "code",
   "execution_count": 3,
   "metadata": {},
   "outputs": [
    {
     "data": {
      "text/plain": [
       "exactDMDb4 (generic function with 1 method)"
      ]
     },
     "metadata": {},
     "output_type": "display_data"
    }
   ],
   "source": [
    "function exactDMDb4(γᵢ)\n",
    "\n",
    "    evol_data_file_name = \"../DATA/ALL_GAMMAS_B4_D10.h5\"\n",
    "\n",
    "    tᵍᵉˣʸ , ρᵍᵉˣʸ  = LiPoSID.read_GEXY_timeevolution(evol_data_file_name, γᵢ)\n",
    "\n",
    "    ρᵍ, ρᵉ, ρˣ, ρʸ = ρᵍᵉˣʸ\n",
    "    tᵍ, tᵉ, tˣ, tʸ = tᵍᵉˣʸ\n",
    "\n",
    "    lᵉ = length(ρᵉ); lᵍ = length(ρᵍ); lˣ = length(ρˣ); lʸ = length(ρʸ)\n",
    "    lᵐᵃˣ = min(lᵉ, lᵍ,  lˣ, lʸ)  #choose time limit by shortest series\n",
    "\n",
    "    bᵉ = bloch(ρᵉ[1:lᵐᵃˣ])\n",
    "    bᵍ = bloch(ρᵍ[1:lᵐᵃˣ])\n",
    "    bˣ = bloch(ρˣ[1:lᵐᵃˣ])\n",
    "    bʸ = bloch(ρʸ[1:lᵐᵃˣ])\n",
    "\n",
    "    tᵉᶠ = convert.(Float64, tᵉ); tᵍᶠ = convert.(Float64, tᵍ); \n",
    "    tˣᶠ = convert.(Float64, tˣ); tʸᶠ = convert.(Float64, tʸ); \n",
    "\n",
    "    Δt = tᵉᶠ[2] - tᵉᶠ[1]\n",
    "\n",
    "    Yᵉ = [bᵉ; ones(lᵐᵃˣ)']\n",
    "    Yᵍ = [bᵍ; ones(lᵐᵃˣ)']\n",
    "    Yˣ = [bˣ; ones(lᵐᵃˣ)']\n",
    "    Yʸ = [bʸ; ones(lᵐᵃˣ)']\n",
    "\n",
    "    Yᵉ⁻ = Yᵉ[:,1:end-1]; Yᵉ⁺ = Yᵉ[:,2:end]\n",
    "    Yᵍ⁻ = Yᵍ[:,1:end-1]; Yᵍ⁺ = Yᵍ[:,2:end]\n",
    "    Yˣ⁻ = Yˣ[:,1:end-1]; Yˣ⁺ = Yˣ[:,2:end]\n",
    "    Yʸ⁻ = Yᵉ[:,1:end-1]; Yʸ⁺ = Yᵉ[:,2:end]\n",
    "\n",
    "    Y⁻ = hcat(Yᵉ⁻, Yᵍ⁻, Yˣ⁻, Yʸ⁻)\n",
    "    Y⁺ = hcat(Yᵉ⁺, Yᵍ⁺, Yˣ⁺, Yʸ⁺)\n",
    "\n",
    "    A⁴ᴰ = Y⁺ * pinv(Y⁻) # Direct DMD estimation\n",
    "\n",
    "    return A⁴ᴰ, Δt\n",
    "\n",
    "end"
   ]
  },
  {
   "cell_type": "code",
   "execution_count": 4,
   "metadata": {},
   "outputs": [
    {
     "name": "stdout",
     "output_type": "stream",
     "text": [
      "../DATA/\n"
     ]
    }
   ],
   "source": [
    "parentdir = \"..\"\n",
    "data_dir = parentdir*\"/DATA/\"\n",
    "println(data_dir)\n",
    "\n",
    "models_dir = parentdir*\"/MODELS/\"\n",
    "tests_dir = parentdir*\"/TESTS/\"\n",
    "\n",
    "dodeca_files = [\"State_D\"*string(n) for n=1:20];\n",
    "basis_files = [\"State_B\"*string(n) for n=1:4];\n",
    "\n",
    "all_files = vcat(dodeca_files, basis_files)\n",
    "test_files = dodeca_files;"
   ]
  },
  {
   "cell_type": "code",
   "execution_count": 5,
   "metadata": {},
   "outputs": [
    {
     "name": "stdout",
     "output_type": "stream",
     "text": [
      "DMD_b4_LTI_trn4_2024-Sep-16_at_11-10.h5\n"
     ]
    }
   ],
   "source": [
    "date_and_time_string =  string(Dates.format(now(), \"yyyy-u-dd_at_HH-MM\"))\n",
    "\n",
    "models_data_file_name = \"DMD_b4_LTI_trn4_\"*date_and_time_string * \".h5\"\n",
    "\n",
    "println(models_data_file_name)\n",
    "\n",
    "γ = [ \"0.079477\",  \"0.25133\", \"0.79477\", \"2.5133\", \"7.9477\", \"25.133\",  \"79.477\", \"251.33\"]\n",
    "\n",
    "#γ = [\"0.0\", \"0.079477\",  \"0.25133\", \"0.79477\", \"2.5133\", \"7.9477\", \"25.133\",  \"79.477\", \"251.33\"]\n",
    "\n",
    "for γᵢ in  γ\n",
    "\n",
    "    A⁴ᴰ, Δt = exactDMDb4(γᵢ)\n",
    "    A⁴ᴰc = log(A⁴ᴰ)/Δt\n",
    "\n",
    "    h5open(models_dir*models_data_file_name,\"cw\") do fid\n",
    "        γ_group = create_group(fid, \"gamma_\"*γᵢ) # create coupling group\n",
    "        γ_group[\"A\"] = convert.(Float64, A⁴ᴰ)\n",
    "        γ_group[\"Ac\"] = convert.(Float64, A⁴ᴰc)\n",
    "    end\n",
    "end   "
   ]
  },
  {
   "cell_type": "code",
   "execution_count": null,
   "metadata": {},
   "outputs": [],
   "source": []
  }
 ],
 "metadata": {
  "kernelspec": {
   "display_name": "Julia 1.10.2",
   "language": "julia",
   "name": "julia-1.10"
  },
  "language_info": {
   "file_extension": ".jl",
   "mimetype": "application/julia",
   "name": "julia",
   "version": "1.10.2"
  },
  "orig_nbformat": 4
 },
 "nbformat": 4,
 "nbformat_minor": 2
}
