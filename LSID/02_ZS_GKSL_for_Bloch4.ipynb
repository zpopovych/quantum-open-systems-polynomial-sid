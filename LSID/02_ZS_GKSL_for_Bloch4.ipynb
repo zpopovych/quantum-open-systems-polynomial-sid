{
 "cells": [
  {
   "cell_type": "markdown",
   "metadata": {},
   "source": [
    "### GKSL equation in Kossakowski form for the augmented Bloch vector "
   ]
  },
  {
   "cell_type": "markdown",
   "metadata": {},
   "source": [
    "According to the theorem proven by Kossakowski (Kossakowski, 1973) Markovian master equation could be rewritten for a two-level system $\\rho \\in M(2)$ as follows:\n",
    "\n",
    "$\n",
    "   \\mathcal{K} = -i[H,\\rho] + \\frac{1}{2} \\sum_{i,j}^3 C_{ij} \\{[f_i, \\rho f_j] + [f_i\\rho, f_j]\\}, \n",
    "$\n",
    "where"
   ]
  },
  {
   "cell_type": "markdown",
   "metadata": {},
   "source": [
    "$\n",
    "\\text{(i)} \\quad \\quad \n",
    "           f_i f_j = \\frac{1}{4}\\delta_{ij}I  +\\frac{i}{2} \\sum_{k=1}^3 \\epsilon_{ijk} f_k \\\\ \\text{which means:} \\notag \\\\ \\quad\n",
    "    \\operatorname{Tr}(f_i f_j)=\\frac{1}{2}\\delta_{ij}, \\quad \\operatorname{Tr}(f_i) = 0 \\notag \n",
    "$\n",
    "\n",
    "\n",
    "and we can choose basis operators $f_i$ as halfs of Pauli matrices \n",
    "$\\{ \\sigma_x, \\sigma_y, \\sigma_z \\}$:\n",
    "\n",
    "$\n",
    "    f_1 = \\sigma_x/2  = \n",
    "    \\begin{pmatrix}\n",
    "        0 & 1 \\\\ 1 & 0\n",
    "    \\end{pmatrix} / 2 \\\\\n",
    "    f_2 = \\sigma_y/2  = \\begin{pmatrix}\n",
    "        0 & i \\\\ -i & 0\n",
    "    \\end{pmatrix} / 2\\\\\n",
    "    f_3 = \\sigma_z/2 = \\begin{pmatrix}\n",
    "        1 & 0 \\\\ 0 & -1\n",
    "    \\end{pmatrix} / 2\n",
    "$"
   ]
  },
  {
   "cell_type": "markdown",
   "metadata": {},
   "source": [
    "$\n",
    "     \\text{(ii)} \\quad \\quad \\quad \n",
    "     H = \\sum_1^3 h_i f_i, \\quad h_i \\in \\mathbb{R}\n",
    "$\n",
    "\n",
    "which means we can use Hamiltonian of the form:\n",
    "\n",
    "$\n",
    "H = \\begin{pmatrix} \n",
    "h_3   & h_1 + i h_2          \\\\\n",
    "h_1 - i h_2 & -h_3\n",
    "\\end{pmatrix} / 2 \\\\\n",
    " = \\begin{pmatrix} \n",
    "h_z   & h_x + i h_y          \\\\\n",
    "h_x - i h_y & -h_z\n",
    "\\end{pmatrix} / 2 \n",
    "$"
   ]
  },
  {
   "cell_type": "markdown",
   "metadata": {},
   "source": [
    "$\n",
    "     \\text{(iii)} \\quad \\{C_{ij}\\} = \\begin{pmatrix} \n",
    "\\gamma - 2\\gamma_1    & - i a_3            &  i a_2 \\\\\n",
    "i a_3                 & \\gamma - 2\\gamma_2 & -i a_1 \\\\\n",
    "-i a_2                & i a_1              & \\gamma - 2\\gamma_3 \n",
    "\\end{pmatrix} \n",
    "=  \\begin{pmatrix} \n",
    "\\kappa_1   & - i a_3    &  i a_2 \\\\\n",
    "i a_3       & \\kappa_2   & -i a_1 \\\\\n",
    "-i a_2      & i a_1      & \\kappa_3 \n",
    "\\end{pmatrix}\n",
    "$\n",
    "\n",
    "$C =  \\begin{pmatrix}\n",
    "c_{11} & c_{12} & c_{13} \\\\\n",
    "c_{21} & c_{22} & c_{23} \\\\\n",
    "c_{31} & c_{32} & c_{33}\n",
    "\\end{pmatrix}$"
   ]
  },
  {
   "cell_type": "markdown",
   "metadata": {},
   "source": [
    "$\n",
    "    \\text{(iv)} \\quad \\quad \\quad \\quad \\gamma_1, \\gamma_2, \\gamma_3 \\geq 0\n",
    "$\n",
    "\n",
    "If $\\gamma = 0$ the evolution is just unitary, and in case $\\gamma >0 $ <br>\n",
    "in order for the evolution to be completely positive it is nessesary and sufficient that <br>\n",
    "(denoting $\\kappa_i = \\gamma - 2 \\gamma_i$):\n",
    "\n",
    "$\n",
    "    \\kappa_1 + \\kappa_2 + \\kappa_3 \\geq 0 \\\\\n",
    "\\kappa_1 \\kappa_2  + \\kappa_3 \\kappa_1  + \\kappa_1 \\kappa_2  \\geq a_1^2 + a_2^2 + a_3^2 \\\\\n",
    "   \\kappa_1 \\kappa_2 \\kappa_3 \\geq  \\kappa_1 a_1^2 + \\kappa_2 a_2^2 + \\kappa_3 a_3^2 \n",
    "$"
   ]
  },
  {
   "cell_type": "markdown",
   "metadata": {},
   "source": [
    "Standard GKSL in Bloch vector form:\n",
    "\n",
    "$\n",
    "\\frac{d\\mathbf{r}}{dt} = \\mathbf{\\omega} \\times \\mathbf{r} - \\Lambda \\mathbf{r} + \\mathbf{b}\n",
    "$\n",
    "\n",
    "where $\\omega$ = $\\{ h_1, h_2, h_3 \\}$\n",
    "\n",
    "$\\mathbf{\\omega} \\times \\mathbf{r} = \\Omega \\cdot \\mathbf{r}  \n",
    "= \\begin{pmatrix}\n",
    "0 & -h_z & h_y \\\\\n",
    "h_z & 0 & -h_x \\\\\n",
    "-h_y & h_x & 0\n",
    "\\end{pmatrix} \\cdot \\mathbf{r} $ \n",
    "\n",
    "Drift vector: $\\mathbf{b} = 2 \\sum_{i,j=1}^3 \\operatorname{Im} C_{ij} \\epsilon_{kij}$ with $\\epsilon_{kij}$ - Levi-Civita symbol\n",
    "\n",
    "$\\mathbf{b} = 2 \\operatorname{Im}  \\begin{pmatrix} c_{23}-c_{32} \\\\ c_{31} - c_{13} \\\\ c_{12} - c_{21} \\end{pmatrix} \n",
    "= 2 \\operatorname{Im} \\begin{pmatrix} -2i a_1 \\\\ -2i a_2 \\\\ -2i a_1 \\end{pmatrix} = 2 \\begin{pmatrix} -2 a_1 \\\\ -2 a_2 \\\\ -2 a_1 \\end{pmatrix}$\n",
    "\n",
    "Damping matrix:\n",
    "\n",
    "$\\Lambda_{kl} = 2 \\sum_{i,j=1}^3 C_{ij} (\\delta_{jk}\\delta_{jl} - \\frac{1}{2}\\delta_{ij}\\delta_{kl})$\n",
    "\n",
    "$\n",
    "\\Lambda = 2 \\begin{pmatrix}\n",
    "c_{11} - \\operatorname{Tr}(C) & c_{12} & c_{13} \\\\\n",
    "c_{12} & c_{22} - \\operatorname{Tr}(C) & c_{23} \\\\\n",
    "c_{13} & c_{23} & c_{33} - \\operatorname{Tr}(C)\n",
    "\\end{pmatrix}\n",
    "$\n",
    "\n",
    "$\n",
    "\\Lambda = 2 \\left( C - \\operatorname{Tr}(C) \\, I \\right)\n",
    "$"
   ]
  },
  {
   "cell_type": "markdown",
   "metadata": {},
   "source": []
  },
  {
   "cell_type": "markdown",
   "metadata": {},
   "source": [
    "#### GKSL for augmented Bloch vector\n",
    "\n",
    "$\\frac{d\\mathbf{\\tilde{r}}}{dt} = \\tilde{M} \\mathbf{\\tilde{r}}$\n",
    "\n",
    "\n",
    "$\\tilde{M} = \n",
    "\\begin{pmatrix}\n",
    "-\\Lambda + \\Omega & \\mathbf{b} \\\\\n",
    "\\mathbf{0}^T &  0\n",
    "\\end{pmatrix}\n",
    "$"
   ]
  },
  {
   "cell_type": "markdown",
   "metadata": {},
   "source": []
  },
  {
   "cell_type": "code",
   "execution_count": 1,
   "metadata": {},
   "outputs": [],
   "source": [
    "using DynamicPolynomials\n",
    "using LinearAlgebra"
   ]
  },
  {
   "cell_type": "code",
   "execution_count": 41,
   "metadata": {},
   "outputs": [
    {
     "data": {
      "text/plain": [
       "3×1 Matrix{Term{true, Int64}}:\n",
       " -4a₁\n",
       " -4a₂\n",
       " -4a₃"
      ]
     },
     "metadata": {},
     "output_type": "display_data"
    }
   ],
   "source": [
    "@polyvar κ[1:3]; κ₁,κ₂,κ₃ = κ[1],κ[2],κ[3]\n",
    "@polyvar a[1:3]; a₁,a₂,a₃ = a[1],a[2],a[3]\n",
    "\n",
    "Cˢʸᵐᵇ = [  κ₁     -im*a₃     im*a₂\n",
    "           im*a₃   κ₂       -im*a₁\n",
    "          -im*a₂   im*a₁     κ₃     ] ;\n",
    "\n",
    "Λ = 2*(Cˢʸᵐᵇ - tr(Cˢʸᵐᵇ)*I)\n",
    "\n",
    "@polyvar h[1:3]; h₁,h₂,h₃ = h[1],h[2],h[3]\n",
    "\n",
    "Hˢʸᵐᵇ = [ h₃          h₁+im*h₂\n",
    "          h₁-im*h₂   -h₃           ] / 2\n",
    "\n",
    "Ω = [  0   -h₃     h₂\n",
    "       h₃   0     -h₁\n",
    "      -h₂   h₁     0    ]  \n",
    "\n",
    "b = -4 * [a₁ a₂ a₃]'"
   ]
  },
  {
   "cell_type": "code",
   "execution_count": 42,
   "metadata": {},
   "outputs": [
    {
     "data": {
      "text/plain": [
       "4×4 Matrix{Polynomial{true, ComplexF64}}:\n",
       " (2.0+0.0im)κ₂ + (2.0+0.0im)κ₃                                        …  (-4.0+0.0im)a₁\n",
       " (2.0+0.0im)κ₁ + (2.0+0.0im)κ₂ + (2.0+0.0im)κ₃ + (0.0-2.0im)a₃ + h₃      (-4.0+0.0im)a₂\n",
       " (2.0+0.0im)κ₁ + (2.0+0.0im)κ₂ + (2.0+0.0im)κ₃ + (0.0+2.0im)a₂ + -h₂     (-4.0+0.0im)a₃\n",
       " 0.0+0.0im                                                               0.0+0.0im"
      ]
     },
     "metadata": {},
     "output_type": "display_data"
    }
   ],
   "source": [
    "M = [-Λ+Ω       b\n",
    "     zeros(3)'  0]"
   ]
  },
  {
   "cell_type": "code",
   "execution_count": 43,
   "metadata": {},
   "outputs": [
    {
     "data": {
      "text/plain": [
       "4×4 Matrix{Float64}:\n",
       " -1.09155e-8   -25.1327        0.000161443   2.89442e-5\n",
       " 25.1963        -0.795828     -0.000818289  -7.03521e-5\n",
       " -0.0366884     -0.00621641   -0.798674      0.79106\n",
       " -2.95082e-13   -4.98227e-13  -3.37554e-13  -2.0922e-14"
      ]
     },
     "metadata": {},
     "output_type": "display_data"
    }
   ],
   "source": [
    "using HDF5\n",
    "\n",
    "filename = \"../MODELS/DMD_b4_LTI_trn4_2024-Sep-15_at_00-06.h5\"\n",
    "\n",
    "γ = [ \"0.079477\",  \"0.25133\", \"0.79477\", \"2.5133\", \"7.9477\", \"25.133\",  \"79.477\", \"251.33\"]\n",
    "\n",
    "γᵢ = γ[3]\n",
    "\n",
    "function read_LSID_Ac(γᵢ)\n",
    "\n",
    "    h5open(filename, \"r\") do file\n",
    "        # Navigate to the dataset within the group\n",
    "        Ac = read(file[\"gamma_\"*γᵢ*\"/Ac\"])\n",
    "        \n",
    "        # Now you can use the dataset as needed\n",
    "        return(Ac)\n",
    "    end\n",
    "end \n",
    "\n",
    "A_c = read_LSID_Ac(γᵢ)"
   ]
  },
  {
   "cell_type": "code",
   "execution_count": 82,
   "metadata": {},
   "outputs": [
    {
     "data": {
      "text/plain": [
       "4×4 Matrix{Float64}:\n",
       " -1.09155e-8  -25.1327       0.000161443   2.89442e-5\n",
       " 25.1963       -0.795828    -0.000818289  -7.03521e-5\n",
       " -0.0366884    -0.00621641  -0.798674      0.79106\n",
       "  0.0           0.0          0.0           0.0"
      ]
     },
     "metadata": {},
     "output_type": "display_data"
    }
   ],
   "source": [
    "A_c[abs.(A_c) .< 1e-9] .= 0.0\n",
    "\n",
    "A_c"
   ]
  },
  {
   "cell_type": "code",
   "execution_count": 83,
   "metadata": {},
   "outputs": [
    {
     "data": {
      "text/plain": [
       "4×4 Matrix{Polynomial{true, ComplexF64}}:\n",
       " (-2.0-0.0im)κ₂ + (-2.0-0.0im)κ₃ + (-1.09155e-8+0.0im)                                        …  (4.0-0.0im)a₁ + (2.89442e-5+0.0im)\n",
       " (-2.0-0.0im)κ₁ + (-2.0-0.0im)κ₂ + (-2.0-0.0im)κ₃ + (-0.0+2.0im)a₃ + -h₃ + (25.1963+0.0im)       (4.0-0.0im)a₂ + (-7.03521e-5+0.0im)\n",
       " (-2.0-0.0im)κ₁ + (-2.0-0.0im)κ₂ + (-2.0-0.0im)κ₃ + (-0.0-2.0im)a₂ + h₂ + (-0.0366884+0.0im)     (4.0-0.0im)a₃ + (0.79106+0.0im)\n",
       " 0.0+0.0im                                                                                       0.0+0.0im"
      ]
     },
     "metadata": {},
     "output_type": "display_data"
    }
   ],
   "source": [
    "D = A_c - M"
   ]
  },
  {
   "cell_type": "code",
   "execution_count": 46,
   "metadata": {},
   "outputs": [],
   "source": [
    "using Symbolics"
   ]
  },
  {
   "cell_type": "code",
   "execution_count": 84,
   "metadata": {},
   "outputs": [
    {
     "data": {
      "text/plain": [
       "poly_to_symbolic (generic function with 1 method)"
      ]
     },
     "metadata": {},
     "output_type": "display_data"
    }
   ],
   "source": [
    "function poly_to_symbolic(poly, var_map)\n",
    "    expr = zero(Num)\n",
    "\n",
    "    # Get the coefficients and monomials from the polynomial\n",
    "    coeffs = MultivariatePolynomials.coefficients(poly)\n",
    "    monoms = MultivariatePolynomials.monomials(poly)\n",
    "\n",
    "    # Loop over the coefficients and corresponding monomials\n",
    "    for (coeff, monomial) in zip(coeffs, monoms)\n",
    "        monomial_expr = one(Num)\n",
    "        \n",
    "        if isa(monomial, Number)\n",
    "            # If the monomial is a constant, use it directly\n",
    "            monomial_expr = Num(monomial)\n",
    "        else\n",
    "            # Otherwise, convert monomials to symbolic form\n",
    "            vars_in_monomial = MultivariatePolynomials.variables(monomial)\n",
    "            exponents_in_monomial = MultivariatePolynomials.exponents(monomial)\n",
    "\n",
    "            # Build the symbolic monomial expression\n",
    "            for (var, exponent) in zip(vars_in_monomial, exponents_in_monomial)\n",
    "                # Ensure that the variable is in var_map\n",
    "                if haskey(var_map, var)\n",
    "                    # Replace the polynomial variable with the corresponding symbolic variable\n",
    "                    monomial_expr *= var_map[var]^exponent\n",
    "                else\n",
    "                    error(\"Variable $var not found in variable map.\")\n",
    "                end\n",
    "            end\n",
    "        end\n",
    "        \n",
    "        # Add the coefficient * monomial_expr to the overall expression\n",
    "        expr += real(coeff) * monomial_expr\n",
    "    end\n",
    "    return expr\n",
    "end"
   ]
  },
  {
   "cell_type": "code",
   "execution_count": 85,
   "metadata": {},
   "outputs": [
    {
     "data": {
      "text/plain": [
       "Dict{PolyVar{true}, Num} with 9 entries:\n",
       "  κ₁ => ks1\n",
       "  h₂ => hs2\n",
       "  a₁ => as1\n",
       "  h₁ => hs1\n",
       "  κ₂ => ks2\n",
       "  κ₃ => ks3\n",
       "  a₂ => as2\n",
       "  a₃ => as3\n",
       "  h₃ => hs3"
      ]
     },
     "metadata": {},
     "output_type": "display_data"
    }
   ],
   "source": [
    "@variables ks1, ks2, ks3, as1, as2, as3, hs1, hs2, hs3\n",
    "\n",
    "poly_var_to_sym_var = Dict(\n",
    "κ₁ => ks1,\n",
    "κ₂ => ks2,\n",
    "κ₃ => ks3,\n",
    "a₁ => as1,\n",
    "a₂ => as2,\n",
    "a₃ => as3,\n",
    "h₁ => hs1,\n",
    "h₂ => hs2,\n",
    "h₃ => hs3\n",
    "#κ[1] => k1,\n",
    "#κ[2] => k2,\n",
    "#κ[3] => k3,\n",
    "#a[1] => a1,\n",
    "#a[2] => a2,\n",
    "#a[3] => a3,\n",
    "#h[1] => h1,\n",
    "#h[2] => h2,\n",
    "#h[3] => h3\n",
    ")"
   ]
  },
  {
   "cell_type": "code",
   "execution_count": 100,
   "metadata": {},
   "outputs": [
    {
     "data": {
      "text/latex": [
       "$$ \\begin{equation}\n",
       "\\left[\n",
       "\\begin{array}{c}\n",
       "hs3 \\\\\n",
       "ks1 \\\\\n",
       "ks2 \\\\\n",
       "ks3 \\\\\n",
       "ks1 + ks2 + ks3 \\\\\n",
       "as1^{2} + ks1 ks2 + ks1 ks3 + ks2 ks3 - as2^{2} - as3^{2} \\\\\n",
       "ks1 ks2 ks3 - as1^{2} ks1 - as2^{2} ks2 - as3^{2} ks3 \\\\\n",
       "\\end{array}\n",
       "\\right]\n",
       "\\end{equation}\n",
       " $$"
      ],
      "text/plain": [
       "7-element Vector{Num}:\n",
       "                                                     hs3\n",
       "                                                     ks1\n",
       "                                                     ks2\n",
       "                                                     ks3\n",
       "                                         ks1 + ks2 + ks3\n",
       " as1^2 + ks1*ks2 + ks1*ks3 + ks2*ks3 - (as2^2) - (as3^2)\n",
       "   ks1*ks2*ks3 - ks1*(as1^2) - ks2*(as2^2) - ks3*(as3^2)"
      ]
     },
     "metadata": {},
     "output_type": "display_data"
    }
   ],
   "source": [
    "constr1 = κ₁ + κ₂ + κ₃ \n",
    "constr2 = κ₁*κ₂ + κ₃*κ₁ + κ₂*κ₃ - - a₁^2 - a₂^2 - a₃^2\n",
    "constr3 = κ₁*κ₂*κ₃ - κ₁*a₁^2 - κ₂*a₂^2 - κ₃*a₃^2\n",
    "\n",
    "constraints = [ h₃, κ₁, κ₂, κ₃, constr1, constr2, constr3] \n",
    "\n",
    "constraints_sym = [poly_to_symbolic(c, poly_var_to_sym_var) for c in constraints]"
   ]
  },
  {
   "cell_type": "code",
   "execution_count": 112,
   "metadata": {},
   "outputs": [
    {
     "data": {
      "text/plain": [
       "12-element Vector{Any}:\n",
       " -1.0915482301539226e-8 - 2.0ks2 - 2.0ks3 ~ 0\n",
       " hs3 - 25.132740902749152 - 2.0ks1 - 2.0ks2 - 2.0ks3 ~ 0\n",
       " 0.00016144287336491446 - hs2 - 2.0ks1 - 2.0ks2 - 2.0ks3 ~ 0\n",
       " 2.894417436333362e-5 + 4.0as1 ~ 0\n",
       " 25.19633229486415 - hs3 - 2.0ks1 - 2.0ks2 - 2.0ks3 ~ 0\n",
       " -0.7958275809831139 - 2.0ks1 - 2.0ks3 ~ 0\n",
       " hs1 - 0.0008182885461700876 - 2.0ks1 - 2.0ks2 - 2.0ks3 ~ 0\n",
       " 4.0as2 - 7.035206592688032e-5 ~ 0\n",
       " hs2 - 0.03668844566634386 - 2.0ks1 - 2.0ks2 - 2.0ks3 ~ 0\n",
       " -0.006216410314037673 - hs1 - 2.0ks1 - 2.0ks2 - 2.0ks3 ~ 0\n",
       " -0.7986739276605037 - 2.0ks1 - 2.0ks2 ~ 0\n",
       " 0.7910604590167214 + 4.0as3 ~ 0"
      ]
     },
     "metadata": {},
     "output_type": "display_data"
    }
   ],
   "source": [
    "#using Symbolics\n",
    "\n",
    "equations = []\n",
    "\n",
    "for i in 1:size(D, 1)-1\n",
    "    for j in 1:size(D, 2)\n",
    "        # Convert to symbolic expression\n",
    "        expr = poly_to_symbolic(D[i, j], poly_var_to_sym_var)\n",
    "        \n",
    "        # Use iszero to check if the expression is zero\n",
    "        if !iszero(expr)\n",
    "            push!(equations, expr ~ 0)\n",
    "        end\n",
    "    end\n",
    "end\n",
    "\n",
    "equations"
   ]
  },
  {
   "cell_type": "code",
   "execution_count": 110,
   "metadata": {},
   "outputs": [
    {
     "data": {
      "text/plain": [
       "19-element Vector{Any}:\n",
       "                                                              -1.0915482301539226e-8 - 2.0ks2 - 2.0ks3 ~ 0\n",
       "                                                              hs3 - 25.132740902749152 - 2.0ks1 - 2.0ks2 - 2.0ks3 ~ 0\n",
       "                                                              0.00016144287336491446 - hs2 - 2.0ks1 - 2.0ks2 - 2.0ks3 ~ 0\n",
       "                                                              2.894417436333362e-5 + 4.0as1 ~ 0\n",
       "                                                              25.19633229486415 - hs3 - 2.0ks1 - 2.0ks2 - 2.0ks3 ~ 0\n",
       "                                                              -0.7958275809831139 - 2.0ks1 - 2.0ks3 ~ 0\n",
       "                                                              hs1 - 0.0008182885461700876 - 2.0ks1 - 2.0ks2 - 2.0ks3 ~ 0\n",
       "                                                              4.0as2 - 7.035206592688032e-5 ~ 0\n",
       "                                                              hs2 - 0.03668844566634386 - 2.0ks1 - 2.0ks2 - 2.0ks3 ~ 0\n",
       "                                                              -0.006216410314037673 - hs1 - 2.0ks1 - 2.0ks2 - 2.0ks3 ~ 0\n",
       "                                                              -0.7986739276605037 - 2.0ks1 - 2.0ks2 ~ 0\n",
       "                                                              0.7910604590167214 + 4.0as3 ~ 0\n",
       "                                                       hs3 > 0\n",
       "                                                       ks1 > 0\n",
       "                                                       ks2 > 0\n",
       "                                                       ks3 > 0\n",
       "                                         (ks1 + ks2 + ks3) > 0\n",
       " (as1^2 + ks1*ks2 + ks1*ks3 + ks2*ks3 - (as2^2) - (as3^2)) > 0\n",
       "   (ks1*ks2*ks3 - ks1*(as1^2) - ks2*(as2^2) - ks3*(as3^2)) > 0"
      ]
     },
     "metadata": {},
     "output_type": "display_data"
    }
   ],
   "source": [
    "equations_constraints = equations\n",
    "\n",
    "for expr in constraints_sym\n",
    "    if !iszero(expr)\n",
    "        push!(equations_constraints, expr > 0)\n",
    "    end\n",
    "end\n",
    "\n",
    "equations_constraints"
   ]
  },
  {
   "cell_type": "code",
   "execution_count": 113,
   "metadata": {},
   "outputs": [
    {
     "ename": "DimensionMismatch",
     "evalue": "DimensionMismatch: matrix is not square: dimensions are (12, 9)",
     "output_type": "error",
     "traceback": [
      "DimensionMismatch: matrix is not square: dimensions are (12, 9)\n",
      "\n",
      "Stacktrace:\n",
      "  [1] checksquare\n",
      "    @ ~/.julia/juliaup/julia-1.10.2+0.x64.linux.gnu/share/julia/stdlib/v1.10/LinearAlgebra/src/LinearAlgebra.jl:241 [inlined]\n",
      "  [2] UpperTriangular\n",
      "    @ ~/.julia/juliaup/julia-1.10.2+0.x64.linux.gnu/share/julia/stdlib/v1.10/LinearAlgebra/src/triangular.jl:17 [inlined]\n",
      "  [3] UpperTriangular\n",
      "    @ ~/.julia/juliaup/julia-1.10.2+0.x64.linux.gnu/share/julia/stdlib/v1.10/LinearAlgebra/src/triangular.jl:24 [inlined]\n",
      "  [4] ldiv!(A::LU{Num, Matrix{Num}, Vector{Int64}}, B::Vector{Num})\n",
      "    @ LinearAlgebra ~/.julia/juliaup/julia-1.10.2+0.x64.linux.gnu/share/julia/stdlib/v1.10/LinearAlgebra/src/lu.jl:430\n",
      "  [5] ldiv(F::LU{Num, Matrix{Num}, Vector{Int64}}, B::Vector{Num})\n",
      "    @ LinearAlgebra ~/.julia/juliaup/julia-1.10.2+0.x64.linux.gnu/share/julia/stdlib/v1.10/LinearAlgebra/src/LinearAlgebra.jl:572\n",
      "  [6] \\\n",
      "    @ ~/.julia/juliaup/julia-1.10.2+0.x64.linux.gnu/share/julia/stdlib/v1.10/LinearAlgebra/src/LinearAlgebra.jl:547 [inlined]\n",
      "  [7] _solve(A::Matrix{Num}, b::Vector{Num}, do_simplify::Bool)\n",
      "    @ Symbolics ~/.julia/packages/Symbolics/BQlmn/src/linear_algebra.jl:121\n",
      "  [8] solve_for(eq::Vector{Any}, var::Vector{Num}; simplify::Bool, check::Bool)\n",
      "    @ Symbolics ~/.julia/packages/Symbolics/BQlmn/src/linear_algebra.jl:104\n",
      "  [9] solve_for(eq::Vector{Any}, var::Vector{Num})\n",
      "    @ Symbolics ~/.julia/packages/Symbolics/BQlmn/src/linear_algebra.jl:96\n",
      " [10] top-level scope\n",
      "    @ ~/github/quantum-open-systems-polynomial-sid/ZhangSarovar/jl_notebook_cell_df34fa98e69747e1a8f8a730347b8e2f_X51sZmlsZQ==.jl:2"
     ]
    }
   ],
   "source": [
    "# Solve the system symbolically\n",
    "sol = Symbolics.solve_for(equations, [ks1, ks2, ks3, as1, as2, as3, hs1, hs2, hs3])"
   ]
  },
  {
   "cell_type": "code",
   "execution_count": 119,
   "metadata": {},
   "outputs": [
    {
     "data": {
      "text/plain": [
       "Main.LiPoSID"
      ]
     },
     "metadata": {},
     "output_type": "display_data"
    }
   ],
   "source": [
    "include(\"../LiPoSID.jl\")"
   ]
  },
  {
   "cell_type": "code",
   "execution_count": 121,
   "metadata": {},
   "outputs": [
    {
     "data": {
      "text/latex": [
       "$$ (32.0 + 0.0im)κ_{1}^{2} + (56.0 + 0.0im)κ_{1}κ_{2} + (56.0 + 0.0im)κ_{1}κ_{3} + (32.0 + 0.0im)κ_{2}^{2} + (56.0 + 0.0im)κ_{2}κ_{3} + (32.0 + 0.0im)κ_{3}^{2} + (24.0 + 0.0im)a_{1}^{2} + (24.0 + 0.0im)a_{2}^{2} + (24.0 + 0.0im)a_{3}^{2} + (2.0 + 0.0im)h_{1}^{2} + (2.0 + 0.0im)h_{2}^{2} + (2.0 + 0.0im)h_{3}^{2} + (6.297887272727243 + 0.0im)κ_{1} + (3.11457699245671 + 0.0im)κ_{2} + (3.1031916057471554 + 0.0im)κ_{3} + (0.00023155339490666895 + 0.0im)a_{1} + (-0.0005628165274150426 + 0.0im)a_{2} + (6.328483672133771 + 0.0im)a_{3} + (0.01079624353573517 + 0.0im)h_{1} + (-0.07369977707941755 + 0.0im)h_{2} + (-100.6581463952266 + 0.0im)h_{3} + (1268.4082100163819 + 0.0im) $$"
      ],
      "text/plain": [
       "(32.0 + 0.0im)κ₁² + (56.0 + 0.0im)κ₁κ₂ + (56.0 + 0.0im)κ₁κ₃ + (32.0 + 0.0im)κ₂² + (56.0 + 0.0im)κ₂κ₃ + (32.0 + 0.0im)κ₃² + (24.0 + 0.0im)a₁² + (24.0 + 0.0im)a₂² + (24.0 + 0.0im)a₃² + (2.0 + 0.0im)h₁² + (2.0 + 0.0im)h₂² + (2.0 + 0.0im)h₃² + (6.297887272727243 + 0.0im)κ₁ + (3.11457699245671 + 0.0im)κ₂ + (3.1031916057471554 + 0.0im)κ₃ + (0.00023155339490666895 + 0.0im)a₁ + (-0.0005628165274150426 + 0.0im)a₂ + (6.328483672133771 + 0.0im)a₃ + (0.01079624353573517 + 0.0im)h₁ + (-0.07369977707941755 + 0.0im)h₂ + (-100.6581463952266 + 0.0im)h₃ + (1268.4082100163819 + 0.0im)"
      ]
     },
     "metadata": {},
     "output_type": "display_data"
    }
   ],
   "source": [
    "obj = LiPoSID.frobenius_norm2(A_c[1:3,1:4] - M[1:3,1:4])"
   ]
  },
  {
   "cell_type": "code",
   "execution_count": 122,
   "metadata": {},
   "outputs": [
    {
     "data": {
      "text/latex": [
       "$$ 32.0κ_{1}^{2} + 56.0κ_{1}κ_{2} + 56.0κ_{1}κ_{3} + 32.0κ_{2}^{2} + 56.0κ_{2}κ_{3} + 32.0κ_{3}^{2} + 24.0a_{1}^{2} + 24.0a_{2}^{2} + 24.0a_{3}^{2} + 2.0h_{1}^{2} + 2.0h_{2}^{2} + 2.0h_{3}^{2} + 6.297887272727243κ_{1} + 3.11457699245671κ_{2} + 3.1031916057471554κ_{3} + 0.00023155339490666895a_{1} - 0.0005628165274150426a_{2} + 6.328483672133771a_{3} + 0.01079624353573517h_{1} - 0.07369977707941755h_{2} - 100.6581463952266h_{3} + 1268.4082100163819 $$"
      ],
      "text/plain": [
       "32.0κ₁² + 56.0κ₁κ₂ + 56.0κ₁κ₃ + 32.0κ₂² + 56.0κ₂κ₃ + 32.0κ₃² + 24.0a₁² + 24.0a₂² + 24.0a₃² + 2.0h₁² + 2.0h₂² + 2.0h₃² + 6.297887272727243κ₁ + 3.11457699245671κ₂ + 3.1031916057471554κ₃ + 0.00023155339490666895a₁ - 0.0005628165274150426a₂ + 6.328483672133771a₃ + 0.01079624353573517h₁ - 0.07369977707941755h₂ - 100.6581463952266h₃ + 1268.4082100163819"
      ]
     },
     "metadata": {},
     "output_type": "display_data"
    }
   ],
   "source": [
    "obj = sum(real(coef) * mon for (coef, mon) in zip(coefficients(obj), monomials(obj)))"
   ]
  },
  {
   "cell_type": "code",
   "execution_count": 123,
   "metadata": {},
   "outputs": [
    {
     "data": {
      "text/plain": [
       "min_cs_tssos (generic function with 1 method)"
      ]
     },
     "metadata": {},
     "output_type": "display_data"
    }
   ],
   "source": [
    "using TSSOS\n",
    "\n",
    "function min_cs_tssos(p, constrs)\n",
    "\n",
    "    coeffs = coefficients(p)\n",
    "    reg_coef = 0\n",
    "\n",
    "    pop =[p+reg_coef*sum(variables(p).^2), constrs...] ./ maximum(abs.(coeffs))\n",
    "\n",
    "    d = maxdegree(p)\n",
    "    \n",
    "    # Initial optimization step\n",
    "    opt, sol, data = cs_tssos_first(pop, variables(pop), d; solution=true, QUIET=true)\n",
    "    ref_sol, flag = TSSOS.refine_sol(opt, sol, data; QUIET=true)\n",
    "    prev_opt, prev_sol, prev_data = opt, sol, data \n",
    "\n",
    "    # Check if the solution needs further refinement\n",
    "    if flag != 0\n",
    "        while ~isnothing(sol) && flag != 0\n",
    "            prev_opt, prev_sol, prev_data = opt, sol, data\n",
    "            opt, sol, data = cs_tssos_higher!(data; solution=true, QUIET=true) \n",
    "        end\n",
    "        ref_sol, flag = TSSOS.refine_sol(prev_opt, prev_sol, prev_data; QUIET=true)\n",
    "    end\n",
    "\n",
    "    solution = variables(p) => ref_sol\n",
    "\n",
    "    if flag == 0 \n",
    "        status_name = \"GLOBAL\"\n",
    "    else\n",
    "        status_name = \"LOCAL/FAIL\"\n",
    "    end\n",
    "\n",
    "    return solution, status_name\n",
    "\n",
    "end"
   ]
  },
  {
   "cell_type": "code",
   "execution_count": 124,
   "metadata": {},
   "outputs": [
    {
     "data": {
      "text/plain": [
       "7-element Vector{Polynomial{true, Int64}}:\n",
       " h₃\n",
       " κ₁\n",
       " κ₂\n",
       " κ₃\n",
       " κ₁ + κ₂ + κ₃\n",
       " κ₁κ₂ + κ₁κ₃ + κ₂κ₃ + a₁² - a₂² - a₃²\n",
       " κ₁κ₂κ₃ - κ₁a₁² - κ₂a₂² - κ₃a₃²"
      ]
     },
     "metadata": {},
     "output_type": "display_data"
    }
   ],
   "source": [
    "constr1 = κ₁ + κ₂ + κ₃ \n",
    "constr2 = κ₁*κ₂ + κ₃*κ₁ + κ₂*κ₃ - - a₁^2 - a₂^2 - a₃^2\n",
    "constr3 = κ₁*κ₂*κ₃ - κ₁*a₁^2 - κ₂*a₂^2 - κ₃*a₃^2\n",
    "\n",
    "constraints = [ h₃, κ₁, κ₂, κ₃, constr1, constr2, constr3] "
   ]
  },
  {
   "cell_type": "code",
   "execution_count": 125,
   "metadata": {},
   "outputs": [
    {
     "name": "stdout",
     "output_type": "stream",
     "text": [
      "*********************************** TSSOS ***********************************\n",
      "TSSOS is launching...\n",
      "-----------------------------------------------------------------------------\n",
      "The clique sizes of varibles:\n",
      "[6, 1]\n",
      "[1, 3]\n",
      "-----------------------------------------------------------------------------\n",
      "optimum = 0.0013334314399787062\n",
      "Global optimality certified with relative optimality gap 0.007554%!\n",
      "\n",
      "******************************************************************************\n",
      "This program contains Ipopt, a library for large-scale nonlinear optimization.\n",
      " Ipopt is released as open source code under the Eclipse Public License (EPL).\n",
      "         For more information visit https://github.com/coin-or/Ipopt\n",
      "******************************************************************************\n",
      "\n",
      "Global optimality certified with relative optimality gap 0.000048%!\n"
     ]
    },
    {
     "data": {
      "text/plain": [
       "(PolyVar{true}[κ₁, κ₂, κ₃, a₁, a₂, a₃, h₁, h₂, h₃] => [-1.1792292192992248e-5, -1.2490554454386098e-6, 1.5337649159387869e-6, -0.06582885776966847, 5.862887378529188e-6, -0.0659241239414257, -0.0026990608839337926, 0.018424944269854387, 25.164536630383886], \"GLOBAL\")"
      ]
     },
     "metadata": {},
     "output_type": "display_data"
    }
   ],
   "source": [
    "sol, st = min_cs_tssos(obj, constraints)"
   ]
  },
  {
   "cell_type": "code",
   "execution_count": 126,
   "metadata": {},
   "outputs": [
    {
     "data": {
      "text/plain": [
       "2×2 Matrix{ComplexF64}:\n",
       " -1.17923e-5+0.0im                0.0+0.0659241im\n",
       "         0.0-0.0659241im  -1.24906e-6+0.0im"
      ]
     },
     "metadata": {},
     "output_type": "display_data"
    }
   ],
   "source": [
    "Cˢⁱᵈ = convert.(ComplexF64,subs(Cˢʸᵐᵇ, sol))\n",
    "Cˢⁱᵈ[1:2,1:2]"
   ]
  },
  {
   "cell_type": "code",
   "execution_count": 127,
   "metadata": {},
   "outputs": [
    {
     "data": {
      "text/plain": [
       "2×2 Matrix{ComplexF64}:\n",
       " -1.24906e-6+0.0im               0.0+0.0658289im\n",
       "         0.0-0.0658289im  1.53376e-6+0.0im"
      ]
     },
     "metadata": {},
     "output_type": "display_data"
    }
   ],
   "source": [
    "Cˢⁱᵈ[2:3,2:3]"
   ]
  },
  {
   "cell_type": "code",
   "execution_count": 128,
   "metadata": {},
   "outputs": [
    {
     "data": {
      "text/plain": [
       "2×2 Matrix{ComplexF64}:\n",
       "     12.5823+0.0im         -0.00134953+0.00921247im\n",
       " -0.00134953-0.00921247im     -12.5823+0.0im"
      ]
     },
     "metadata": {},
     "output_type": "display_data"
    }
   ],
   "source": [
    "Hˢⁱᵈ = convert.(ComplexF64,subs(Hˢʸᵐᵇ, sol))"
   ]
  }
 ],
 "metadata": {
  "kernelspec": {
   "display_name": "Julia 1.10.2",
   "language": "julia",
   "name": "julia-1.10"
  },
  "language_info": {
   "file_extension": ".jl",
   "mimetype": "application/julia",
   "name": "julia",
   "version": "1.10.2"
  }
 },
 "nbformat": 4,
 "nbformat_minor": 2
}
