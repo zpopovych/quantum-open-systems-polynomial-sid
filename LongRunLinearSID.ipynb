{
 "cells": [
  {
   "cell_type": "code",
   "execution_count": 1,
   "metadata": {},
   "outputs": [],
   "source": [
    "include(\"LiPoSID.jl\")\n",
    "using QuantumOptics\n",
    "basis = NLevelBasis(2)\n",
    "using LinearAlgebra\n",
    "using Plots\n",
    "\n",
    "using Dates\n",
    "using HDF5"
   ]
  },
  {
   "cell_type": "code",
   "execution_count": 2,
   "metadata": {},
   "outputs": [
    {
     "data": {
      "text/plain": [
       "DMD_reconstruct (generic function with 1 method)"
      ]
     },
     "metadata": {},
     "output_type": "display_data"
    }
   ],
   "source": [
    "function DMD_SVD(Y, r, Δt)\n",
    "    \n",
    "    X₋ = Y[:,1:end-1]\n",
    "    X₊ = Y[:,2:end]\n",
    "    U, Σ, V = svd(X₋)\n",
    "    \n",
    "    Uʳ = U[:, 1:r] #12 x 4\n",
    "    Σʳ = diagm(Σ[1:r])\n",
    "    Vʳ = V[:, 1:r]\n",
    "    Ã = Uʳ' * X₊ * Vʳ / Σʳ\n",
    "    Λ, W = eigen(Ã)\n",
    "    Φ = X₊ * Vʳ / Σʳ * W\n",
    "    Ω = log.(Λ)/Δt\n",
    "    x₁ = X₋[:,1]\n",
    "    b₁ = Φ \\ x₁\n",
    "    \n",
    "    return Φ, Ω, b₁, Ã\n",
    "\n",
    "end   \n",
    "\n",
    "function DMD_reconstruct(Φ, Ω, b₁, Δt, steps)\n",
    "    \n",
    "    Yᵈᵐᵈ = hcat([real.(Φ * (b₁ .* exp.(Ω * (i * Δt)))) for i in 0:steps]...)\n",
    "    \n",
    "    return Yᵈᵐᵈ\n",
    "\n",
    "end"
   ]
  },
  {
   "cell_type": "code",
   "execution_count": 3,
   "metadata": {},
   "outputs": [
    {
     "data": {
      "text/plain": [
       "find_smallest_second_index (generic function with 1 method)"
      ]
     },
     "metadata": {},
     "output_type": "display_data"
    }
   ],
   "source": [
    "function find_smallest_second_index(Y, threshold)\n",
    "    # Find all indices where abs(x) > 1 + threshold\n",
    "    indices = findall(x -> abs(x) > 1 + threshold, Y)\n",
    "\n",
    "    # Extract the second (column) indices\n",
    "    second_indices = [ind[2] for ind in indices]\n",
    "\n",
    "    # Return the smallest second index if found, otherwise return nothing\n",
    "    if !isempty(second_indices)\n",
    "        return minimum(second_indices)\n",
    "    else\n",
    "        return nothing  # No elements found matching the condition\n",
    "    end\n",
    "end"
   ]
  },
  {
   "cell_type": "code",
   "execution_count": 40,
   "metadata": {},
   "outputs": [
    {
     "data": {
      "text/plain": [
       "DMD_ERA_physicality (generic function with 1 method)"
      ]
     },
     "metadata": {},
     "output_type": "display_data"
    }
   ],
   "source": [
    "function DMD_ERA_physicality(γᵢ, n, time_multiplier, threshold)\n",
    "        data_dir = \"../DATA/\"\n",
    "    \n",
    "        γᵢ = string(γᵢ)\n",
    "        γᵢᶠ= parse(Float64, γᵢ)\n",
    "    \n",
    "        tᵍᵉˣʸ , ρᵍᵉˣʸ  = LiPoSID.read_GEXY_timeevolution(evol_data_file_name, γᵢ)\n",
    "\n",
    "        ρᵍ, ρᵉ, ρˣ, ρʸ = ρᵍᵉˣʸ\n",
    "        tᵍ, tᵉ, tˣ, tʸ = tᵍᵉˣʸ\n",
    "        \n",
    "        lᵉ = length(ρᵉ); lᵍ = length(ρᵍ); lˣ = length(ρˣ); lʸ = length(ρʸ)\n",
    "        lᵐᵃˣ = min(lᵉ, lᵍ,  lˣ, lʸ)  #choose time limit by shortest series\n",
    "    \n",
    "        tᵉᶠ = convert.(Float64, tᵉ); tᵍᶠ = convert.(Float64, tᵍ); \n",
    "        tˣᶠ = convert.(Float64, tˣ); tʸᶠ = convert.(Float64, tʸ); \n",
    "    \n",
    "        bᵉ = LiPoSID.bloch(ρᵉ[1:lᵐᵃˣ])\n",
    "        bᵍ = LiPoSID.bloch(ρᵍ[1:lᵐᵃˣ])\n",
    "        bˣ = LiPoSID.bloch(ρˣ[1:lᵐᵃˣ])\n",
    "        bʸ = LiPoSID.bloch(ρʸ[1:lᵐᵃˣ])\n",
    "    \n",
    "        Y = [bᵉ; bᵍ; bˣ; bʸ]\n",
    "    \n",
    "        t = convert.(Float64, tᵉᶠ[1:lᵐᵃˣ])\n",
    "        Δt = t[2]-t[1]\n",
    "\n",
    "        # DMD (Dynamic mode decomposition)\n",
    "        \n",
    "        Φ, Ω, b₁, Aᴰᴹᴰ = DMD_SVD(Y, n, Δt)\n",
    "\n",
    "        Aᴰᴹᴰc = log(Aᴰᴹᴰ)/Δt\n",
    "        Λᴰᴹᴰ, Wᴰᴹᴰ = eigen(Aᴰᴹᴰc)\n",
    "\n",
    "        Yᴰᴹᴰ = DMD_reconstruct(Φ, Ω, b₁, Δt, length(t)*time_multiplier)\n",
    "\n",
    "        index_DMD = find_smallest_second_index(Yᴰᴹᴰ, threshold)\n",
    "\n",
    "        # Check if index_ERA is nothing\n",
    "        if index_DMD !== nothing\n",
    "            # Perform the calculation if a valid index is found\n",
    "            inverse_gamma_time_DMD = index_DMD * Δt * γᵢᶠ\n",
    "            println(\"inverse_gamma_time_DMD: \", inverse_gamma_time_DMD)\n",
    "        else\n",
    "            inverse_gamma_time_DMD = []\n",
    "            # Handle the case where no valid index was found\n",
    "            println(\"No valid index found, inverse_gamma_time_DMD cannot be calculated.\")\n",
    "        end\n",
    "            \n",
    "    \n",
    "        #bᵉᴰᴹᴰ = Yᴰᴹᴰ[1:3,:]\n",
    "        #bᵍᴰᴹᴰ = Yᴰᴹᴰ[4:6,:]\n",
    "        #bˣᴰᴹᴰ = Yᴰᴹᴰ[7:9,:]\n",
    "        #bʸᴰᴹᴰ = Yᴰᴹᴰ[10:12,:]\n",
    "    \n",
    "        #ρᵉᴰᴹᴰ = LiPoSID.rho_series_from_bloch(bᵉᴰᴹᴰ)\n",
    "        #ρᵍᴰᴹᴰ = LiPoSID.rho_series_from_bloch(bᵍᴰᴹᴰ)\n",
    "        #ρˣᴰᴹᴰ = LiPoSID.rho_series_from_bloch(bˣᴰᴹᴰ)\n",
    "        #ρʸᴰᴹᴰ = LiPoSID.rho_series_from_bloch(bʸᴰᴹᴰ)\n",
    "    \n",
    "        #ρᴰᴹᴰ = [ρᵉᴰᴹᴰ, ρᵍᴰᴹᴰ, ρˣᴰᴹᴰ, ρʸᴰᴹᴰ]\n",
    "    \n",
    "        # ERA (Eigenvalue Realization Algorithm)\n",
    "    \n",
    "        Aᴱᴿᴬ, Cᴱᴿᴬ, x₀ᴱᴿᴬ, Σᴱᴿᴬ = LiPoSID.lsid_n_ACx0Σ(Y, Δt, n) \n",
    "\n",
    "        Aᴱᴿᴬc = log(Aᴱᴿᴬ)/Δt\n",
    "\n",
    "        Λᴱᴿᴬ, Wᴱᴿᴬ = eigen(Aᴱᴿᴬc)\n",
    "    \n",
    "        Yᴱᴿᴬ = LiPoSID.propagate_LTI(Aᴱᴿᴬ, Cᴱᴿᴬ, x₀ᴱᴿᴬ, n, length(t)*time_multiplier)\n",
    "\n",
    "        index_ERA = find_smallest_second_index(Yᴱᴿᴬ, threshold)\n",
    "\n",
    "        # Check if index_ERA is nothing\n",
    "        if index_ERA !== nothing\n",
    "            # Perform the calculation if a valid index is found\n",
    "            inverse_gamma_time_ERA = index_ERA * Δt * γᵢᶠ\n",
    "            println(\"inverse_gamma_time_ERA: \", inverse_gamma_time_ERA)\n",
    "        else\n",
    "            inverse_gamma_time_ERA = []\n",
    "            # Handle the case where no valid index was found\n",
    "            println(\"No valid index found, inverse_gamma_time_ERA cannot be calculated.\")\n",
    "        end\n",
    "    \n",
    "        #bᵉᴱᴿᴬ = Yᴱᴿᴬ[1:3,:]\n",
    "        #bᵍᴱᴿᴬ = Yᴱᴿᴬ[4:6,:]\n",
    "        #bˣᴱᴿᴬ = Yᴱᴿᴬ[7:9,:]\n",
    "        #bʸᴱᴿᴬ = Yᴱᴿᴬ[10:12,:]\n",
    "    \n",
    "        #ρᵉᴱᴿᴬ = LiPoSID.rho_series_from_bloch(bᵉᴱᴿᴬ)\n",
    "        #ρᵍᴱᴿᴬ = LiPoSID.rho_series_from_bloch(bᵍᴱᴿᴬ)\n",
    "        #ρˣᴱᴿᴬ = LiPoSID.rho_series_from_bloch(bˣᴱᴿᴬ)\n",
    "        #ρʸᴱᴿᴬ = LiPoSID.rho_series_from_bloch(bʸᴱᴿᴬ)\n",
    "\n",
    "        #ρᴱᴿᴬ = [ρᵉᴱᴿᴬ, ρᵍᴱᴿᴬ, ρˣᴱᴿᴬ, ρʸᴱᴿᴬ]\n",
    "        \n",
    "        return inverse_gamma_time_DMD, inverse_gamma_time_ERA\n",
    "        \n",
    "    end"
   ]
  },
  {
   "cell_type": "code",
   "execution_count": 51,
   "metadata": {},
   "outputs": [
    {
     "data": {
      "text/plain": [
       "\"0.079477\""
      ]
     },
     "metadata": {},
     "output_type": "display_data"
    }
   ],
   "source": [
    "evol_data_file_name = \"DATA/ALL_GAMMAS_B4_D10.h5\"\n",
    "γ = [ \"0.079477\",  \"0.25133\", \"0.79477\", \"2.5133\", \"7.9477\", \"25.133\",  \"79.477\", \"251.33\"]\n",
    "γᵢ = γ[1]"
   ]
  },
  {
   "cell_type": "code",
   "execution_count": 52,
   "metadata": {},
   "outputs": [
    {
     "name": "stdout",
     "output_type": "stream",
     "text": [
      "No valid index found, inverse_gamma_time_DMD cannot be calculated.\n",
      "inverse_gamma_time_ERA: 15.884273220000004\n"
     ]
    },
    {
     "data": {
      "text/plain": [
       "(Any[], 15.884273220000004)"
      ]
     },
     "metadata": {},
     "output_type": "display_data"
    }
   ],
   "source": [
    "inverse_gamma_time_DMD, inverse_gamma_time_ERA = DMD_ERA_physicality(γᵢ, 4, 100, 1e-6)"
   ]
  },
  {
   "cell_type": "code",
   "execution_count": 56,
   "metadata": {},
   "outputs": [
    {
     "name": "stdout",
     "output_type": "stream",
     "text": [
      "Times in 1/γ when model predictions bacame unphysical:\n",
      "γ=0.079477\n",
      "No valid index found, inverse_gamma_time_DMD cannot be calculated.\n",
      "inverse_gamma_time_ERA: 9.624664700000002\n",
      "DMD:Any[]\n",
      "ERA:9.624664700000002\n",
      "γ=0.25133\n",
      "No valid index found, inverse_gamma_time_DMD cannot be calculated.\n",
      "No valid index found, inverse_gamma_time_ERA cannot be calculated.\n",
      "DMD:Any[]\n",
      "ERA:Any[]\n",
      "γ=0.79477\n",
      "No valid index found, inverse_gamma_time_DMD cannot be calculated.\n",
      "inverse_gamma_time_ERA: 2.282976825000002\n",
      "DMD:Any[]\n",
      "ERA:2.282976825000002\n",
      "γ=2.5133\n",
      "No valid index found, inverse_gamma_time_DMD cannot be calculated.\n",
      "No valid index found, inverse_gamma_time_ERA cannot be calculated.\n",
      "DMD:Any[]\n",
      "ERA:Any[]\n",
      "γ=7.9477\n",
      "No valid index found, inverse_gamma_time_DMD cannot be calculated.\n",
      "inverse_gamma_time_ERA: 23.5251919999997\n",
      "DMD:Any[]\n",
      "ERA:23.5251919999997\n",
      "γ=25.133\n",
      "inverse_gamma_time_DMD: 0.00125665\n",
      "inverse_gamma_time_ERA: 0.00125665\n",
      "DMD:0.00125665\n",
      "ERA:0.00125665\n",
      "γ=79.477\n",
      "inverse_gamma_time_DMD: 0.00397385\n",
      "inverse_gamma_time_ERA: 0.00397385\n",
      "DMD:0.00397385\n",
      "ERA:0.00397385\n",
      "γ=251.33\n",
      "inverse_gamma_time_DMD: 0.012566500000000001\n",
      "inverse_gamma_time_ERA: 0.012566500000000001\n",
      "DMD:0.012566500000000001\n",
      "ERA:0.012566500000000001\n"
     ]
    }
   ],
   "source": [
    "println(\"Times in 1/γ when model predictions bacame unphysical:\")\n",
    "\n",
    "DMD_unphysical_times = []\n",
    "ERA_unphysical_times = []\n",
    "\n",
    "for γᵢ in γ\n",
    "    println(\"γ=\",γᵢ)\n",
    "    inverse_gamma_time_DMD, inverse_gamma_time_ERA = DMD_ERA_physicality(γᵢ, 5, 100, 1e-6)\n",
    "    push!(DMD_unphysical_times, inverse_gamma_time_DMD)\n",
    "    push!(ERA_unphysical_times, inverse_gamma_time_ERA)\n",
    "    println(\"DMD:\", inverse_gamma_time_DMD)\n",
    "    println(\"ERA:\", inverse_gamma_time_ERA)\n",
    "end"
   ]
  },
  {
   "cell_type": "code",
   "execution_count": 57,
   "metadata": {},
   "outputs": [
    {
     "data": {
      "text/plain": [
       "8-element Vector{Any}:\n",
       "  Any[]\n",
       "  Any[]\n",
       "  Any[]\n",
       "  Any[]\n",
       "  Any[]\n",
       " 0.00125665\n",
       " 0.00397385\n",
       " 0.012566500000000001"
      ]
     },
     "metadata": {},
     "output_type": "display_data"
    }
   ],
   "source": [
    "DMD_unphysical_times"
   ]
  },
  {
   "cell_type": "code",
   "execution_count": 58,
   "metadata": {},
   "outputs": [
    {
     "data": {
      "text/plain": [
       "8-element Vector{Any}:\n",
       "  9.624664700000002\n",
       "   Any[]\n",
       "  2.282976825000002\n",
       "   Any[]\n",
       " 23.5251919999997\n",
       "  0.00125665\n",
       "  0.00397385\n",
       "  0.012566500000000001"
      ]
     },
     "metadata": {},
     "output_type": "display_data"
    }
   ],
   "source": [
    "ERA_unphysical_times"
   ]
  }
 ],
 "metadata": {
  "kernelspec": {
   "display_name": "Julia 1.10.2",
   "language": "julia",
   "name": "julia-1.10"
  },
  "language_info": {
   "file_extension": ".jl",
   "mimetype": "application/julia",
   "name": "julia",
   "version": "1.10.2"
  }
 },
 "nbformat": 4,
 "nbformat_minor": 2
}
